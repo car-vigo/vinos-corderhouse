{
 "cells": [
  {
   "cell_type": "markdown",
   "metadata": {},
   "source": [
    "# 2.0 Merge dataset \n",
    "### feature engineering"
   ]
  },
  {
   "cell_type": "markdown",
   "metadata": {},
   "source": [
    "Procederemos a mergear los dos datasets trabajados en el data wrangling. \n",
    "- df_wine_clean.csv\n",
    "- df_wine_spa_clean.csv\n",
    "  "
   ]
  },
  {
   "cell_type": "markdown",
   "metadata": {},
   "source": [
    "## Import libraries"
   ]
  },
  {
   "cell_type": "code",
   "execution_count": 125,
   "metadata": {},
   "outputs": [
    {
     "name": "stdout",
     "output_type": "stream",
     "text": [
      "The autoreload extension is already loaded. To reload it, use:\n",
      "  %reload_ext autoreload\n"
     ]
    }
   ],
   "source": [
    "# Sirve para actualizar el modulo despues de haber cambiado algo en el codigo de los modulos importados\n",
    "%load_ext autoreload\n",
    "%autoreload 2"
   ]
  },
  {
   "cell_type": "code",
   "execution_count": 2,
   "metadata": {},
   "outputs": [],
   "source": [
    "# Imports\n",
    "import pandas as pd\n",
    "import numpy as np\n",
    "import matplotlib.pyplot as plt\n",
    "import seaborn as sns\n",
    "import missingno as msno\n",
    "%matplotlib inline\n",
    "# Modulo para trabajar con los directorios del proyecto\n",
    "from src.utils.paths import data_dir\n",
    "from src.visualization.word_cloud import words_cloud\n",
    "from src.visualization.analysis_univariate import univariate_analysis\n",
    "import src.utils.statistics as stats\n",
    "from src.utils.paths import references_dir\n",
    "from src.visualization.word_cloud import words_cloud_maskable_image"
   ]
  },
  {
   "cell_type": "markdown",
   "metadata": {},
   "source": [
    "## Read Data"
   ]
  },
  {
   "cell_type": "code",
   "execution_count": 4,
   "metadata": {},
   "outputs": [
    {
     "data": {
      "text/plain": [
       "(WindowsPath('c:/Users/cvigo/data-projects/proyecto-final-vinos/vinos-corderhouse/data/intermediate/df_wine_clean.csv'),\n",
       " WindowsPath('c:/Users/cvigo/data-projects/proyecto-final-vinos/vinos-corderhouse/data/intermediate/df_wine_spa_clean.csv'))"
      ]
     },
     "execution_count": 4,
     "metadata": {},
     "output_type": "execute_result"
    }
   ],
   "source": [
    "# Obtenemos la ruta de los csv's que vamos a utilizar\n",
    "WINE_CLEAN_CSV_PATH = data_dir(\"intermediate\", \"df_wine_clean.csv\")\n",
    "WINES_SPA_CLEAN_CSV_PATH = data_dir(\"intermediate\", \"df_wine_spa_clean.csv\")\n",
    "\n",
    "WINE_CLEAN_CSV_PATH , WINES_SPA_CLEAN_CSV_PATH"
   ]
  },
  {
   "cell_type": "markdown",
   "metadata": {},
   "source": [
    "### SETUP"
   ]
  },
  {
   "cell_type": "code",
   "execution_count": 5,
   "metadata": {},
   "outputs": [],
   "source": [
    "# Leemos los csv's y los guardamos en un dataframe\n",
    "df_wine= pd.read_csv(WINE_CLEAN_CSV_PATH)\n",
    "df_wine_spa = pd.read_csv(WINES_SPA_CLEAN_CSV_PATH)"
   ]
  },
  {
   "cell_type": "code",
   "execution_count": 6,
   "metadata": {},
   "outputs": [
    {
     "name": "stdout",
     "output_type": "stream",
     "text": [
      "El shape de df_wine es: (5013, 13)\n",
      "El shape de df_wine_spa es: (5558, 8)\n"
     ]
    }
   ],
   "source": [
    "print(f\"El shape de df_wine es: {df_wine.shape}\")\n",
    "print(f\"El shape de df_wine_spa es: {df_wine_spa.shape}\")"
   ]
  },
  {
   "cell_type": "markdown",
   "metadata": {},
   "source": [
    "Como se comento en notebooks anteriores, ambos datasets se obtuvieron de distintas fuentes, por lo que no habra columna comun en ambos para utilizarla para mergear, por lo que trabajaremos con los indices de ambos dataframes."
   ]
  },
  {
   "cell_type": "markdown",
   "metadata": {},
   "source": [
    "Para eso necesitamos equiparar la cantidad de filas de ambos datasets.\n",
    "Como df_wine_spa es el que mas filas tiene, le elminaremos la diferencia de filas."
   ]
  },
  {
   "cell_type": "code",
   "execution_count": 7,
   "metadata": {},
   "outputs": [
    {
     "name": "stdout",
     "output_type": "stream",
     "text": [
      "La diferencia de filas entre df_wine y df_wine_spa es: 545\n"
     ]
    }
   ],
   "source": [
    "difference = df_wine_spa.shape[0] - df_wine.shape[0] \n",
    "print(f\"La diferencia de filas entre df_wine y df_wine_spa es: {difference}\")"
   ]
  },
  {
   "cell_type": "markdown",
   "metadata": {},
   "source": [
    "## Equiparar los dataframes"
   ]
  },
  {
   "cell_type": "markdown",
   "metadata": {},
   "source": [
    "Cuales 545 registros sacamos, puede ser muy interesante. En este caso elegirimos sacar las filas cuyos valores en las columnas categoricas sean los menos frecuentes"
   ]
  },
  {
   "cell_type": "code",
   "execution_count": 8,
   "metadata": {},
   "outputs": [],
   "source": [
    "# Declaramos una lista vacia para almacenar los indices de los outliers a eliminar\n",
    "index_rows_to_drop = []"
   ]
  },
  {
   "cell_type": "markdown",
   "metadata": {},
   "source": [
    "### Winery"
   ]
  },
  {
   "cell_type": "code",
   "execution_count": 9,
   "metadata": {},
   "outputs": [
    {
     "data": {
      "text/plain": [
       "Cal Batllet - Celler Ripoll Sans      1\n",
       "Castell del Remei                     1\n",
       "Valdubon                              1\n",
       "Loess                                 1\n",
       "Olivardots                            1\n",
       "                                   ... \n",
       "Losada                              206\n",
       "Artadi                              211\n",
       "Sierra Cantabria                    212\n",
       "La Rioja Alta                       213\n",
       "Contino                             410\n",
       "Name: winery, Length: 368, dtype: int64"
      ]
     },
     "execution_count": 9,
     "metadata": {},
     "output_type": "execute_result"
    }
   ],
   "source": [
    "# Verificamos los valores unicos de una columna categorica que tenemos: winery de df_wine_spa\n",
    "winery_counts = df_wine_spa['winery'].value_counts().sort_values(ascending=True)\n",
    "winery_counts"
   ]
  },
  {
   "cell_type": "code",
   "execution_count": 10,
   "metadata": {},
   "outputs": [
    {
     "data": {
      "text/plain": [
       "(508, 8)"
      ]
     },
     "execution_count": 10,
     "metadata": {},
     "output_type": "execute_result"
    }
   ],
   "source": [
    "#Obtenemos la lista de los 30 winery que solo tengan 3 o menos registros\n",
    "winery_less_common = winery_counts[winery_counts <= 4]\n",
    "df_wine_spa_less_common_winery = df_wine_spa[df_wine_spa['winery'].isin(winery_less_common.index)]\n",
    "df_wine_spa_less_common_winery.shape"
   ]
  },
  {
   "cell_type": "code",
   "execution_count": 11,
   "metadata": {},
   "outputs": [
    {
     "name": "stdout",
     "output_type": "stream",
     "text": [
      "La cantidad de columnas a eliminar hasta el momento es de 508\n",
      "La cantidad de filas que faltan eliminar es de 37\n"
     ]
    }
   ],
   "source": [
    "# Considerando estos registros los agregamos a la lista de filas que vamos a eliminar\n",
    "index_rows_to_drop.extend(df_wine_spa_less_common_winery.index)\n",
    "print(f\"La cantidad de columnas a eliminar hasta el momento es de {len(set(index_rows_to_drop))}\")\n",
    "print(f\"La cantidad de filas que faltan eliminar es de {difference - len(set(index_rows_to_drop))}\")"
   ]
  },
  {
   "cell_type": "markdown",
   "metadata": {},
   "source": [
    "### Wines"
   ]
  },
  {
   "cell_type": "code",
   "execution_count": 12,
   "metadata": {},
   "outputs": [
    {
     "data": {
      "text/plain": [
       "Juan Piernas Finca El Paso Malo Monastrell      1\n",
       "Nivel                                           1\n",
       "Cerro Las Cuevas Seleccion Terroir              1\n",
       "Graciano                                        1\n",
       "Diego Magana                                    1\n",
       "                                             ... \n",
       "El Viejo                                      202\n",
       "Corimbo I                                     202\n",
       "Rioja Reserva                                 214\n",
       "Gran Reserva                                  407\n",
       "Reserva                                       419\n",
       "Name: wine, Length: 579, dtype: int64"
      ]
     },
     "execution_count": 12,
     "metadata": {},
     "output_type": "execute_result"
    }
   ],
   "source": [
    "# Verificamos los valores unicos de una columna categorica que tenemos: wine de df_wine_spa\n",
    "wine_counts = df_wine_spa['wine'].value_counts().sort_values(ascending=True)\n",
    "wine_counts"
   ]
  },
  {
   "cell_type": "code",
   "execution_count": 13,
   "metadata": {},
   "outputs": [
    {
     "data": {
      "text/plain": [
       "(557, 8)"
      ]
     },
     "execution_count": 13,
     "metadata": {},
     "output_type": "execute_result"
    }
   ],
   "source": [
    "#Obtenemos la lista de los winery que solo tengan menos de 2 registros\n",
    "wine_less_common = wine_counts[wine_counts <= 2]\n",
    "df_wine_spa_less_common_wine = df_wine_spa[df_wine_spa['wine'].isin(wine_less_common.index)]\n",
    "df_wine_spa_less_common_wine.shape"
   ]
  },
  {
   "cell_type": "markdown",
   "metadata": {},
   "source": [
    "Como nos pasamos de la diferncia para equiparar los dataframes, restamos lo que nos falta\n"
   ]
  },
  {
   "cell_type": "code",
   "execution_count": 14,
   "metadata": {},
   "outputs": [
    {
     "name": "stdout",
     "output_type": "stream",
     "text": [
      "La cantidad de indices que encontramos y que no estan en index_rows_to_drop es 164\n"
     ]
    }
   ],
   "source": [
    "# identificamos la cantidad de indices que no estan en index_rows_to_drop\n",
    "temp_index = df_wine_spa_less_common_wine.index.difference(index_rows_to_drop)\n",
    "print(f\"La cantidad de indices que encontramos y que no estan en index_rows_to_drop es {len(temp_index)}\")"
   ]
  },
  {
   "cell_type": "code",
   "execution_count": 15,
   "metadata": {},
   "outputs": [
    {
     "data": {
      "text/plain": [
       "37"
      ]
     },
     "execution_count": 15,
     "metadata": {},
     "output_type": "execute_result"
    }
   ],
   "source": [
    "# Determinamos cuanto es lo que nos falta para completar la diferencia de filas\n",
    "how_much_left = difference - len(set(index_rows_to_drop))\n",
    "how_much_left"
   ]
  },
  {
   "cell_type": "code",
   "execution_count": 16,
   "metadata": {},
   "outputs": [
    {
     "data": {
      "text/plain": [
       "(37, 8)"
      ]
     },
     "execution_count": 16,
     "metadata": {},
     "output_type": "execute_result"
    }
   ],
   "source": [
    "# Modificamos df_wine_spa_less_common_wine a la cantidad maxima de filas que faltan \n",
    "max_quantity_index_drop = how_much_left if temp_index.size > how_much_left else temp_index\n",
    "df_wine_spa_less_common_wine = df_wine_spa_less_common_wine.loc[temp_index].head(max_quantity_index_drop)\n",
    "df_wine_spa_less_common_wine.shape"
   ]
  },
  {
   "cell_type": "code",
   "execution_count": 17,
   "metadata": {},
   "outputs": [
    {
     "name": "stdout",
     "output_type": "stream",
     "text": [
      "La cantidad de columnas a eliminar hasta el momento es de 545\n",
      "La cantidad de filas que faltan eliminar es de 0\n"
     ]
    }
   ],
   "source": [
    "# Considerando estos registros los agregamos a la lista de filas que vamos a eliminar\n",
    "index_rows_to_drop.extend(df_wine_spa_less_common_wine.index)\n",
    "print(f\"La cantidad de columnas a eliminar hasta el momento es de {len(set(index_rows_to_drop))}\")\n",
    "print(f\"La cantidad de filas que faltan eliminar es de {difference - len(set(index_rows_to_drop))}\")\n"
   ]
  },
  {
   "cell_type": "code",
   "execution_count": 18,
   "metadata": {},
   "outputs": [
    {
     "name": "stdout",
     "output_type": "stream",
     "text": [
      "La cantidad de columnas a eliminar es de 545\n",
      "Dataframe limpio\n",
      "(5013, 8)\n"
     ]
    }
   ],
   "source": [
    "#Eliminamos las filas que contienen outliers y reseteamos el index\n",
    "print(f\"La cantidad de columnas a eliminar es de {len(set(index_rows_to_drop))}\")\n",
    "df_wine_spa.drop(index=index_rows_to_drop, inplace=True, axis=0)\n",
    "df_wine_spa.reset_index(drop=True, inplace=True)\n",
    "print(\"Dataframe limpio\")\n",
    "print(f\"{df_wine_spa.shape}\")\n"
   ]
  },
  {
   "cell_type": "code",
   "execution_count": 19,
   "metadata": {},
   "outputs": [],
   "source": [
    "# Por ultimo guardamos el dataframe limpio en un archivo csv\n",
    "WINE_SPA_EQUAL_CSV_PATH = data_dir(\"intermediate\", \"df_wine_spa_equal.csv\")\n",
    "df_wine_spa.to_csv(WINE_SPA_EQUAL_CSV_PATH, index=False)"
   ]
  },
  {
   "cell_type": "markdown",
   "metadata": {},
   "source": [
    "# Merge"
   ]
  },
  {
   "cell_type": "code",
   "execution_count": 20,
   "metadata": {},
   "outputs": [
    {
     "name": "stdout",
     "output_type": "stream",
     "text": [
      "El shape de df_merged es: (5013, 21)\n"
     ]
    },
    {
     "data": {
      "text/html": [
       "<div>\n",
       "<style scoped>\n",
       "    .dataframe tbody tr th:only-of-type {\n",
       "        vertical-align: middle;\n",
       "    }\n",
       "\n",
       "    .dataframe tbody tr th {\n",
       "        vertical-align: top;\n",
       "    }\n",
       "\n",
       "    .dataframe thead th {\n",
       "        text-align: right;\n",
       "    }\n",
       "</style>\n",
       "<table border=\"1\" class=\"dataframe\">\n",
       "  <thead>\n",
       "    <tr style=\"text-align: right;\">\n",
       "      <th></th>\n",
       "      <th>winery</th>\n",
       "      <th>wine</th>\n",
       "      <th>year</th>\n",
       "      <th>rating</th>\n",
       "      <th>region</th>\n",
       "      <th>price</th>\n",
       "      <th>type</th>\n",
       "      <th>body</th>\n",
       "      <th>fixed_acidity</th>\n",
       "      <th>volatile_acidity</th>\n",
       "      <th>...</th>\n",
       "      <th>residual_sugar</th>\n",
       "      <th>chlorides</th>\n",
       "      <th>free_sulfur_dioxide</th>\n",
       "      <th>total_sulfur_dioxide</th>\n",
       "      <th>density</th>\n",
       "      <th>pH</th>\n",
       "      <th>sulphates</th>\n",
       "      <th>alcohol</th>\n",
       "      <th>quality</th>\n",
       "      <th>style</th>\n",
       "    </tr>\n",
       "  </thead>\n",
       "  <tbody>\n",
       "    <tr>\n",
       "      <th>2110</th>\n",
       "      <td>Enrique Mendoza</td>\n",
       "      <td>Santa Rosa</td>\n",
       "      <td>2017</td>\n",
       "      <td>4.2</td>\n",
       "      <td>Alicante</td>\n",
       "      <td>18.90</td>\n",
       "      <td>Red</td>\n",
       "      <td>4.0</td>\n",
       "      <td>8.1</td>\n",
       "      <td>0.28</td>\n",
       "      <td>...</td>\n",
       "      <td>15.4</td>\n",
       "      <td>0.059</td>\n",
       "      <td>32.0</td>\n",
       "      <td>177.0</td>\n",
       "      <td>1.00040</td>\n",
       "      <td>3.27</td>\n",
       "      <td>0.58</td>\n",
       "      <td>9.0</td>\n",
       "      <td>4</td>\n",
       "      <td>white</td>\n",
       "    </tr>\n",
       "    <tr>\n",
       "      <th>1258</th>\n",
       "      <td>La Rioja Alta</td>\n",
       "      <td>Vina Alberdi Crianza</td>\n",
       "      <td>2018</td>\n",
       "      <td>4.2</td>\n",
       "      <td>Rioja</td>\n",
       "      <td>13.58</td>\n",
       "      <td>Rioja Red</td>\n",
       "      <td>4.0</td>\n",
       "      <td>7.1</td>\n",
       "      <td>0.28</td>\n",
       "      <td>...</td>\n",
       "      <td>1.9</td>\n",
       "      <td>0.049</td>\n",
       "      <td>12.0</td>\n",
       "      <td>86.0</td>\n",
       "      <td>0.99340</td>\n",
       "      <td>3.15</td>\n",
       "      <td>0.38</td>\n",
       "      <td>9.4</td>\n",
       "      <td>5</td>\n",
       "      <td>white</td>\n",
       "    </tr>\n",
       "    <tr>\n",
       "      <th>1033</th>\n",
       "      <td>Clos Pons</td>\n",
       "      <td>Roc Nu</td>\n",
       "      <td>2011</td>\n",
       "      <td>4.2</td>\n",
       "      <td>Costers del Segre</td>\n",
       "      <td>23.95</td>\n",
       "      <td>Red</td>\n",
       "      <td>4.0</td>\n",
       "      <td>6.3</td>\n",
       "      <td>0.20</td>\n",
       "      <td>...</td>\n",
       "      <td>1.5</td>\n",
       "      <td>0.037</td>\n",
       "      <td>35.0</td>\n",
       "      <td>107.0</td>\n",
       "      <td>0.99170</td>\n",
       "      <td>3.46</td>\n",
       "      <td>0.50</td>\n",
       "      <td>11.4</td>\n",
       "      <td>6</td>\n",
       "      <td>white</td>\n",
       "    </tr>\n",
       "    <tr>\n",
       "      <th>2358</th>\n",
       "      <td>La Rioja Alta</td>\n",
       "      <td>Vina Alberdi Crianza</td>\n",
       "      <td>2018</td>\n",
       "      <td>4.2</td>\n",
       "      <td>Rioja</td>\n",
       "      <td>13.58</td>\n",
       "      <td>Rioja Red</td>\n",
       "      <td>4.0</td>\n",
       "      <td>7.2</td>\n",
       "      <td>0.15</td>\n",
       "      <td>...</td>\n",
       "      <td>1.1</td>\n",
       "      <td>0.027</td>\n",
       "      <td>16.0</td>\n",
       "      <td>63.0</td>\n",
       "      <td>0.99370</td>\n",
       "      <td>3.37</td>\n",
       "      <td>0.40</td>\n",
       "      <td>9.9</td>\n",
       "      <td>5</td>\n",
       "      <td>white</td>\n",
       "    </tr>\n",
       "    <tr>\n",
       "      <th>3218</th>\n",
       "      <td>Vina Pedrosa</td>\n",
       "      <td>Gran Reserva</td>\n",
       "      <td>2011</td>\n",
       "      <td>4.2</td>\n",
       "      <td>Ribera del Duero</td>\n",
       "      <td>51.35</td>\n",
       "      <td>Ribera Del Duero Red</td>\n",
       "      <td>5.0</td>\n",
       "      <td>6.9</td>\n",
       "      <td>0.14</td>\n",
       "      <td>...</td>\n",
       "      <td>1.0</td>\n",
       "      <td>0.041</td>\n",
       "      <td>22.0</td>\n",
       "      <td>81.0</td>\n",
       "      <td>0.99043</td>\n",
       "      <td>3.03</td>\n",
       "      <td>0.54</td>\n",
       "      <td>11.4</td>\n",
       "      <td>6</td>\n",
       "      <td>white</td>\n",
       "    </tr>\n",
       "  </tbody>\n",
       "</table>\n",
       "<p>5 rows × 21 columns</p>\n",
       "</div>"
      ],
      "text/plain": [
       "               winery                  wine  year  rating             region  \\\n",
       "2110  Enrique Mendoza            Santa Rosa  2017     4.2           Alicante   \n",
       "1258    La Rioja Alta  Vina Alberdi Crianza  2018     4.2              Rioja   \n",
       "1033        Clos Pons                Roc Nu  2011     4.2  Costers del Segre   \n",
       "2358    La Rioja Alta  Vina Alberdi Crianza  2018     4.2              Rioja   \n",
       "3218     Vina Pedrosa          Gran Reserva  2011     4.2   Ribera del Duero   \n",
       "\n",
       "      price                  type  body  fixed_acidity  volatile_acidity  ...  \\\n",
       "2110  18.90                   Red   4.0            8.1              0.28  ...   \n",
       "1258  13.58             Rioja Red   4.0            7.1              0.28  ...   \n",
       "1033  23.95                   Red   4.0            6.3              0.20  ...   \n",
       "2358  13.58             Rioja Red   4.0            7.2              0.15  ...   \n",
       "3218  51.35  Ribera Del Duero Red   5.0            6.9              0.14  ...   \n",
       "\n",
       "      residual_sugar  chlorides  free_sulfur_dioxide  total_sulfur_dioxide  \\\n",
       "2110            15.4      0.059                 32.0                 177.0   \n",
       "1258             1.9      0.049                 12.0                  86.0   \n",
       "1033             1.5      0.037                 35.0                 107.0   \n",
       "2358             1.1      0.027                 16.0                  63.0   \n",
       "3218             1.0      0.041                 22.0                  81.0   \n",
       "\n",
       "      density    pH  sulphates  alcohol  quality  style  \n",
       "2110  1.00040  3.27       0.58      9.0        4  white  \n",
       "1258  0.99340  3.15       0.38      9.4        5  white  \n",
       "1033  0.99170  3.46       0.50     11.4        6  white  \n",
       "2358  0.99370  3.37       0.40      9.9        5  white  \n",
       "3218  0.99043  3.03       0.54     11.4        6  white  \n",
       "\n",
       "[5 rows x 21 columns]"
      ]
     },
     "execution_count": 20,
     "metadata": {},
     "output_type": "execute_result"
    }
   ],
   "source": [
    "df_merged = pd.merge(df_wine_spa, df_wine, left_index=True, right_index=True)\n",
    "print(f\"El shape de df_merged es: {df_merged.shape}\")\n",
    "df_merged.sample(5)"
   ]
  },
  {
   "cell_type": "markdown",
   "metadata": {},
   "source": [
    "Podemos corroborar que el merge se hizo correctamente porque coinciden la suma de la cantidad de columnas y cantidad de registros de ambos dataframes."
   ]
  },
  {
   "cell_type": "code",
   "execution_count": 21,
   "metadata": {},
   "outputs": [],
   "source": [
    "# Por ultimo guardamos el dataframe mergeado en un archivo csv\n",
    "WINE_MERGE_CSV_PATH = data_dir(\"intermediate\", \"df_wine_merged.csv\")\n",
    "df_merged.to_csv(WINE_MERGE_CSV_PATH, index=False)\n"
   ]
  },
  {
   "cell_type": "code",
   "execution_count": 3,
   "metadata": {},
   "outputs": [
    {
     "data": {
      "text/plain": [
       "(5013, 21)"
      ]
     },
     "execution_count": 3,
     "metadata": {},
     "output_type": "execute_result"
    }
   ],
   "source": [
    "df_merged = pd.read_csv(data_dir(\"intermediate\", \"df_wine_merged.csv\"))\n",
    "df_merged.shape"
   ]
  }
 ],
 "metadata": {
  "kernelspec": {
   "display_name": "Python 3.9.12 ('vinos_coderhouse')",
   "language": "python",
   "name": "python3"
  },
  "language_info": {
   "codemirror_mode": {
    "name": "ipython",
    "version": 3
   },
   "file_extension": ".py",
   "mimetype": "text/x-python",
   "name": "python",
   "nbconvert_exporter": "python",
   "pygments_lexer": "ipython3",
   "version": "3.9.12"
  },
  "orig_nbformat": 4,
  "vscode": {
   "interpreter": {
    "hash": "8a9aaa9b1418154e921653208df6805fa10bbf52c1a504240ba40699d5f106f5"
   }
  }
 },
 "nbformat": 4,
 "nbformat_minor": 2
}
