{
 "cells": [
  {
   "cell_type": "markdown",
   "metadata": {},
   "source": [
    "# 2.0 Merge dataset \n",
    "### feature engineering"
   ]
  },
  {
   "cell_type": "markdown",
   "metadata": {},
   "source": [
    "Procederemos a mergear los dos datasets trabajados en el data wrangling. \n",
    "- df_wine_clean.csv\n",
    "- df_wine_spa_clean.csv\n",
    "  "
   ]
  },
  {
   "cell_type": "markdown",
   "metadata": {},
   "source": [
    "## Import libraries"
   ]
  },
  {
   "cell_type": "code",
   "execution_count": 1,
   "metadata": {},
   "outputs": [],
   "source": [
    "# Sirve para actualizar el modulo despues de haber cambiado algo en el codigo de los modulos importados\n",
    "%load_ext autoreload\n",
    "%autoreload 2"
   ]
  },
  {
   "cell_type": "code",
   "execution_count": 2,
   "metadata": {},
   "outputs": [],
   "source": [
    "# Imports\n",
    "import pandas as pd\n",
    "import numpy as np\n",
    "import matplotlib.pyplot as plt\n",
    "import seaborn as sns\n",
    "import missingno as msno\n",
    "%matplotlib inline\n",
    "# Modulo para trabajar con los directorios del proyecto\n",
    "from src.utils.paths import data_dir\n",
    "from src.visualization.word_cloud import words_cloud\n",
    "from src.visualization.analysis_univariate import univariate_analysis\n",
    "import src.utils.statistics as stats\n",
    "from src.utils.paths import references_dir\n",
    "from src.visualization.word_cloud import words_cloud_maskable_image"
   ]
  },
  {
   "cell_type": "markdown",
   "metadata": {},
   "source": [
    "## Read Data"
   ]
  },
  {
   "cell_type": "code",
   "execution_count": 3,
   "metadata": {},
   "outputs": [
    {
     "data": {
      "text/plain": [
       "(WindowsPath('c:/Users/xpam08/Desktop/SOFI/CODERHOUSE/DATA SCIENCE/vinos-corderhouse/data/intermediate/df_wine_clean.csv'),\n",
       " WindowsPath('c:/Users/xpam08/Desktop/SOFI/CODERHOUSE/DATA SCIENCE/vinos-corderhouse/data/intermediate/df_wine_spa_clean.csv'))"
      ]
     },
     "execution_count": 3,
     "metadata": {},
     "output_type": "execute_result"
    }
   ],
   "source": [
    "# Obtenemos la ruta de los csv's que vamos a utilizar\n",
    "WINE_CLEAN_CSV_PATH = data_dir(\"intermediate\", \"df_wine_clean.csv\")\n",
    "WINES_SPA_CLEAN_CSV_PATH = data_dir(\"intermediate\", \"df_wine_spa_clean.csv\")\n",
    "\n",
    "WINE_CLEAN_CSV_PATH , WINES_SPA_CLEAN_CSV_PATH"
   ]
  },
  {
   "cell_type": "markdown",
   "metadata": {},
   "source": [
    "### SETUP"
   ]
  },
  {
   "cell_type": "code",
   "execution_count": 4,
   "metadata": {},
   "outputs": [],
   "source": [
    "# Leemos los csv's y los guardamos en un dataframe\n",
    "df_wine= pd.read_csv(WINE_CLEAN_CSV_PATH)\n",
    "df_wine_spa = pd.read_csv(WINES_SPA_CLEAN_CSV_PATH)"
   ]
  },
  {
   "cell_type": "code",
   "execution_count": 5,
   "metadata": {},
   "outputs": [
    {
     "name": "stdout",
     "output_type": "stream",
     "text": [
      "El shape de df_wine es: (5013, 13)\n",
      "El shape de df_wine_spa es: (5558, 8)\n"
     ]
    }
   ],
   "source": [
    "print(f\"El shape de df_wine es: {df_wine.shape}\")\n",
    "print(f\"El shape de df_wine_spa es: {df_wine_spa.shape}\")"
   ]
  },
  {
   "cell_type": "markdown",
   "metadata": {},
   "source": [
    "Como se comento en notebooks anteriores, ambos datasets se obtuvieron de distintas fuentes, por lo que no habra columna comun en ambos para utilizarla para mergear, por lo que trabajaremos con los indices de ambos dataframes."
   ]
  },
  {
   "cell_type": "markdown",
   "metadata": {},
   "source": [
    "Para eso necesitamos equiparar la cantidad de filas de ambos datasets.\n",
    "Como df_wine_spa es el que mas filas tiene, le elminaremos la diferencia de filas."
   ]
  },
  {
   "cell_type": "code",
   "execution_count": 6,
   "metadata": {},
   "outputs": [
    {
     "name": "stdout",
     "output_type": "stream",
     "text": [
      "La diferencia de filas entre df_wine y df_wine_spa es: 545\n"
     ]
    }
   ],
   "source": [
    "difference = df_wine_spa.shape[0] - df_wine.shape[0] \n",
    "print(f\"La diferencia de filas entre df_wine y df_wine_spa es: {difference}\")"
   ]
  },
  {
   "cell_type": "markdown",
   "metadata": {},
   "source": [
    "## Equiparar los dataframes"
   ]
  },
  {
   "cell_type": "markdown",
   "metadata": {},
   "source": [
    "Cuales 545 registros sacamos, puede ser muy interesante. En este caso elegirimos sacar las filas cuyos valores en las columnas categoricas sean los menos frecuentes"
   ]
  },
  {
   "cell_type": "code",
   "execution_count": 7,
   "metadata": {},
   "outputs": [],
   "source": [
    "# Declaramos una lista vacia para almacenar los indices de los outliers a eliminar\n",
    "index_rows_to_drop = []"
   ]
  },
  {
   "cell_type": "markdown",
   "metadata": {},
   "source": [
    "### Winery"
   ]
  },
  {
   "cell_type": "code",
   "execution_count": 8,
   "metadata": {},
   "outputs": [
    {
     "data": {
      "text/plain": [
       "Cal Batllet - Celler Ripoll Sans      1\n",
       "Castell del Remei                     1\n",
       "Valdubon                              1\n",
       "Loess                                 1\n",
       "Olivardots                            1\n",
       "                                   ... \n",
       "Losada                              206\n",
       "Artadi                              211\n",
       "Sierra Cantabria                    212\n",
       "La Rioja Alta                       213\n",
       "Contino                             410\n",
       "Name: winery, Length: 368, dtype: int64"
      ]
     },
     "execution_count": 8,
     "metadata": {},
     "output_type": "execute_result"
    }
   ],
   "source": [
    "# Verificamos los valores unicos de una columna categorica que tenemos: winery de df_wine_spa\n",
    "winery_counts = df_wine_spa['winery'].value_counts().sort_values(ascending=True)\n",
    "winery_counts"
   ]
  },
  {
   "cell_type": "code",
   "execution_count": 9,
   "metadata": {},
   "outputs": [
    {
     "data": {
      "text/plain": [
       "(508, 8)"
      ]
     },
     "execution_count": 9,
     "metadata": {},
     "output_type": "execute_result"
    }
   ],
   "source": [
    "#Obtenemos la lista de los 30 winery que solo tengan 3 o menos registros\n",
    "winery_less_common = winery_counts[winery_counts <= 4]\n",
    "df_wine_spa_less_common_winery = df_wine_spa[df_wine_spa['winery'].isin(winery_less_common.index)]\n",
    "df_wine_spa_less_common_winery.shape"
   ]
  },
  {
   "cell_type": "code",
   "execution_count": 10,
   "metadata": {},
   "outputs": [
    {
     "name": "stdout",
     "output_type": "stream",
     "text": [
      "La cantidad de columnas a eliminar hasta el momento es de 508\n",
      "La cantidad de filas que faltan eliminar es de 37\n"
     ]
    }
   ],
   "source": [
    "# Considerando estos registros los agregamos a la lista de filas que vamos a eliminar\n",
    "index_rows_to_drop.extend(df_wine_spa_less_common_winery.index)\n",
    "print(f\"La cantidad de columnas a eliminar hasta el momento es de {len(set(index_rows_to_drop))}\")\n",
    "print(f\"La cantidad de filas que faltan eliminar es de {difference - len(set(index_rows_to_drop))}\")"
   ]
  },
  {
   "cell_type": "markdown",
   "metadata": {},
   "source": [
    "### Wines"
   ]
  },
  {
   "cell_type": "code",
   "execution_count": 11,
   "metadata": {},
   "outputs": [
    {
     "data": {
      "text/plain": [
       "Juan Piernas Finca El Paso Malo Monastrell      1\n",
       "Nivel                                           1\n",
       "Cerro Las Cuevas Seleccion Terroir              1\n",
       "Graciano                                        1\n",
       "Diego Magana                                    1\n",
       "                                             ... \n",
       "El Viejo                                      202\n",
       "Corimbo I                                     202\n",
       "Rioja Reserva                                 214\n",
       "Gran Reserva                                  407\n",
       "Reserva                                       419\n",
       "Name: wine, Length: 579, dtype: int64"
      ]
     },
     "execution_count": 11,
     "metadata": {},
     "output_type": "execute_result"
    }
   ],
   "source": [
    "# Verificamos los valores unicos de una columna categorica que tenemos: wine de df_wine_spa\n",
    "wine_counts = df_wine_spa['wine'].value_counts().sort_values(ascending=True)\n",
    "wine_counts"
   ]
  },
  {
   "cell_type": "code",
   "execution_count": 12,
   "metadata": {},
   "outputs": [
    {
     "data": {
      "text/plain": [
       "(557, 8)"
      ]
     },
     "execution_count": 12,
     "metadata": {},
     "output_type": "execute_result"
    }
   ],
   "source": [
    "#Obtenemos la lista de los winery que solo tengan menos de 2 registros\n",
    "wine_less_common = wine_counts[wine_counts <= 2]\n",
    "df_wine_spa_less_common_wine = df_wine_spa[df_wine_spa['wine'].isin(wine_less_common.index)]\n",
    "df_wine_spa_less_common_wine.shape"
   ]
  },
  {
   "cell_type": "markdown",
   "metadata": {},
   "source": [
    "Como nos pasamos de la diferncia para equiparar los dataframes, restamos lo que nos falta\n"
   ]
  },
  {
   "cell_type": "code",
   "execution_count": 13,
   "metadata": {},
   "outputs": [
    {
     "name": "stdout",
     "output_type": "stream",
     "text": [
      "La cantidad de indices que encontramos y que no estan en index_rows_to_drop es 164\n"
     ]
    }
   ],
   "source": [
    "# identificamos la cantidad de indices que no estan en index_rows_to_drop\n",
    "temp_index = df_wine_spa_less_common_wine.index.difference(index_rows_to_drop)\n",
    "print(f\"La cantidad de indices que encontramos y que no estan en index_rows_to_drop es {len(temp_index)}\")"
   ]
  },
  {
   "cell_type": "code",
   "execution_count": 14,
   "metadata": {},
   "outputs": [
    {
     "data": {
      "text/plain": [
       "37"
      ]
     },
     "execution_count": 14,
     "metadata": {},
     "output_type": "execute_result"
    }
   ],
   "source": [
    "# Determinamos cuanto es lo que nos falta para completar la diferencia de filas\n",
    "how_much_left = difference - len(set(index_rows_to_drop))\n",
    "how_much_left"
   ]
  },
  {
   "cell_type": "code",
   "execution_count": 15,
   "metadata": {},
   "outputs": [
    {
     "data": {
      "text/plain": [
       "(37, 8)"
      ]
     },
     "execution_count": 15,
     "metadata": {},
     "output_type": "execute_result"
    }
   ],
   "source": [
    "# Modificamos df_wine_spa_less_common_wine a la cantidad maxima de filas que faltan \n",
    "max_quantity_index_drop = how_much_left if temp_index.size > how_much_left else temp_index\n",
    "df_wine_spa_less_common_wine = df_wine_spa_less_common_wine.loc[temp_index].head(max_quantity_index_drop)\n",
    "df_wine_spa_less_common_wine.shape"
   ]
  },
  {
   "cell_type": "code",
   "execution_count": 16,
   "metadata": {},
   "outputs": [
    {
     "name": "stdout",
     "output_type": "stream",
     "text": [
      "La cantidad de columnas a eliminar hasta el momento es de 545\n",
      "La cantidad de filas que faltan eliminar es de 0\n"
     ]
    }
   ],
   "source": [
    "# Considerando estos registros los agregamos a la lista de filas que vamos a eliminar\n",
    "index_rows_to_drop.extend(df_wine_spa_less_common_wine.index)\n",
    "print(f\"La cantidad de columnas a eliminar hasta el momento es de {len(set(index_rows_to_drop))}\")\n",
    "print(f\"La cantidad de filas que faltan eliminar es de {difference - len(set(index_rows_to_drop))}\")\n"
   ]
  },
  {
   "cell_type": "code",
   "execution_count": 17,
   "metadata": {},
   "outputs": [
    {
     "name": "stdout",
     "output_type": "stream",
     "text": [
      "La cantidad de columnas a eliminar es de 545\n",
      "Dataframe limpio\n",
      "(5013, 8)\n"
     ]
    }
   ],
   "source": [
    "#Eliminamos las filas que contienen outliers y reseteamos el index\n",
    "print(f\"La cantidad de columnas a eliminar es de {len(set(index_rows_to_drop))}\")\n",
    "df_wine_spa.drop(index=index_rows_to_drop, inplace=True, axis=0)\n",
    "df_wine_spa.reset_index(drop=True, inplace=True)\n",
    "print(\"Dataframe limpio\")\n",
    "print(f\"{df_wine_spa.shape}\")\n"
   ]
  },
  {
   "cell_type": "code",
   "execution_count": 18,
   "metadata": {},
   "outputs": [],
   "source": [
    "# Por ultimo guardamos el dataframe limpio en un archivo csv\n",
    "WINE_SPA_EQUAL_CSV_PATH = data_dir(\"intermediate\", \"df_wine_spa_equal.csv\")\n",
    "df_wine_spa.to_csv(WINE_SPA_EQUAL_CSV_PATH, index=False)"
   ]
  },
  {
   "cell_type": "markdown",
   "metadata": {},
   "source": [
    "# Merge"
   ]
  },
  {
   "cell_type": "code",
   "execution_count": 19,
   "metadata": {},
   "outputs": [
    {
     "name": "stdout",
     "output_type": "stream",
     "text": [
      "El shape de df_merged es: (5013, 21)\n"
     ]
    },
    {
     "data": {
      "text/html": [
       "<div>\n",
       "<style scoped>\n",
       "    .dataframe tbody tr th:only-of-type {\n",
       "        vertical-align: middle;\n",
       "    }\n",
       "\n",
       "    .dataframe tbody tr th {\n",
       "        vertical-align: top;\n",
       "    }\n",
       "\n",
       "    .dataframe thead th {\n",
       "        text-align: right;\n",
       "    }\n",
       "</style>\n",
       "<table border=\"1\" class=\"dataframe\">\n",
       "  <thead>\n",
       "    <tr style=\"text-align: right;\">\n",
       "      <th></th>\n",
       "      <th>winery</th>\n",
       "      <th>wine</th>\n",
       "      <th>year</th>\n",
       "      <th>rating</th>\n",
       "      <th>region</th>\n",
       "      <th>price</th>\n",
       "      <th>type</th>\n",
       "      <th>body</th>\n",
       "      <th>fixed_acidity</th>\n",
       "      <th>volatile_acidity</th>\n",
       "      <th>...</th>\n",
       "      <th>residual_sugar</th>\n",
       "      <th>chlorides</th>\n",
       "      <th>free_sulfur_dioxide</th>\n",
       "      <th>total_sulfur_dioxide</th>\n",
       "      <th>density</th>\n",
       "      <th>pH</th>\n",
       "      <th>sulphates</th>\n",
       "      <th>alcohol</th>\n",
       "      <th>quality</th>\n",
       "      <th>style</th>\n",
       "    </tr>\n",
       "  </thead>\n",
       "  <tbody>\n",
       "    <tr>\n",
       "      <th>4219</th>\n",
       "      <td>Matarromera</td>\n",
       "      <td>Gran Reserva</td>\n",
       "      <td>2011</td>\n",
       "      <td>4.2</td>\n",
       "      <td>Ribera del Duero</td>\n",
       "      <td>64.50</td>\n",
       "      <td>Ribera Del Duero Red</td>\n",
       "      <td>5.0</td>\n",
       "      <td>6.2</td>\n",
       "      <td>0.32</td>\n",
       "      <td>...</td>\n",
       "      <td>2.9</td>\n",
       "      <td>0.029</td>\n",
       "      <td>37.0</td>\n",
       "      <td>94.0</td>\n",
       "      <td>0.98998</td>\n",
       "      <td>3.25</td>\n",
       "      <td>0.60</td>\n",
       "      <td>12.4</td>\n",
       "      <td>6</td>\n",
       "      <td>white</td>\n",
       "    </tr>\n",
       "    <tr>\n",
       "      <th>850</th>\n",
       "      <td>Conreria d'Scala Dei</td>\n",
       "      <td>Les Brugueres</td>\n",
       "      <td>2018</td>\n",
       "      <td>4.2</td>\n",
       "      <td>Priorato</td>\n",
       "      <td>16.76</td>\n",
       "      <td>Priorat Red</td>\n",
       "      <td>4.0</td>\n",
       "      <td>6.8</td>\n",
       "      <td>0.28</td>\n",
       "      <td>...</td>\n",
       "      <td>8.0</td>\n",
       "      <td>0.045</td>\n",
       "      <td>28.0</td>\n",
       "      <td>123.0</td>\n",
       "      <td>0.99280</td>\n",
       "      <td>3.02</td>\n",
       "      <td>0.37</td>\n",
       "      <td>11.4</td>\n",
       "      <td>6</td>\n",
       "      <td>white</td>\n",
       "    </tr>\n",
       "    <tr>\n",
       "      <th>3277</th>\n",
       "      <td>Clos Pons</td>\n",
       "      <td>Roc Nu</td>\n",
       "      <td>2011</td>\n",
       "      <td>4.2</td>\n",
       "      <td>Costers del Segre</td>\n",
       "      <td>23.95</td>\n",
       "      <td>Red</td>\n",
       "      <td>4.0</td>\n",
       "      <td>6.8</td>\n",
       "      <td>0.32</td>\n",
       "      <td>...</td>\n",
       "      <td>9.6</td>\n",
       "      <td>0.026</td>\n",
       "      <td>34.0</td>\n",
       "      <td>124.0</td>\n",
       "      <td>0.99286</td>\n",
       "      <td>3.18</td>\n",
       "      <td>0.35</td>\n",
       "      <td>12.1</td>\n",
       "      <td>6</td>\n",
       "      <td>white</td>\n",
       "    </tr>\n",
       "    <tr>\n",
       "      <th>1627</th>\n",
       "      <td>Clos Pons</td>\n",
       "      <td>Roc Nu</td>\n",
       "      <td>2011</td>\n",
       "      <td>4.2</td>\n",
       "      <td>Costers del Segre</td>\n",
       "      <td>23.95</td>\n",
       "      <td>Red</td>\n",
       "      <td>4.0</td>\n",
       "      <td>6.3</td>\n",
       "      <td>0.23</td>\n",
       "      <td>...</td>\n",
       "      <td>5.1</td>\n",
       "      <td>0.035</td>\n",
       "      <td>29.0</td>\n",
       "      <td>142.0</td>\n",
       "      <td>0.99420</td>\n",
       "      <td>3.36</td>\n",
       "      <td>0.33</td>\n",
       "      <td>10.1</td>\n",
       "      <td>7</td>\n",
       "      <td>white</td>\n",
       "    </tr>\n",
       "    <tr>\n",
       "      <th>3915</th>\n",
       "      <td>Enrique Mendoza</td>\n",
       "      <td>Santa Rosa</td>\n",
       "      <td>2017</td>\n",
       "      <td>4.2</td>\n",
       "      <td>Alicante</td>\n",
       "      <td>18.90</td>\n",
       "      <td>Red</td>\n",
       "      <td>4.0</td>\n",
       "      <td>7.0</td>\n",
       "      <td>0.22</td>\n",
       "      <td>...</td>\n",
       "      <td>9.2</td>\n",
       "      <td>0.027</td>\n",
       "      <td>37.0</td>\n",
       "      <td>122.0</td>\n",
       "      <td>0.99228</td>\n",
       "      <td>3.06</td>\n",
       "      <td>0.34</td>\n",
       "      <td>12.5</td>\n",
       "      <td>8</td>\n",
       "      <td>white</td>\n",
       "    </tr>\n",
       "  </tbody>\n",
       "</table>\n",
       "<p>5 rows × 21 columns</p>\n",
       "</div>"
      ],
      "text/plain": [
       "                    winery           wine  year  rating             region  \\\n",
       "4219           Matarromera   Gran Reserva  2011     4.2   Ribera del Duero   \n",
       "850   Conreria d'Scala Dei  Les Brugueres  2018     4.2           Priorato   \n",
       "3277             Clos Pons         Roc Nu  2011     4.2  Costers del Segre   \n",
       "1627             Clos Pons         Roc Nu  2011     4.2  Costers del Segre   \n",
       "3915       Enrique Mendoza     Santa Rosa  2017     4.2           Alicante   \n",
       "\n",
       "      price                  type  body  fixed_acidity  volatile_acidity  ...  \\\n",
       "4219  64.50  Ribera Del Duero Red   5.0            6.2              0.32  ...   \n",
       "850   16.76           Priorat Red   4.0            6.8              0.28  ...   \n",
       "3277  23.95                   Red   4.0            6.8              0.32  ...   \n",
       "1627  23.95                   Red   4.0            6.3              0.23  ...   \n",
       "3915  18.90                   Red   4.0            7.0              0.22  ...   \n",
       "\n",
       "      residual_sugar  chlorides  free_sulfur_dioxide  total_sulfur_dioxide  \\\n",
       "4219             2.9      0.029                 37.0                  94.0   \n",
       "850              8.0      0.045                 28.0                 123.0   \n",
       "3277             9.6      0.026                 34.0                 124.0   \n",
       "1627             5.1      0.035                 29.0                 142.0   \n",
       "3915             9.2      0.027                 37.0                 122.0   \n",
       "\n",
       "      density    pH  sulphates  alcohol  quality  style  \n",
       "4219  0.98998  3.25       0.60     12.4        6  white  \n",
       "850   0.99280  3.02       0.37     11.4        6  white  \n",
       "3277  0.99286  3.18       0.35     12.1        6  white  \n",
       "1627  0.99420  3.36       0.33     10.1        7  white  \n",
       "3915  0.99228  3.06       0.34     12.5        8  white  \n",
       "\n",
       "[5 rows x 21 columns]"
      ]
     },
     "execution_count": 19,
     "metadata": {},
     "output_type": "execute_result"
    }
   ],
   "source": [
    "df_merged = pd.merge(df_wine_spa, df_wine, left_index=True, right_index=True)\n",
    "print(f\"El shape de df_merged es: {df_merged.shape}\")\n",
    "df_merged.sample(5)"
   ]
  },
  {
   "cell_type": "markdown",
   "metadata": {},
   "source": [
    "Podemos corroborar que el merge se hizo correctamente porque coinciden la suma de la cantidad de columnas y cantidad de registros de ambos dataframes."
   ]
  },
  {
   "cell_type": "code",
   "execution_count": 20,
   "metadata": {},
   "outputs": [],
   "source": [
    "# Por ultimo guardamos el dataframe mergeado en un archivo csv\n",
    "WINE_MERGE_CSV_PATH = data_dir(\"intermediate\", \"df_wine_merged.csv\")\n",
    "df_merged.to_csv(WINE_MERGE_CSV_PATH, index=False)\n"
   ]
  },
  {
   "cell_type": "code",
   "execution_count": 21,
   "metadata": {},
   "outputs": [
    {
     "data": {
      "text/plain": [
       "(5013, 21)"
      ]
     },
     "execution_count": 21,
     "metadata": {},
     "output_type": "execute_result"
    }
   ],
   "source": [
    "df_merged = pd.read_csv(data_dir(\"intermediate\", \"df_wine_merged.csv\"))\n",
    "df_merged.shape"
   ]
  }
 ],
 "metadata": {
  "kernelspec": {
   "display_name": "Python 3.9.12 ('vinos_coderhouse')",
   "language": "python",
   "name": "python3"
  },
  "language_info": {
   "codemirror_mode": {
    "name": "ipython",
    "version": 3
   },
   "file_extension": ".py",
   "mimetype": "text/x-python",
   "name": "python",
   "nbconvert_exporter": "python",
   "pygments_lexer": "ipython3",
   "version": "3.9.12"
  },
  "orig_nbformat": 4,
  "vscode": {
   "interpreter": {
    "hash": "2f6aa9507efbd0f2ae87ed788753cb0a1ebbcd9acdde8fbc36b9d23565b8ccda"
   }
  }
 },
 "nbformat": 4,
 "nbformat_minor": 2
}
