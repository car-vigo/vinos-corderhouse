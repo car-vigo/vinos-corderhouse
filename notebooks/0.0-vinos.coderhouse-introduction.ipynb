{
 "cells": [
  {
   "cell_type": "markdown",
   "metadata": {},
   "source": [
    "# PRIMERA ENTREGA DEL PROYECTO FINAL\n",
    "- Curso: Data Science\n",
    "- Comision: 19150\n",
    "- Profesor: Omar Muñoz\n",
    "- Tutor: Gustavo Bitocchi "
   ]
  },
  {
   "cell_type": "markdown",
   "metadata": {},
   "source": [
    "## Equipo de trabajo\n",
    "- Sofia Aruani\n",
    "- Mariano Marzaroli\n",
    "- Manuel Vera Carrillo\n",
    "- Carlos Vigo\n",
    "\n",
    "    ### Acerca de nosotros \n",
    "Somos una organización ad honorem, creada por 4 integrantes con el fin de analizar las variedades e impactos de distintos vinos producidos en España. El nombre de la misma es 'WINESDAT' y nos dedicamos a brindarles soluciones en cuanto a lo que la ciencia de datos abarque y esté al alcance, a distintas empresas, sobre todo aquellas relacionadas con el ambiente y mundo de la vitivinicultura, con el fin de resolver ciertas necesidades haciendo nada más y nada menos que hablar a los datos."
   ]
  },
  {
   "cell_type": "markdown",
   "metadata": {},
   "source": [
    "## Presentación del análisis\n",
    "\n",
    "En este trabajo, se desarrolla un análisis sobre los datos correspondientes a distintas variedades de vinos de origen español, producidas en X(colocar cantidad de wineries) bodegas distintas distribuidas dentro del territorio. El dataset contiene información acera de distintas características sobre vinos con sus respectivos análisis químicos, lugar de origen y precio. Teniendo dicha premisa, el trabajo tendrá como finalidad poder entender como se comportan las distintas variables y en que medida influencia el precio y la calidad. "
   ]
  },
  {
   "cell_type": "markdown",
   "metadata": {},
   "source": [
    "## Objetivos de la investigación\n",
    "### Objetivo principal\n",
    "- Realizar un análisis descriptivo que permita hallar las principales variables que pueden influir en la categorización de los vinos.\n",
    "### Objetivos secundarios\n",
    "- Limpiar y transformar el dataset elegido para poder manipular la información de forma eficiente.\n",
    "- Extraer insights que permitan un mejor entendimiento de la determinación de las categorias de los vinos\n",
    "- Encontrar las correlaciones más importantes entre variables,ya sean directas o inversas.\n",
    "- Determinar qué variables categóricas pueden diferenciar las categorias de los vinos."
   ]
  }
 ],
 "metadata": {
  "interpreter": {
   "hash": "8a9aaa9b1418154e921653208df6805fa10bbf52c1a504240ba40699d5f106f5"
  },
  "kernelspec": {
   "display_name": "Python 3.9.12 ('vinos_coderhouse')",
   "language": "python",
   "name": "python3"
  },
  "language_info": {
   "name": "python",
   "version": "3.9.12"
  },
  "orig_nbformat": 4
 },
 "nbformat": 4,
 "nbformat_minor": 2
}
