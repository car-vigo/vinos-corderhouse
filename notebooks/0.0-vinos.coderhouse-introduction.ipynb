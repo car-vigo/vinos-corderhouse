{
 "cells": [
  {
   "cell_type": "markdown",
   "metadata": {},
   "source": [
    "# PRIMERA ENTREGA DEL PROYECTO FINAL\n",
    "- Curso: Data Science\n",
    "- Comision: 19150\n",
    "- Profesor: Omar Muñoz\n",
    "- Tutor: Gustavo Bitocchi "
   ]
  },
  {
   "cell_type": "markdown",
   "metadata": {},
   "source": [
    "## Equipo de trabajo\n",
    "- Sofia Aruani\n",
    "- Mariano Marzaroli\n",
    "- Manuel Vera Carrillo\n",
    "- Carlos Vigo\n",
    "\n",
    "    ### Acerca de nosotros \n",
    "Somos un equipo  de 4 de data scientists especializados de la empresa WINESDAT especializada en el ambiente de la viticultura.\n",
    "WINESDAT ofrece su servicio de consultoria a bodegueros y distribuidoras con el fin de analizar la calidad de los vinos que producen y venden a través de los datos que nos proveen. \n",
    "\n"
   ]
  },
  {
   "cell_type": "markdown",
   "metadata": {},
   "source": [
    "## Presentación del análisis\n",
    "\n",
    "Nuestro actual cliente es una empresa distribuidora de España que exporta vinos a todo el mundo y quiere determinar cuales son los vinos seleccionados para exportar. Su necesidad principalmente es determinar cuales son los vinos de alta calidad que van a ofrecer al exterior. Quieren saber si a partir de los set de datos que ellos tienen se puede determinar la calidad del vino y así agilizar la comercialización de los mismos sin tener que esperar a los analisis de calidad que se realizan en el laboratorio.\n",
    "En este trabajo, se desarrollará un análisis sobre los datos correspondientes a distintas variedades de vinos de origen español, producidas en distintas bodegas distribuidas dentro del territorio. El dataset brinda información acera de distintas características sobre vinos con sus respectivos análisis químicos, lugar de origen y precios. Teniendo dicha premisa, el trabajo tendrá como finalidad poder entender como se comportan las distintas variables y en que medida se ve influenciada la calidad de los vinos. "
   ]
  },
  {
   "cell_type": "markdown",
   "metadata": {},
   "source": [
    "## Objetivos de la investigación\n",
    "### Objetivo principal\n",
    "- Realizar un análisis que permita hallar las principales variables que puedan influir en la calidad de los vinos. El objetivo es determinar si los vinos son de calidad alta o calidad baja. Los vinos de calidad alta son los que se terminaran exportando.\n",
    "### Objetivos secundarios\n",
    "- Limpiar y transformar el dataset elegido para poder manipular la información de forma eficiente.\n",
    "- Extraer insights que permitan un mejor entendimiento de la determinación de las calidad de los vinos\n",
    "- Encontrar las correlaciones más importantes entre las variables,ya sean directas o inversas.\n",
    "- Trabajar con clases de calidades mas especificas que alta o baja para facilitar la segmentacion y empaquetado de promociones de vinos a los clientes segun sus preferencias."
   ]
  }
 ],
 "metadata": {
  "interpreter": {
   "hash": "8a9aaa9b1418154e921653208df6805fa10bbf52c1a504240ba40699d5f106f5"
  },
  "kernelspec": {
   "display_name": "Python 3.9.12 ('vinos_coderhouse')",
   "language": "python",
   "name": "python3"
  },
  "language_info": {
   "name": "python",
   "version": "3.9.12"
  },
  "orig_nbformat": 4
 },
 "nbformat": 4,
 "nbformat_minor": 2
}
