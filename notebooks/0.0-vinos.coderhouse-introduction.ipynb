{
 "cells": [
  {
   "cell_type": "markdown",
   "metadata": {},
   "source": [
    "# PRIMERA ENTREGA DEL PROYECTO FINAL\n",
    "- Curso: Data Science\n",
    "- Comision: 19150\n",
    "- Profesor: Omar Muñoz\n",
    "- Tutor: Gustavo Bitocchi \n",
    "hola"
   ]
  },
  {
   "cell_type": "markdown",
   "metadata": {},
   "source": [
    "## Equipo de trabajo\n",
    "- Sofia Aruani\n",
    "- Mariano Marzaroli\n",
    "- Manuel Vera Carrillo"
   ]
  },
  {
   "cell_type": "markdown",
   "metadata": {},
   "source": [
    "## Presentación del problema\n",
    "### Modificar\n",
    "En este trabajo,se desarrolla un análisis sobre los datos correspondientesalas viviendas pertenecientesala ciudad de Ames situada en el condado de Story del estado de lowa en Estados Unidos.Su población es de 66.427 habitantes según el censo de 2020 y tiene una longitud de 55,90 kilómetros cuadrados.El Dataset contiene información acerca de características muy variadas sobre viviendasydonde cada una fue valuada aun determinado precio.Se entiende que las diversas cualidades como las dimensiones de terreno,las cantidad de habitaciones o la ubicación de cada casa influyen en el proceso de valuación. Teniendo esta premisa en claro,este trabajo tendrá como finalidad entender cómo se comportan las distintas variablesyen qué medida influencian en el precio. La información extraida puede ser de gran utilidad para agencias inmobiliariasypara potenciales compradores de viviendas en la zona bajo análisis"
   ]
  },
  {
   "cell_type": "markdown",
   "metadata": {},
   "source": [
    "## Objetivos de la investigación\n",
    "### Objetivo principal\n",
    "- Realizar un análisis descriptivo que permita hallar las principales variables que pueden influir en la categorización de los vinos.\n",
    "### Objetivos secundarios\n",
    "- Limpiarytransformar el dataset elegido para poder manipular la información de forma eficiente.\n",
    "- Extraer insights que permitan un mejor entendimiento de la determinación de las categorias de los vinos\n",
    "- Encontrar las correlaciones más importantes entre variables,ya sean directas o inversas.\n",
    "- Determinar qué variables categóricas pueden diferenciar las categorias de los vinos."
   ]
  }
 ],
 "metadata": {
  "interpreter": {
   "hash": "8a9aaa9b1418154e921653208df6805fa10bbf52c1a504240ba40699d5f106f5"
  },
  "kernelspec": {
   "display_name": "Python 3.9.12 ('vinos_coderhouse')",
   "language": "python",
   "name": "python3"
  },
  "language_info": {
   "name": "python",
   "version": "3.9.12"
  },
  "orig_nbformat": 4
 },
 "nbformat": 4,
 "nbformat_minor": 2
}
