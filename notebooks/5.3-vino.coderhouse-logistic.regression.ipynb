{
 "cells": [
  {
   "cell_type": "markdown",
   "metadata": {},
   "source": [
    "# Random Forest"
   ]
  },
  {
   "cell_type": "markdown",
   "id": "61c1956b",
   "metadata": {},
   "source": [
    "## Import libraries"
   ]
  },
  {
   "cell_type": "code",
   "execution_count": 1,
   "id": "aa345a09",
   "metadata": {},
   "outputs": [],
   "source": [
    "# Sirve para actualizar el modulo despues de haber cambiado algo en el codigo de los modulos importados\n",
    "%load_ext autoreload\n",
    "%autoreload 2"
   ]
  },
  {
   "cell_type": "code",
   "execution_count": 11,
   "id": "9af94f89",
   "metadata": {},
   "outputs": [],
   "source": [
    "#Importamos las librerias\n",
    "import pandas as pd\n",
    "import numpy as np\n",
    "import matplotlib.pyplot as plt\n",
    "import seaborn as sns\n",
    "from matplotlib.ticker import FormatStrFormatter\n",
    "from seaborn import violinplot\n",
    "%matplotlib inline\n",
    "from sklearn.linear_model import LogisticRegression #Importamos el modelo\n",
    "from sklearn.model_selection import train_test_split "
   ]
  },
  {
   "cell_type": "code",
   "execution_count": 3,
   "id": "da004814",
   "metadata": {},
   "outputs": [],
   "source": [
    "# Modulos propios del proyecto que se encuentran en el directorio src\n",
    "from src.utils.paths import data_dir\n",
    "from src.visualization.word_cloud import words_cloud\n",
    "from src.utils.paths import references_dir"
   ]
  },
  {
   "cell_type": "markdown",
   "id": "8f79d30a",
   "metadata": {},
   "source": [
    "## Set up"
   ]
  },
  {
   "cell_type": "code",
   "execution_count": 4,
   "id": "a3f52a3d",
   "metadata": {},
   "outputs": [],
   "source": [
    "# Configuracion de opciones\n",
    "\n",
    "# Configuramos para que muestre siempre todas las columnas disponibles\n",
    "pd.options.display.max_columns = None\n",
    "\n",
    "# Cambio del tamaño de los plots para seaborn\n",
    "sns.set(rc={'figure.figsize':(10,5)})\n",
    "\n",
    "# Definimos el color para los plots\n",
    "COLOR_VINO_TINTO = \"#7C3030\"\n",
    "COLOR__VINO_BLANCO = \"#ffffbf\""
   ]
  },
  {
   "cell_type": "markdown",
   "id": "d47704ac",
   "metadata": {},
   "source": [
    "## Read Data"
   ]
  },
  {
   "cell_type": "code",
   "execution_count": 5,
   "id": "8d15455e",
   "metadata": {},
   "outputs": [
    {
     "name": "stdout",
     "output_type": "stream",
     "text": [
      "c:\\Users\\cvigo\\data-projects\\proyecto-final-vinos\\vinos-corderhouse\\data\\processed\\df_wine_final.csv\n"
     ]
    }
   ],
   "source": [
    "# Obtenemos la ruta de los csv's que vamos a utilizar\n",
    "WINES_FINAL_CSV_PATH = data_dir(\"processed\", \"df_wine_final.csv\")\n",
    "\n",
    "print(f\"{WINES_FINAL_CSV_PATH}\")"
   ]
  },
  {
   "cell_type": "code",
   "execution_count": 6,
   "metadata": {},
   "outputs": [],
   "source": [
    "df_wines = pd.read_csv(WINES_FINAL_CSV_PATH)"
   ]
  },
  {
   "cell_type": "code",
   "execution_count": 7,
   "metadata": {},
   "outputs": [
    {
     "data": {
      "text/html": [
       "<div>\n",
       "<style scoped>\n",
       "    .dataframe tbody tr th:only-of-type {\n",
       "        vertical-align: middle;\n",
       "    }\n",
       "\n",
       "    .dataframe tbody tr th {\n",
       "        vertical-align: top;\n",
       "    }\n",
       "\n",
       "    .dataframe thead th {\n",
       "        text-align: right;\n",
       "    }\n",
       "</style>\n",
       "<table border=\"1\" class=\"dataframe\">\n",
       "  <thead>\n",
       "    <tr style=\"text-align: right;\">\n",
       "      <th></th>\n",
       "      <th>PC1</th>\n",
       "      <th>PC2</th>\n",
       "      <th>PC5</th>\n",
       "      <th>PC6</th>\n",
       "      <th>PC7</th>\n",
       "      <th>quality_low</th>\n",
       "      <th>style</th>\n",
       "    </tr>\n",
       "  </thead>\n",
       "  <tbody>\n",
       "    <tr>\n",
       "      <th>4542</th>\n",
       "      <td>-0.009708</td>\n",
       "      <td>0.052339</td>\n",
       "      <td>-0.203060</td>\n",
       "      <td>-0.167811</td>\n",
       "      <td>-0.060470</td>\n",
       "      <td>1</td>\n",
       "      <td>1</td>\n",
       "    </tr>\n",
       "    <tr>\n",
       "      <th>846</th>\n",
       "      <td>-0.086769</td>\n",
       "      <td>-0.224119</td>\n",
       "      <td>-0.033325</td>\n",
       "      <td>-0.030837</td>\n",
       "      <td>0.071917</td>\n",
       "      <td>1</td>\n",
       "      <td>1</td>\n",
       "    </tr>\n",
       "    <tr>\n",
       "      <th>3731</th>\n",
       "      <td>0.661233</td>\n",
       "      <td>-0.111739</td>\n",
       "      <td>-0.016284</td>\n",
       "      <td>-0.201164</td>\n",
       "      <td>0.094461</td>\n",
       "      <td>1</td>\n",
       "      <td>1</td>\n",
       "    </tr>\n",
       "    <tr>\n",
       "      <th>445</th>\n",
       "      <td>-0.143384</td>\n",
       "      <td>0.501704</td>\n",
       "      <td>0.193177</td>\n",
       "      <td>-0.112870</td>\n",
       "      <td>-0.027445</td>\n",
       "      <td>0</td>\n",
       "      <td>2</td>\n",
       "    </tr>\n",
       "    <tr>\n",
       "      <th>289</th>\n",
       "      <td>-0.292485</td>\n",
       "      <td>0.790045</td>\n",
       "      <td>-0.136594</td>\n",
       "      <td>0.087703</td>\n",
       "      <td>0.029300</td>\n",
       "      <td>0</td>\n",
       "      <td>2</td>\n",
       "    </tr>\n",
       "    <tr>\n",
       "      <th>1962</th>\n",
       "      <td>-0.428549</td>\n",
       "      <td>-0.180256</td>\n",
       "      <td>-0.144973</td>\n",
       "      <td>-0.157063</td>\n",
       "      <td>-0.202372</td>\n",
       "      <td>1</td>\n",
       "      <td>1</td>\n",
       "    </tr>\n",
       "    <tr>\n",
       "      <th>2926</th>\n",
       "      <td>0.487421</td>\n",
       "      <td>-0.092641</td>\n",
       "      <td>-0.028566</td>\n",
       "      <td>0.067147</td>\n",
       "      <td>-0.249138</td>\n",
       "      <td>0</td>\n",
       "      <td>1</td>\n",
       "    </tr>\n",
       "    <tr>\n",
       "      <th>1072</th>\n",
       "      <td>-0.336252</td>\n",
       "      <td>-0.144452</td>\n",
       "      <td>0.072884</td>\n",
       "      <td>0.057583</td>\n",
       "      <td>-0.029553</td>\n",
       "      <td>1</td>\n",
       "      <td>1</td>\n",
       "    </tr>\n",
       "    <tr>\n",
       "      <th>2255</th>\n",
       "      <td>-0.320247</td>\n",
       "      <td>0.160170</td>\n",
       "      <td>0.190455</td>\n",
       "      <td>0.039976</td>\n",
       "      <td>-0.187296</td>\n",
       "      <td>1</td>\n",
       "      <td>1</td>\n",
       "    </tr>\n",
       "    <tr>\n",
       "      <th>2833</th>\n",
       "      <td>0.410886</td>\n",
       "      <td>-0.005829</td>\n",
       "      <td>0.008000</td>\n",
       "      <td>-0.222533</td>\n",
       "      <td>0.148781</td>\n",
       "      <td>1</td>\n",
       "      <td>1</td>\n",
       "    </tr>\n",
       "  </tbody>\n",
       "</table>\n",
       "</div>"
      ],
      "text/plain": [
       "           PC1       PC2       PC5       PC6       PC7  quality_low  style\n",
       "4542 -0.009708  0.052339 -0.203060 -0.167811 -0.060470            1      1\n",
       "846  -0.086769 -0.224119 -0.033325 -0.030837  0.071917            1      1\n",
       "3731  0.661233 -0.111739 -0.016284 -0.201164  0.094461            1      1\n",
       "445  -0.143384  0.501704  0.193177 -0.112870 -0.027445            0      2\n",
       "289  -0.292485  0.790045 -0.136594  0.087703  0.029300            0      2\n",
       "1962 -0.428549 -0.180256 -0.144973 -0.157063 -0.202372            1      1\n",
       "2926  0.487421 -0.092641 -0.028566  0.067147 -0.249138            0      1\n",
       "1072 -0.336252 -0.144452  0.072884  0.057583 -0.029553            1      1\n",
       "2255 -0.320247  0.160170  0.190455  0.039976 -0.187296            1      1\n",
       "2833  0.410886 -0.005829  0.008000 -0.222533  0.148781            1      1"
      ]
     },
     "execution_count": 7,
     "metadata": {},
     "output_type": "execute_result"
    }
   ],
   "source": [
    "df_wines.sample(10)"
   ]
  },
  {
   "cell_type": "markdown",
   "metadata": {},
   "source": [
    "# Preparamos los datos"
   ]
  },
  {
   "cell_type": "code",
   "execution_count": 8,
   "metadata": {},
   "outputs": [],
   "source": [
    "#Seperamos en X e y\n",
    "#Elimino de mi dataset la variable a predecir\n",
    "X = df_wines.drop(columns=[\"quality_low\"])\n",
    "y = df_wines.quality_low #Defino el Target"
   ]
  },
  {
   "cell_type": "code",
   "execution_count": 9,
   "metadata": {},
   "outputs": [],
   "source": [
    "# Me quedo con 30% para test (validación) y 70% para train (entrenamiento)\n",
    "X_train, X_test, y_train, y_test = train_test_split(X, y, test_size=0.30, random_state=42) "
   ]
  },
  {
   "cell_type": "code",
   "execution_count": 10,
   "metadata": {},
   "outputs": [
    {
     "data": {
      "text/plain": [
       "((3509, 6), (1504, 6))"
      ]
     },
     "execution_count": 10,
     "metadata": {},
     "output_type": "execute_result"
    }
   ],
   "source": [
    "X_train.shape, X_test.shape"
   ]
  },
  {
   "cell_type": "markdown",
   "metadata": {},
   "source": [
    "# Regresión Logistica"
   ]
  },
  {
   "cell_type": "code",
   "execution_count": 13,
   "metadata": {},
   "outputs": [],
   "source": [
    "# Paso 4: Creamos una instancia de la Regresión Logística\n",
    "regresion_logistica = LogisticRegression()"
   ]
  },
  {
   "cell_type": "code",
   "execution_count": 14,
   "metadata": {},
   "outputs": [
    {
     "data": {
      "text/plain": [
       "LogisticRegression()"
      ]
     },
     "execution_count": 14,
     "metadata": {},
     "output_type": "execute_result"
    }
   ],
   "source": [
    "# Paso 5: Entrenamos la regresión logística con los datos de entrenamiento\n",
    "regresion_logistica.fit(X,y)"
   ]
  },
  {
   "cell_type": "code",
   "execution_count": 15,
   "metadata": {},
   "outputs": [],
   "source": [
    "prediccion = regresion_logistica.predict(X_test)"
   ]
  },
  {
   "cell_type": "code",
   "execution_count": 17,
   "metadata": {},
   "outputs": [
    {
     "data": {
      "text/plain": [
       "array([0, 0, 0, ..., 1, 0, 0], dtype=int64)"
      ]
     },
     "execution_count": 17,
     "metadata": {},
     "output_type": "execute_result"
    }
   ],
   "source": [
    "prediccion"
   ]
  },
  {
   "cell_type": "code",
   "execution_count": 18,
   "metadata": {},
   "outputs": [
    {
     "name": "stdout",
     "output_type": "stream",
     "text": [
      "[[0.80114262 0.19885738]\n",
      " [0.76995327 0.23004673]\n",
      " [0.90423226 0.09576774]\n",
      " ...\n",
      " [0.39416826 0.60583174]\n",
      " [0.82212444 0.17787556]\n",
      " [0.54206286 0.45793714]]\n"
     ]
    }
   ],
   "source": [
    "probabilidades_prediccion = regresion_logistica.predict_proba(X_test)\n",
    "print(probabilidades_prediccion)"
   ]
  }
 ],
 "metadata": {
  "kernelspec": {
   "display_name": "Python 3.9.12 ('vinos_coderhouse')",
   "language": "python",
   "name": "python3"
  },
  "language_info": {
   "codemirror_mode": {
    "name": "ipython",
    "version": 3
   },
   "file_extension": ".py",
   "mimetype": "text/x-python",
   "name": "python",
   "nbconvert_exporter": "python",
   "pygments_lexer": "ipython3",
   "version": "3.9.12"
  },
  "orig_nbformat": 4,
  "vscode": {
   "interpreter": {
    "hash": "8a9aaa9b1418154e921653208df6805fa10bbf52c1a504240ba40699d5f106f5"
   }
  }
 },
 "nbformat": 4,
 "nbformat_minor": 2
}
