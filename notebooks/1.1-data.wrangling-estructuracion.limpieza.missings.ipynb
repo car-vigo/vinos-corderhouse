{
 "cells": [
  {
   "cell_type": "markdown",
   "metadata": {},
   "source": [
    "# 1.1 DW - Estructuración y limpieza de missings"
   ]
  },
  {
   "cell_type": "markdown",
   "metadata": {},
   "source": [
    "En esta etapa trabajaremos con las observaciones hechas en la etapa anterior, con el fin de generar una base de datos con los datos acordes para el análisis.\n",
    "Como estamos trabajando con dos set de datos que no tienen relacion alguna, los seguiremos trabajando por separado para luego unificarlos"
   ]
  },
  {
   "cell_type": "markdown",
   "metadata": {},
   "source": [
    "## Import libraries"
   ]
  },
  {
   "cell_type": "code",
   "execution_count": 1,
   "metadata": {},
   "outputs": [],
   "source": [
    "# Sirve para actualizar el modulo despues de haber cambiado algo en el codigo de los modulos importados\n",
    "%load_ext autoreload\n",
    "%autoreload 2"
   ]
  },
  {
   "cell_type": "code",
   "execution_count": 2,
   "metadata": {},
   "outputs": [],
   "source": [
    "# Imports\n",
    "import pandas as pd\n",
    "import numpy as np\n",
    "import matplotlib.pyplot as plt\n",
    "import seaborn as sns\n",
    "%matplotlib inline"
   ]
  },
  {
   "cell_type": "code",
   "execution_count": 3,
   "metadata": {},
   "outputs": [],
   "source": [
    "# Modulos propios del proyecto que se encuentran en el directorio src\n",
    "from src.utils.paths import data_dir\n",
    "from src.visualization.word_cloud import words_cloud\n",
    "from src.utils.statistics import calculate_frequency_values"
   ]
  },
  {
   "cell_type": "markdown",
   "metadata": {},
   "source": [
    "## Set up"
   ]
  },
  {
   "cell_type": "code",
   "execution_count": 4,
   "metadata": {},
   "outputs": [],
   "source": [
    "# Configuracion de opciones\n",
    "\n",
    "# Configuramos para que muestre siempre todas las columnas disponibles\n",
    "pd.options.display.max_columns = None"
   ]
  },
  {
   "cell_type": "code",
   "execution_count": 5,
   "metadata": {},
   "outputs": [],
   "source": [
    "# Definimos el constantes de colores de acuerdo al negocio para usar en los plots\n",
    "COLOR_VINO_TINTO = \"#7C3030\"\n",
    "COLOR__VINO_BLANCO = \"#ffffbf\""
   ]
  },
  {
   "cell_type": "markdown",
   "metadata": {},
   "source": [
    "## Read Data"
   ]
  },
  {
   "cell_type": "code",
   "execution_count": 6,
   "metadata": {},
   "outputs": [
    {
     "data": {
      "text/plain": [
       "(WindowsPath('c:/Users/cvigo/data-projects/proyecto-final-vinos/vinos-corderhouse/data/raw/wine_dataset.csv'),\n",
       " WindowsPath('c:/Users/cvigo/data-projects/proyecto-final-vinos/vinos-corderhouse/data/raw/wines_SPA.csv'))"
      ]
     },
     "execution_count": 6,
     "metadata": {},
     "output_type": "execute_result"
    }
   ],
   "source": [
    "# Obtenemos la ruta de los csv's que vamos a utilizar\n",
    "CHEMICAL_WINE_RAW_PATH = data_dir(\"raw\", \"wine_dataset.csv\")\n",
    "COMERCIAL_WINE_RAW_PATH = data_dir(\"raw\", \"wines_SPA.csv\")\n",
    "\n",
    "CHEMICAL_WINE_RAW_PATH , COMERCIAL_WINE_RAW_PATH"
   ]
  },
  {
   "cell_type": "code",
   "execution_count": 12,
   "metadata": {},
   "outputs": [],
   "source": [
    "# Leemos los csv's y los guardamos en un dataframe\n",
    "df_wine_chemical = pd.read_csv(CHEMICAL_WINE_RAW_PATH)\n",
    "df_wine_comercial = pd.read_csv(COMERCIAL_WINE_RAW_PATH)"
   ]
  },
  {
   "cell_type": "markdown",
   "metadata": {},
   "source": [
    "## Dataset Quimico"
   ]
  },
  {
   "cell_type": "markdown",
   "metadata": {},
   "source": [
    "### Estructuracion"
   ]
  },
  {
   "cell_type": "markdown",
   "metadata": {},
   "source": [
    "En la etapa anterior observamos que no habia muchas cosas para trabajar desde la estructuración con este dataset y que tampoco tenia valores faltantes. Lo unico que tenemos que hacer es cambiar el tipo de dato de las columna `quality` y `style` a categoricas"
   ]
  },
  {
   "cell_type": "code",
   "execution_count": 8,
   "metadata": {},
   "outputs": [
    {
     "name": "stdout",
     "output_type": "stream",
     "text": [
      "<class 'pandas.core.frame.DataFrame'>\n",
      "RangeIndex: 6497 entries, 0 to 6496\n",
      "Data columns (total 13 columns):\n",
      " #   Column                Non-Null Count  Dtype  \n",
      "---  ------                --------------  -----  \n",
      " 0   fixed_acidity         6497 non-null   float64\n",
      " 1   volatile_acidity      6497 non-null   float64\n",
      " 2   citric_acid           6497 non-null   float64\n",
      " 3   residual_sugar        6497 non-null   float64\n",
      " 4   chlorides             6497 non-null   float64\n",
      " 5   free_sulfur_dioxide   6497 non-null   float64\n",
      " 6   total_sulfur_dioxide  6497 non-null   float64\n",
      " 7   density               6497 non-null   float64\n",
      " 8   pH                    6497 non-null   float64\n",
      " 9   sulphates             6497 non-null   float64\n",
      " 10  alcohol               6497 non-null   float64\n",
      " 11  quality               6497 non-null   int64  \n",
      " 12  style                 6497 non-null   object \n",
      "dtypes: float64(11), int64(1), object(1)\n",
      "memory usage: 660.0+ KB\n"
     ]
    }
   ],
   "source": [
    "df_wine_chemical.info()"
   ]
  },
  {
   "cell_type": "code",
   "execution_count": 13,
   "metadata": {},
   "outputs": [],
   "source": [
    "# Convertimos los tipos de datos de las columnas quality y style a categoricas\n",
    "df_wine_chemical[\"quality\"] = df_wine_chemical[\"quality\"] = df_wine_chemical[\"quality\"].astype(\"category\").cat.as_ordered()\n",
    "df_wine_chemical[\"style\"] = df_wine_chemical[\"style\"].astype(\"category\")"
   ]
  },
  {
   "cell_type": "code",
   "execution_count": 14,
   "metadata": {},
   "outputs": [
    {
     "name": "stdout",
     "output_type": "stream",
     "text": [
      "<class 'pandas.core.frame.DataFrame'>\n",
      "RangeIndex: 6497 entries, 0 to 6496\n",
      "Data columns (total 13 columns):\n",
      " #   Column                Non-Null Count  Dtype   \n",
      "---  ------                --------------  -----   \n",
      " 0   fixed_acidity         6497 non-null   float64 \n",
      " 1   volatile_acidity      6497 non-null   float64 \n",
      " 2   citric_acid           6497 non-null   float64 \n",
      " 3   residual_sugar        6497 non-null   float64 \n",
      " 4   chlorides             6497 non-null   float64 \n",
      " 5   free_sulfur_dioxide   6497 non-null   float64 \n",
      " 6   total_sulfur_dioxide  6497 non-null   float64 \n",
      " 7   density               6497 non-null   float64 \n",
      " 8   pH                    6497 non-null   float64 \n",
      " 9   sulphates             6497 non-null   float64 \n",
      " 10  alcohol               6497 non-null   float64 \n",
      " 11  quality               6497 non-null   category\n",
      " 12  style                 6497 non-null   category\n",
      "dtypes: category(2), float64(11)\n",
      "memory usage: 571.6 KB\n"
     ]
    }
   ],
   "source": [
    "df_wine_chemical.info()"
   ]
  },
  {
   "cell_type": "markdown",
   "metadata": {},
   "source": [
    "Como el dataset no set no tenia valores faltantes no hay que hacer ninguna limpieza de missing values. "
   ]
  },
  {
   "cell_type": "code",
   "execution_count": 15,
   "metadata": {},
   "outputs": [],
   "source": [
    "# Guardamos el dataframe en un archivo csv\n",
    "df_wine_chemical.to_csv(data_dir(\"intermediate\", \"structured_chemical.csv\"), index=False)"
   ]
  },
  {
   "cell_type": "markdown",
   "metadata": {},
   "source": [
    "## Dataset Comercial"
   ]
  },
  {
   "cell_type": "markdown",
   "metadata": {},
   "source": [
    "## Missing values"
   ]
  },
  {
   "cell_type": "markdown",
   "metadata": {},
   "source": [
    "De la etapa anterior salio trabajar los valores faltantes de las variables:\n",
    "- type\n",
    "- body\n",
    "- acidity\n",
    "- year"
   ]
  },
  {
   "cell_type": "markdown",
   "metadata": {},
   "source": [
    "Antes de empezar podemos corroborar si hay filas con todos los valores faltantes."
   ]
  },
  {
   "cell_type": "code",
   "execution_count": 475,
   "metadata": {},
   "outputs": [
    {
     "data": {
      "text/html": [
       "<div>\n",
       "<style scoped>\n",
       "    .dataframe tbody tr th:only-of-type {\n",
       "        vertical-align: middle;\n",
       "    }\n",
       "\n",
       "    .dataframe tbody tr th {\n",
       "        vertical-align: top;\n",
       "    }\n",
       "\n",
       "    .dataframe thead th {\n",
       "        text-align: right;\n",
       "    }\n",
       "</style>\n",
       "<table border=\"1\" class=\"dataframe\">\n",
       "  <thead>\n",
       "    <tr style=\"text-align: right;\">\n",
       "      <th></th>\n",
       "      <th>winery</th>\n",
       "      <th>wine</th>\n",
       "      <th>year</th>\n",
       "      <th>rating</th>\n",
       "      <th>num_reviews</th>\n",
       "      <th>country</th>\n",
       "      <th>region</th>\n",
       "      <th>price</th>\n",
       "      <th>type</th>\n",
       "      <th>body</th>\n",
       "      <th>acidity</th>\n",
       "    </tr>\n",
       "  </thead>\n",
       "  <tbody>\n",
       "  </tbody>\n",
       "</table>\n",
       "</div>"
      ],
      "text/plain": [
       "Empty DataFrame\n",
       "Columns: [winery, wine, year, rating, num_reviews, country, region, price, type, body, acidity]\n",
       "Index: []"
      ]
     },
     "execution_count": 475,
     "metadata": {},
     "output_type": "execute_result"
    }
   ],
   "source": [
    "df_wine_comercial.isna()[(df_wine_comercial.isna() == True).all(axis='columns')]"
   ]
  },
  {
   "cell_type": "code",
   "execution_count": 476,
   "metadata": {},
   "outputs": [
    {
     "data": {
      "text/html": [
       "<div>\n",
       "<style scoped>\n",
       "    .dataframe tbody tr th:only-of-type {\n",
       "        vertical-align: middle;\n",
       "    }\n",
       "\n",
       "    .dataframe tbody tr th {\n",
       "        vertical-align: top;\n",
       "    }\n",
       "\n",
       "    .dataframe thead th {\n",
       "        text-align: right;\n",
       "    }\n",
       "</style>\n",
       "<table border=\"1\" class=\"dataframe\">\n",
       "  <thead>\n",
       "    <tr style=\"text-align: right;\">\n",
       "      <th></th>\n",
       "      <th>winery</th>\n",
       "      <th>wine</th>\n",
       "      <th>year</th>\n",
       "      <th>rating</th>\n",
       "      <th>num_reviews</th>\n",
       "      <th>country</th>\n",
       "      <th>region</th>\n",
       "      <th>price</th>\n",
       "      <th>type</th>\n",
       "      <th>body</th>\n",
       "      <th>acidity</th>\n",
       "    </tr>\n",
       "  </thead>\n",
       "  <tbody>\n",
       "    <tr>\n",
       "      <th>6292</th>\n",
       "      <td>Matsu</td>\n",
       "      <td>El Viejo</td>\n",
       "      <td>2019</td>\n",
       "      <td>4.2</td>\n",
       "      <td>400</td>\n",
       "      <td>Espana</td>\n",
       "      <td>Toro</td>\n",
       "      <td>27.89</td>\n",
       "      <td>Toro Red</td>\n",
       "      <td>NaN</td>\n",
       "      <td>NaN</td>\n",
       "    </tr>\n",
       "    <tr>\n",
       "      <th>5914</th>\n",
       "      <td>Binigrau</td>\n",
       "      <td>Nounat</td>\n",
       "      <td>2020</td>\n",
       "      <td>4.2</td>\n",
       "      <td>404</td>\n",
       "      <td>Espana</td>\n",
       "      <td>Mallorca</td>\n",
       "      <td>19.90</td>\n",
       "      <td>NaN</td>\n",
       "      <td>NaN</td>\n",
       "      <td>NaN</td>\n",
       "    </tr>\n",
       "    <tr>\n",
       "      <th>1142</th>\n",
       "      <td>R. Lopez de Heredia</td>\n",
       "      <td>Vina Tondonia Reserva</td>\n",
       "      <td>2009</td>\n",
       "      <td>4.3</td>\n",
       "      <td>2423</td>\n",
       "      <td>Espana</td>\n",
       "      <td>Rioja</td>\n",
       "      <td>35.09</td>\n",
       "      <td>Rioja Red</td>\n",
       "      <td>NaN</td>\n",
       "      <td>NaN</td>\n",
       "    </tr>\n",
       "    <tr>\n",
       "      <th>6142</th>\n",
       "      <td>Matsu</td>\n",
       "      <td>El Viejo</td>\n",
       "      <td>2019</td>\n",
       "      <td>4.2</td>\n",
       "      <td>400</td>\n",
       "      <td>Espana</td>\n",
       "      <td>Toro</td>\n",
       "      <td>27.89</td>\n",
       "      <td>Toro Red</td>\n",
       "      <td>NaN</td>\n",
       "      <td>NaN</td>\n",
       "    </tr>\n",
       "    <tr>\n",
       "      <th>3486</th>\n",
       "      <td>Ramon do Casar</td>\n",
       "      <td>Treixadura</td>\n",
       "      <td>2020</td>\n",
       "      <td>4.2</td>\n",
       "      <td>407</td>\n",
       "      <td>Espana</td>\n",
       "      <td>Ribeiro</td>\n",
       "      <td>11.95</td>\n",
       "      <td>NaN</td>\n",
       "      <td>NaN</td>\n",
       "      <td>NaN</td>\n",
       "    </tr>\n",
       "  </tbody>\n",
       "</table>\n",
       "</div>"
      ],
      "text/plain": [
       "                   winery                   wine  year  rating  num_reviews  \\\n",
       "6292                Matsu               El Viejo  2019     4.2          400   \n",
       "5914             Binigrau                 Nounat  2020     4.2          404   \n",
       "1142  R. Lopez de Heredia  Vina Tondonia Reserva  2009     4.3         2423   \n",
       "6142                Matsu               El Viejo  2019     4.2          400   \n",
       "3486       Ramon do Casar             Treixadura  2020     4.2          407   \n",
       "\n",
       "     country    region  price       type  body  acidity  \n",
       "6292  Espana      Toro  27.89   Toro Red   NaN      NaN  \n",
       "5914  Espana  Mallorca  19.90        NaN   NaN      NaN  \n",
       "1142  Espana     Rioja  35.09  Rioja Red   NaN      NaN  \n",
       "6142  Espana      Toro  27.89   Toro Red   NaN      NaN  \n",
       "3486  Espana   Ribeiro  11.95        NaN   NaN      NaN  "
      ]
     },
     "execution_count": 476,
     "metadata": {},
     "output_type": "execute_result"
    }
   ],
   "source": [
    "#Tambien obtenemos la cantidad de filas que tienen al menos un valor faltante.\n",
    "index_missing_comercial = df_wine_comercial.isna()[(df_wine_comercial.isna() == True).any(axis='columns')].index\n",
    "df_wine_comercial.loc[index_missing_comercial].sample(5)"
   ]
  },
  {
   "cell_type": "code",
   "execution_count": 477,
   "metadata": {},
   "outputs": [
    {
     "name": "stdout",
     "output_type": "stream",
     "text": [
      "Tenemos en total 1171 registros con al menos un valor faltante\n"
     ]
    }
   ],
   "source": [
    "print(f\"Tenemos en total {len(index_missing_comercial)} registros con al menos un valor faltante\")"
   ]
  },
  {
   "cell_type": "code",
   "execution_count": 478,
   "metadata": {},
   "outputs": [
    {
     "data": {
      "text/plain": [
       "year          2\n",
       "type        545\n",
       "body       1169\n",
       "acidity    1169\n",
       "dtype: int64"
      ]
     },
     "execution_count": 478,
     "metadata": {},
     "output_type": "execute_result"
    }
   ],
   "source": [
    "# Corroboramos las columnas que tine al menos un valor faltantes\n",
    "df_wine_comercial.isna().sum()[df_wine_comercial.isna().sum() > 0]"
   ]
  },
  {
   "cell_type": "code",
   "execution_count": 479,
   "metadata": {},
   "outputs": [
    {
     "data": {
      "text/html": [
       "<div>\n",
       "<style scoped>\n",
       "    .dataframe tbody tr th:only-of-type {\n",
       "        vertical-align: middle;\n",
       "    }\n",
       "\n",
       "    .dataframe tbody tr th {\n",
       "        vertical-align: top;\n",
       "    }\n",
       "\n",
       "    .dataframe thead th {\n",
       "        text-align: right;\n",
       "    }\n",
       "</style>\n",
       "<table border=\"1\" class=\"dataframe\">\n",
       "  <thead>\n",
       "    <tr style=\"text-align: right;\">\n",
       "      <th></th>\n",
       "      <th>column</th>\n",
       "      <th>missing_values</th>\n",
       "      <th>%missing_values</th>\n",
       "    </tr>\n",
       "  </thead>\n",
       "  <tbody>\n",
       "    <tr>\n",
       "      <th>0</th>\n",
       "      <td>body</td>\n",
       "      <td>1169</td>\n",
       "      <td>15.587</td>\n",
       "    </tr>\n",
       "    <tr>\n",
       "      <th>1</th>\n",
       "      <td>acidity</td>\n",
       "      <td>1169</td>\n",
       "      <td>15.587</td>\n",
       "    </tr>\n",
       "    <tr>\n",
       "      <th>2</th>\n",
       "      <td>type</td>\n",
       "      <td>545</td>\n",
       "      <td>7.267</td>\n",
       "    </tr>\n",
       "    <tr>\n",
       "      <th>3</th>\n",
       "      <td>year</td>\n",
       "      <td>2</td>\n",
       "      <td>0.027</td>\n",
       "    </tr>\n",
       "    <tr>\n",
       "      <th>4</th>\n",
       "      <td>winery</td>\n",
       "      <td>0</td>\n",
       "      <td>0.000</td>\n",
       "    </tr>\n",
       "    <tr>\n",
       "      <th>5</th>\n",
       "      <td>wine</td>\n",
       "      <td>0</td>\n",
       "      <td>0.000</td>\n",
       "    </tr>\n",
       "    <tr>\n",
       "      <th>6</th>\n",
       "      <td>rating</td>\n",
       "      <td>0</td>\n",
       "      <td>0.000</td>\n",
       "    </tr>\n",
       "    <tr>\n",
       "      <th>7</th>\n",
       "      <td>num_reviews</td>\n",
       "      <td>0</td>\n",
       "      <td>0.000</td>\n",
       "    </tr>\n",
       "    <tr>\n",
       "      <th>8</th>\n",
       "      <td>country</td>\n",
       "      <td>0</td>\n",
       "      <td>0.000</td>\n",
       "    </tr>\n",
       "    <tr>\n",
       "      <th>9</th>\n",
       "      <td>region</td>\n",
       "      <td>0</td>\n",
       "      <td>0.000</td>\n",
       "    </tr>\n",
       "    <tr>\n",
       "      <th>10</th>\n",
       "      <td>price</td>\n",
       "      <td>0</td>\n",
       "      <td>0.000</td>\n",
       "    </tr>\n",
       "  </tbody>\n",
       "</table>\n",
       "</div>"
      ],
      "text/plain": [
       "         column  missing_values  %missing_values\n",
       "0          body            1169           15.587\n",
       "1       acidity            1169           15.587\n",
       "2          type             545            7.267\n",
       "3          year               2            0.027\n",
       "4        winery               0            0.000\n",
       "5          wine               0            0.000\n",
       "6        rating               0            0.000\n",
       "7   num_reviews               0            0.000\n",
       "8       country               0            0.000\n",
       "9        region               0            0.000\n",
       "10        price               0            0.000"
      ]
     },
     "execution_count": 479,
     "metadata": {},
     "output_type": "execute_result"
    }
   ],
   "source": [
    "# Revisamos las columnas que tienen valores null\n",
    "missing_values_table = pd.DataFrame(df_wine_comercial.isna().sum().sort_values(ascending=False)).reset_index()\n",
    "missing_values_table.columns = ['column', 'missing_values']\n",
    "missing_values_table['%missing_values'] = round((missing_values_table['missing_values'] / df_wine_comercial.shape[0]) * 100, 3)\n",
    "\n",
    "missing_values_table"
   ]
  },
  {
   "cell_type": "markdown",
   "metadata": {},
   "source": [
    "### year"
   ]
  },
  {
   "cell_type": "code",
   "execution_count": 480,
   "metadata": {},
   "outputs": [
    {
     "data": {
      "text/plain": [
       "1910      1\n",
       "1922      1\n",
       "1925      1\n",
       "1928      1\n",
       "1929      1\n",
       "       ... \n",
       "2018    850\n",
       "2019    331\n",
       "2020    474\n",
       "2021      6\n",
       "N.V.    288\n",
       "Name: year, Length: 71, dtype: int64"
      ]
     },
     "execution_count": 480,
     "metadata": {},
     "output_type": "execute_result"
    }
   ],
   "source": [
    "# Obtenemos los valores de la columna year\n",
    "df_wine_comercial.year.value_counts().sort_index()"
   ]
  },
  {
   "cell_type": "code",
   "execution_count": 481,
   "metadata": {},
   "outputs": [
    {
     "data": {
      "text/html": [
       "<div>\n",
       "<style scoped>\n",
       "    .dataframe tbody tr th:only-of-type {\n",
       "        vertical-align: middle;\n",
       "    }\n",
       "\n",
       "    .dataframe tbody tr th {\n",
       "        vertical-align: top;\n",
       "    }\n",
       "\n",
       "    .dataframe thead th {\n",
       "        text-align: right;\n",
       "    }\n",
       "</style>\n",
       "<table border=\"1\" class=\"dataframe\">\n",
       "  <thead>\n",
       "    <tr style=\"text-align: right;\">\n",
       "      <th></th>\n",
       "      <th>winery</th>\n",
       "      <th>wine</th>\n",
       "      <th>year</th>\n",
       "      <th>rating</th>\n",
       "      <th>num_reviews</th>\n",
       "      <th>country</th>\n",
       "      <th>region</th>\n",
       "      <th>price</th>\n",
       "      <th>type</th>\n",
       "      <th>body</th>\n",
       "      <th>acidity</th>\n",
       "    </tr>\n",
       "  </thead>\n",
       "  <tbody>\n",
       "    <tr>\n",
       "      <th>20</th>\n",
       "      <td>Valdespino</td>\n",
       "      <td>Toneles Moscatel</td>\n",
       "      <td>N.V.</td>\n",
       "      <td>4.8</td>\n",
       "      <td>174</td>\n",
       "      <td>Espana</td>\n",
       "      <td>Jerez-Xeres-Sherry</td>\n",
       "      <td>253.00</td>\n",
       "      <td>Sherry</td>\n",
       "      <td>4.0</td>\n",
       "      <td>3.0</td>\n",
       "    </tr>\n",
       "    <tr>\n",
       "      <th>133</th>\n",
       "      <td>Barbadillo</td>\n",
       "      <td>Reliquia Palo Cortado Sherry</td>\n",
       "      <td>N.V.</td>\n",
       "      <td>4.7</td>\n",
       "      <td>58</td>\n",
       "      <td>Espana</td>\n",
       "      <td>Jerez Palo Cortado</td>\n",
       "      <td>380.00</td>\n",
       "      <td>Sherry</td>\n",
       "      <td>4.0</td>\n",
       "      <td>3.0</td>\n",
       "    </tr>\n",
       "    <tr>\n",
       "      <th>142</th>\n",
       "      <td>Alvear</td>\n",
       "      <td>Abuelo Diego Palo Cortado</td>\n",
       "      <td>N.V.</td>\n",
       "      <td>4.7</td>\n",
       "      <td>42</td>\n",
       "      <td>Espana</td>\n",
       "      <td>Montilla-Moriles</td>\n",
       "      <td>114.28</td>\n",
       "      <td>Pedro Ximenez</td>\n",
       "      <td>5.0</td>\n",
       "      <td>1.0</td>\n",
       "    </tr>\n",
       "    <tr>\n",
       "      <th>143</th>\n",
       "      <td>Equipo Navazos</td>\n",
       "      <td>La Bota 78 de Oloroso</td>\n",
       "      <td>N.V.</td>\n",
       "      <td>4.7</td>\n",
       "      <td>41</td>\n",
       "      <td>Espana</td>\n",
       "      <td>Manzanilla</td>\n",
       "      <td>95.57</td>\n",
       "      <td>Sherry</td>\n",
       "      <td>4.0</td>\n",
       "      <td>3.0</td>\n",
       "    </tr>\n",
       "    <tr>\n",
       "      <th>267</th>\n",
       "      <td>Osborne</td>\n",
       "      <td>Solera India Oloroso Rare Sherry</td>\n",
       "      <td>N.V.</td>\n",
       "      <td>4.6</td>\n",
       "      <td>74</td>\n",
       "      <td>Espana</td>\n",
       "      <td>Jerez-Xeres-Sherry</td>\n",
       "      <td>189.99</td>\n",
       "      <td>Sherry</td>\n",
       "      <td>4.0</td>\n",
       "      <td>3.0</td>\n",
       "    </tr>\n",
       "  </tbody>\n",
       "</table>\n",
       "</div>"
      ],
      "text/plain": [
       "             winery                              wine  year  rating  \\\n",
       "20       Valdespino                  Toneles Moscatel  N.V.     4.8   \n",
       "133      Barbadillo      Reliquia Palo Cortado Sherry  N.V.     4.7   \n",
       "142          Alvear         Abuelo Diego Palo Cortado  N.V.     4.7   \n",
       "143  Equipo Navazos             La Bota 78 de Oloroso  N.V.     4.7   \n",
       "267         Osborne  Solera India Oloroso Rare Sherry  N.V.     4.6   \n",
       "\n",
       "     num_reviews country              region   price           type  body  \\\n",
       "20           174  Espana  Jerez-Xeres-Sherry  253.00         Sherry   4.0   \n",
       "133           58  Espana  Jerez Palo Cortado  380.00         Sherry   4.0   \n",
       "142           42  Espana    Montilla-Moriles  114.28  Pedro Ximenez   5.0   \n",
       "143           41  Espana          Manzanilla   95.57         Sherry   4.0   \n",
       "267           74  Espana  Jerez-Xeres-Sherry  189.99         Sherry   4.0   \n",
       "\n",
       "     acidity  \n",
       "20       3.0  \n",
       "133      3.0  \n",
       "142      1.0  \n",
       "143      3.0  \n",
       "267      3.0  "
      ]
     },
     "execution_count": 481,
     "metadata": {},
     "output_type": "execute_result"
    }
   ],
   "source": [
    "# Obtenemos los registros donde year es igual 'N.V.'\n",
    "df_wine_comercial.loc[df_wine_comercial['year'] == 'N.V.'].head()\n"
   ]
  },
  {
   "cell_type": "code",
   "execution_count": 482,
   "metadata": {},
   "outputs": [],
   "source": [
    "# Reemplazamos los valores 'N.V.' de year por NaN\n",
    "df_wine_comercial.loc[df_wine_comercial['year'] == 'N.V.', 'year'] = np.nan"
   ]
  },
  {
   "cell_type": "code",
   "execution_count": 483,
   "metadata": {},
   "outputs": [
    {
     "data": {
      "text/html": [
       "<div>\n",
       "<style scoped>\n",
       "    .dataframe tbody tr th:only-of-type {\n",
       "        vertical-align: middle;\n",
       "    }\n",
       "\n",
       "    .dataframe tbody tr th {\n",
       "        vertical-align: top;\n",
       "    }\n",
       "\n",
       "    .dataframe thead th {\n",
       "        text-align: right;\n",
       "    }\n",
       "</style>\n",
       "<table border=\"1\" class=\"dataframe\">\n",
       "  <thead>\n",
       "    <tr style=\"text-align: right;\">\n",
       "      <th></th>\n",
       "      <th>winery</th>\n",
       "      <th>wine</th>\n",
       "      <th>year</th>\n",
       "      <th>rating</th>\n",
       "      <th>num_reviews</th>\n",
       "      <th>country</th>\n",
       "      <th>region</th>\n",
       "      <th>price</th>\n",
       "      <th>type</th>\n",
       "      <th>body</th>\n",
       "      <th>acidity</th>\n",
       "    </tr>\n",
       "  </thead>\n",
       "  <tbody>\n",
       "  </tbody>\n",
       "</table>\n",
       "</div>"
      ],
      "text/plain": [
       "Empty DataFrame\n",
       "Columns: [winery, wine, year, rating, num_reviews, country, region, price, type, body, acidity]\n",
       "Index: []"
      ]
     },
     "execution_count": 483,
     "metadata": {},
     "output_type": "execute_result"
    }
   ],
   "source": [
    "# Verificamos el cambio de valores de year\n",
    "df_wine_comercial.loc[df_wine_comercial['year'] == 'N.V.'].head()"
   ]
  },
  {
   "cell_type": "code",
   "execution_count": 484,
   "metadata": {},
   "outputs": [
    {
     "data": {
      "text/html": [
       "<div>\n",
       "<style scoped>\n",
       "    .dataframe tbody tr th:only-of-type {\n",
       "        vertical-align: middle;\n",
       "    }\n",
       "\n",
       "    .dataframe tbody tr th {\n",
       "        vertical-align: top;\n",
       "    }\n",
       "\n",
       "    .dataframe thead th {\n",
       "        text-align: right;\n",
       "    }\n",
       "</style>\n",
       "<table border=\"1\" class=\"dataframe\">\n",
       "  <thead>\n",
       "    <tr style=\"text-align: right;\">\n",
       "      <th></th>\n",
       "      <th>winery</th>\n",
       "      <th>wine</th>\n",
       "      <th>year</th>\n",
       "      <th>rating</th>\n",
       "      <th>num_reviews</th>\n",
       "      <th>country</th>\n",
       "      <th>region</th>\n",
       "      <th>price</th>\n",
       "      <th>type</th>\n",
       "      <th>body</th>\n",
       "      <th>acidity</th>\n",
       "    </tr>\n",
       "  </thead>\n",
       "  <tbody>\n",
       "    <tr>\n",
       "      <th>20</th>\n",
       "      <td>Valdespino</td>\n",
       "      <td>Toneles Moscatel</td>\n",
       "      <td>NaN</td>\n",
       "      <td>4.8</td>\n",
       "      <td>174</td>\n",
       "      <td>Espana</td>\n",
       "      <td>Jerez-Xeres-Sherry</td>\n",
       "      <td>253.00</td>\n",
       "      <td>Sherry</td>\n",
       "      <td>4.0</td>\n",
       "      <td>3.0</td>\n",
       "    </tr>\n",
       "    <tr>\n",
       "      <th>46</th>\n",
       "      <td>Vega Sicilia</td>\n",
       "      <td>Unico Reserva Especial Edicion</td>\n",
       "      <td>NaN</td>\n",
       "      <td>4.7</td>\n",
       "      <td>12421</td>\n",
       "      <td>Espana</td>\n",
       "      <td>Ribera del Duero</td>\n",
       "      <td>423.50</td>\n",
       "      <td>Ribera Del Duero Red</td>\n",
       "      <td>5.0</td>\n",
       "      <td>3.0</td>\n",
       "    </tr>\n",
       "    <tr>\n",
       "      <th>133</th>\n",
       "      <td>Barbadillo</td>\n",
       "      <td>Reliquia Palo Cortado Sherry</td>\n",
       "      <td>NaN</td>\n",
       "      <td>4.7</td>\n",
       "      <td>58</td>\n",
       "      <td>Espana</td>\n",
       "      <td>Jerez Palo Cortado</td>\n",
       "      <td>380.00</td>\n",
       "      <td>Sherry</td>\n",
       "      <td>4.0</td>\n",
       "      <td>3.0</td>\n",
       "    </tr>\n",
       "    <tr>\n",
       "      <th>142</th>\n",
       "      <td>Alvear</td>\n",
       "      <td>Abuelo Diego Palo Cortado</td>\n",
       "      <td>NaN</td>\n",
       "      <td>4.7</td>\n",
       "      <td>42</td>\n",
       "      <td>Espana</td>\n",
       "      <td>Montilla-Moriles</td>\n",
       "      <td>114.28</td>\n",
       "      <td>Pedro Ximenez</td>\n",
       "      <td>5.0</td>\n",
       "      <td>1.0</td>\n",
       "    </tr>\n",
       "    <tr>\n",
       "      <th>143</th>\n",
       "      <td>Equipo Navazos</td>\n",
       "      <td>La Bota 78 de Oloroso</td>\n",
       "      <td>NaN</td>\n",
       "      <td>4.7</td>\n",
       "      <td>41</td>\n",
       "      <td>Espana</td>\n",
       "      <td>Manzanilla</td>\n",
       "      <td>95.57</td>\n",
       "      <td>Sherry</td>\n",
       "      <td>4.0</td>\n",
       "      <td>3.0</td>\n",
       "    </tr>\n",
       "  </tbody>\n",
       "</table>\n",
       "</div>"
      ],
      "text/plain": [
       "             winery                            wine year  rating  num_reviews  \\\n",
       "20       Valdespino                Toneles Moscatel  NaN     4.8          174   \n",
       "46     Vega Sicilia  Unico Reserva Especial Edicion  NaN     4.7        12421   \n",
       "133      Barbadillo    Reliquia Palo Cortado Sherry  NaN     4.7           58   \n",
       "142          Alvear       Abuelo Diego Palo Cortado  NaN     4.7           42   \n",
       "143  Equipo Navazos           La Bota 78 de Oloroso  NaN     4.7           41   \n",
       "\n",
       "    country              region   price                  type  body  acidity  \n",
       "20   Espana  Jerez-Xeres-Sherry  253.00                Sherry   4.0      3.0  \n",
       "46   Espana    Ribera del Duero  423.50  Ribera Del Duero Red   5.0      3.0  \n",
       "133  Espana  Jerez Palo Cortado  380.00                Sherry   4.0      3.0  \n",
       "142  Espana    Montilla-Moriles  114.28         Pedro Ximenez   5.0      1.0  \n",
       "143  Espana          Manzanilla   95.57                Sherry   4.0      3.0  "
      ]
     },
     "execution_count": 484,
     "metadata": {},
     "output_type": "execute_result"
    }
   ],
   "source": [
    "# Obtenemos los registros donde year es nan\n",
    "df_wine_comercial.loc[pd.isna(df_wine_comercial['year'])].head()"
   ]
  },
  {
   "cell_type": "code",
   "execution_count": 485,
   "metadata": {},
   "outputs": [
    {
     "data": {
      "text/html": [
       "<div>\n",
       "<style scoped>\n",
       "    .dataframe tbody tr th:only-of-type {\n",
       "        vertical-align: middle;\n",
       "    }\n",
       "\n",
       "    .dataframe tbody tr th {\n",
       "        vertical-align: top;\n",
       "    }\n",
       "\n",
       "    .dataframe thead th {\n",
       "        text-align: right;\n",
       "    }\n",
       "</style>\n",
       "<table border=\"1\" class=\"dataframe\">\n",
       "  <thead>\n",
       "    <tr style=\"text-align: right;\">\n",
       "      <th></th>\n",
       "      <th>winery</th>\n",
       "      <th>wine</th>\n",
       "      <th>year</th>\n",
       "      <th>rating</th>\n",
       "      <th>num_reviews</th>\n",
       "      <th>country</th>\n",
       "      <th>region</th>\n",
       "      <th>price</th>\n",
       "      <th>type</th>\n",
       "      <th>body</th>\n",
       "      <th>acidity</th>\n",
       "    </tr>\n",
       "  </thead>\n",
       "  <tbody>\n",
       "    <tr>\n",
       "      <th>20</th>\n",
       "      <td>Valdespino</td>\n",
       "      <td>Toneles Moscatel</td>\n",
       "      <td>NaN</td>\n",
       "      <td>4.8</td>\n",
       "      <td>174</td>\n",
       "      <td>Espana</td>\n",
       "      <td>Jerez-Xeres-Sherry</td>\n",
       "      <td>253.00</td>\n",
       "      <td>Sherry</td>\n",
       "      <td>4.0</td>\n",
       "      <td>3.0</td>\n",
       "    </tr>\n",
       "    <tr>\n",
       "      <th>46</th>\n",
       "      <td>Vega Sicilia</td>\n",
       "      <td>Unico Reserva Especial Edicion</td>\n",
       "      <td>NaN</td>\n",
       "      <td>4.7</td>\n",
       "      <td>12421</td>\n",
       "      <td>Espana</td>\n",
       "      <td>Ribera del Duero</td>\n",
       "      <td>423.50</td>\n",
       "      <td>Ribera Del Duero Red</td>\n",
       "      <td>5.0</td>\n",
       "      <td>3.0</td>\n",
       "    </tr>\n",
       "    <tr>\n",
       "      <th>133</th>\n",
       "      <td>Barbadillo</td>\n",
       "      <td>Reliquia Palo Cortado Sherry</td>\n",
       "      <td>NaN</td>\n",
       "      <td>4.7</td>\n",
       "      <td>58</td>\n",
       "      <td>Espana</td>\n",
       "      <td>Jerez Palo Cortado</td>\n",
       "      <td>380.00</td>\n",
       "      <td>Sherry</td>\n",
       "      <td>4.0</td>\n",
       "      <td>3.0</td>\n",
       "    </tr>\n",
       "    <tr>\n",
       "      <th>142</th>\n",
       "      <td>Alvear</td>\n",
       "      <td>Abuelo Diego Palo Cortado</td>\n",
       "      <td>NaN</td>\n",
       "      <td>4.7</td>\n",
       "      <td>42</td>\n",
       "      <td>Espana</td>\n",
       "      <td>Montilla-Moriles</td>\n",
       "      <td>114.28</td>\n",
       "      <td>Pedro Ximenez</td>\n",
       "      <td>5.0</td>\n",
       "      <td>1.0</td>\n",
       "    </tr>\n",
       "    <tr>\n",
       "      <th>143</th>\n",
       "      <td>Equipo Navazos</td>\n",
       "      <td>La Bota 78 de Oloroso</td>\n",
       "      <td>NaN</td>\n",
       "      <td>4.7</td>\n",
       "      <td>41</td>\n",
       "      <td>Espana</td>\n",
       "      <td>Manzanilla</td>\n",
       "      <td>95.57</td>\n",
       "      <td>Sherry</td>\n",
       "      <td>4.0</td>\n",
       "      <td>3.0</td>\n",
       "    </tr>\n",
       "  </tbody>\n",
       "</table>\n",
       "</div>"
      ],
      "text/plain": [
       "             winery                            wine year  rating  num_reviews  \\\n",
       "20       Valdespino                Toneles Moscatel  NaN     4.8          174   \n",
       "46     Vega Sicilia  Unico Reserva Especial Edicion  NaN     4.7        12421   \n",
       "133      Barbadillo    Reliquia Palo Cortado Sherry  NaN     4.7           58   \n",
       "142          Alvear       Abuelo Diego Palo Cortado  NaN     4.7           42   \n",
       "143  Equipo Navazos           La Bota 78 de Oloroso  NaN     4.7           41   \n",
       "\n",
       "    country              region   price                  type  body  acidity  \n",
       "20   Espana  Jerez-Xeres-Sherry  253.00                Sherry   4.0      3.0  \n",
       "46   Espana    Ribera del Duero  423.50  Ribera Del Duero Red   5.0      3.0  \n",
       "133  Espana  Jerez Palo Cortado  380.00                Sherry   4.0      3.0  \n",
       "142  Espana    Montilla-Moriles  114.28         Pedro Ximenez   5.0      1.0  \n",
       "143  Espana          Manzanilla   95.57                Sherry   4.0      3.0  "
      ]
     },
     "execution_count": 485,
     "metadata": {},
     "output_type": "execute_result"
    }
   ],
   "source": [
    "# Obtenemos los valores nan de la columna year\n",
    "index_nan_values_years = df_wine_comercial.loc[pd.isna(df_wine_comercial['year'])].index\n",
    "df_wine_comercial.loc[index_nan_values_years].head()"
   ]
  },
  {
   "cell_type": "code",
   "execution_count": 486,
   "metadata": {},
   "outputs": [
    {
     "name": "stdout",
     "output_type": "stream",
     "text": [
      "year nan values: 290 que representan 3.87% de los registros\n"
     ]
    }
   ],
   "source": [
    "print(f\"year nan values: {len(index_nan_values_years)} que representan {round(len(index_nan_values_years)/df_wine_comercial.shape[0]*100, 2)}% de los registros\")"
   ]
  },
  {
   "cell_type": "code",
   "execution_count": 487,
   "metadata": {},
   "outputs": [
    {
     "data": {
      "text/plain": [
       "array([[<AxesSubplot:title={'center':'rating'}>,\n",
       "        <AxesSubplot:title={'center':'num_reviews'}>],\n",
       "       [<AxesSubplot:title={'center':'price'}>,\n",
       "        <AxesSubplot:title={'center':'body'}>],\n",
       "       [<AxesSubplot:title={'center':'acidity'}>, <AxesSubplot:>]],\n",
       "      dtype=object)"
      ]
     },
     "execution_count": 487,
     "metadata": {},
     "output_type": "execute_result"
    },
    {
     "data": {
      "image/png": "[encoded data removed]",
      "text/plain": [
       "<Figure size 720x720 with 6 Axes>"
      ]
     },
     "metadata": {
      "needs_background": "light"
     },
     "output_type": "display_data"
    }
   ],
   "source": [
    "df_wine_comercial.loc[index_nan_values_years].hist( bins=20, figsize=(10,10),color = COLOR_VINO_TINTO)"
   ]
  },
  {
   "cell_type": "markdown",
   "metadata": {},
   "source": [
    "Como los registros que tienen nan en la columna year se comportan parcido al resto de los datos, y no es un numero relevante para de datos signficativos, podemos eliminar estos registros."
   ]
  },
  {
   "cell_type": "code",
   "execution_count": 488,
   "metadata": {},
   "outputs": [],
   "source": [
    "# Eliminamos los registros con valores nan de year\n",
    "df_wine_comercial.dropna(subset=['year'], inplace=True)"
   ]
  },
  {
   "cell_type": "code",
   "execution_count": 489,
   "metadata": {},
   "outputs": [
    {
     "data": {
      "text/html": [
       "<div>\n",
       "<style scoped>\n",
       "    .dataframe tbody tr th:only-of-type {\n",
       "        vertical-align: middle;\n",
       "    }\n",
       "\n",
       "    .dataframe tbody tr th {\n",
       "        vertical-align: top;\n",
       "    }\n",
       "\n",
       "    .dataframe thead th {\n",
       "        text-align: right;\n",
       "    }\n",
       "</style>\n",
       "<table border=\"1\" class=\"dataframe\">\n",
       "  <thead>\n",
       "    <tr style=\"text-align: right;\">\n",
       "      <th></th>\n",
       "      <th>winery</th>\n",
       "      <th>wine</th>\n",
       "      <th>year</th>\n",
       "      <th>rating</th>\n",
       "      <th>num_reviews</th>\n",
       "      <th>country</th>\n",
       "      <th>region</th>\n",
       "      <th>price</th>\n",
       "      <th>type</th>\n",
       "      <th>body</th>\n",
       "      <th>acidity</th>\n",
       "    </tr>\n",
       "  </thead>\n",
       "  <tbody>\n",
       "  </tbody>\n",
       "</table>\n",
       "</div>"
      ],
      "text/plain": [
       "Empty DataFrame\n",
       "Columns: [winery, wine, year, rating, num_reviews, country, region, price, type, body, acidity]\n",
       "Index: []"
      ]
     },
     "execution_count": 489,
     "metadata": {},
     "output_type": "execute_result"
    }
   ],
   "source": [
    "df_wine_comercial.loc[pd.isna(df_wine_comercial['year'])]"
   ]
  },
  {
   "cell_type": "markdown",
   "metadata": {},
   "source": [
    "### type"
   ]
  },
  {
   "cell_type": "code",
   "execution_count": 490,
   "metadata": {},
   "outputs": [
    {
     "data": {
      "text/html": [
       "<div>\n",
       "<style scoped>\n",
       "    .dataframe tbody tr th:only-of-type {\n",
       "        vertical-align: middle;\n",
       "    }\n",
       "\n",
       "    .dataframe tbody tr th {\n",
       "        vertical-align: top;\n",
       "    }\n",
       "\n",
       "    .dataframe thead th {\n",
       "        text-align: right;\n",
       "    }\n",
       "</style>\n",
       "<table border=\"1\" class=\"dataframe\">\n",
       "  <thead>\n",
       "    <tr style=\"text-align: right;\">\n",
       "      <th></th>\n",
       "      <th>winery</th>\n",
       "      <th>wine</th>\n",
       "      <th>year</th>\n",
       "      <th>rating</th>\n",
       "      <th>num_reviews</th>\n",
       "      <th>country</th>\n",
       "      <th>region</th>\n",
       "      <th>price</th>\n",
       "      <th>type</th>\n",
       "      <th>body</th>\n",
       "      <th>acidity</th>\n",
       "    </tr>\n",
       "  </thead>\n",
       "  <tbody>\n",
       "    <tr>\n",
       "      <th>120</th>\n",
       "      <td>Finca Moncloa</td>\n",
       "      <td>Tintilla de Rota</td>\n",
       "      <td>2016</td>\n",
       "      <td>4.7</td>\n",
       "      <td>92</td>\n",
       "      <td>Espana</td>\n",
       "      <td>Cadiz</td>\n",
       "      <td>43.13000</td>\n",
       "      <td>NaN</td>\n",
       "      <td>NaN</td>\n",
       "      <td>NaN</td>\n",
       "    </tr>\n",
       "    <tr>\n",
       "      <th>147</th>\n",
       "      <td>Rafael Palacios</td>\n",
       "      <td>Sorte O Soro Val do Bibei</td>\n",
       "      <td>2019</td>\n",
       "      <td>4.7</td>\n",
       "      <td>37</td>\n",
       "      <td>Espana</td>\n",
       "      <td>Valdeorras</td>\n",
       "      <td>194.86000</td>\n",
       "      <td>NaN</td>\n",
       "      <td>NaN</td>\n",
       "      <td>NaN</td>\n",
       "    </tr>\n",
       "    <tr>\n",
       "      <th>156</th>\n",
       "      <td>Gutierrez de la Vega</td>\n",
       "      <td>Recondita Armonia Monastrell Dulce</td>\n",
       "      <td>1987</td>\n",
       "      <td>4.7</td>\n",
       "      <td>27</td>\n",
       "      <td>Espana</td>\n",
       "      <td>Alicante</td>\n",
       "      <td>81.90000</td>\n",
       "      <td>NaN</td>\n",
       "      <td>NaN</td>\n",
       "      <td>NaN</td>\n",
       "    </tr>\n",
       "    <tr>\n",
       "      <th>254</th>\n",
       "      <td>Costers del Siurana</td>\n",
       "      <td>Dolc de L'Obac</td>\n",
       "      <td>2006</td>\n",
       "      <td>4.6</td>\n",
       "      <td>94</td>\n",
       "      <td>Espana</td>\n",
       "      <td>Priorato</td>\n",
       "      <td>117.23942</td>\n",
       "      <td>NaN</td>\n",
       "      <td>NaN</td>\n",
       "      <td>NaN</td>\n",
       "    </tr>\n",
       "    <tr>\n",
       "      <th>288</th>\n",
       "      <td>Francisco Garcia Perez</td>\n",
       "      <td>Adega do Moucho Treixadura</td>\n",
       "      <td>2017</td>\n",
       "      <td>4.6</td>\n",
       "      <td>53</td>\n",
       "      <td>Espana</td>\n",
       "      <td>Ribeiro</td>\n",
       "      <td>34.50000</td>\n",
       "      <td>NaN</td>\n",
       "      <td>NaN</td>\n",
       "      <td>NaN</td>\n",
       "    </tr>\n",
       "    <tr>\n",
       "      <th>...</th>\n",
       "      <td>...</td>\n",
       "      <td>...</td>\n",
       "      <td>...</td>\n",
       "      <td>...</td>\n",
       "      <td>...</td>\n",
       "      <td>...</td>\n",
       "      <td>...</td>\n",
       "      <td>...</td>\n",
       "      <td>...</td>\n",
       "      <td>...</td>\n",
       "      <td>...</td>\n",
       "    </tr>\n",
       "    <tr>\n",
       "      <th>7440</th>\n",
       "      <td>Binigrau</td>\n",
       "      <td>Nounat</td>\n",
       "      <td>2020</td>\n",
       "      <td>4.2</td>\n",
       "      <td>404</td>\n",
       "      <td>Espana</td>\n",
       "      <td>Mallorca</td>\n",
       "      <td>19.90000</td>\n",
       "      <td>NaN</td>\n",
       "      <td>NaN</td>\n",
       "      <td>NaN</td>\n",
       "    </tr>\n",
       "    <tr>\n",
       "      <th>7462</th>\n",
       "      <td>Ramon do Casar</td>\n",
       "      <td>Treixadura</td>\n",
       "      <td>2020</td>\n",
       "      <td>4.2</td>\n",
       "      <td>407</td>\n",
       "      <td>Espana</td>\n",
       "      <td>Ribeiro</td>\n",
       "      <td>11.95000</td>\n",
       "      <td>NaN</td>\n",
       "      <td>NaN</td>\n",
       "      <td>NaN</td>\n",
       "    </tr>\n",
       "    <tr>\n",
       "      <th>7465</th>\n",
       "      <td>Binigrau</td>\n",
       "      <td>Nounat</td>\n",
       "      <td>2020</td>\n",
       "      <td>4.2</td>\n",
       "      <td>404</td>\n",
       "      <td>Espana</td>\n",
       "      <td>Mallorca</td>\n",
       "      <td>19.90000</td>\n",
       "      <td>NaN</td>\n",
       "      <td>NaN</td>\n",
       "      <td>NaN</td>\n",
       "    </tr>\n",
       "    <tr>\n",
       "      <th>7487</th>\n",
       "      <td>Ramon do Casar</td>\n",
       "      <td>Treixadura</td>\n",
       "      <td>2020</td>\n",
       "      <td>4.2</td>\n",
       "      <td>407</td>\n",
       "      <td>Espana</td>\n",
       "      <td>Ribeiro</td>\n",
       "      <td>11.95000</td>\n",
       "      <td>NaN</td>\n",
       "      <td>NaN</td>\n",
       "      <td>NaN</td>\n",
       "    </tr>\n",
       "    <tr>\n",
       "      <th>7490</th>\n",
       "      <td>Binigrau</td>\n",
       "      <td>Nounat</td>\n",
       "      <td>2020</td>\n",
       "      <td>4.2</td>\n",
       "      <td>404</td>\n",
       "      <td>Espana</td>\n",
       "      <td>Mallorca</td>\n",
       "      <td>19.90000</td>\n",
       "      <td>NaN</td>\n",
       "      <td>NaN</td>\n",
       "      <td>NaN</td>\n",
       "    </tr>\n",
       "  </tbody>\n",
       "</table>\n",
       "<p>538 rows × 11 columns</p>\n",
       "</div>"
      ],
      "text/plain": [
       "                      winery                                wine  year  \\\n",
       "120            Finca Moncloa                    Tintilla de Rota  2016   \n",
       "147          Rafael Palacios           Sorte O Soro Val do Bibei  2019   \n",
       "156     Gutierrez de la Vega  Recondita Armonia Monastrell Dulce  1987   \n",
       "254      Costers del Siurana                      Dolc de L'Obac  2006   \n",
       "288   Francisco Garcia Perez          Adega do Moucho Treixadura  2017   \n",
       "...                      ...                                 ...   ...   \n",
       "7440                Binigrau                              Nounat  2020   \n",
       "7462          Ramon do Casar                          Treixadura  2020   \n",
       "7465                Binigrau                              Nounat  2020   \n",
       "7487          Ramon do Casar                          Treixadura  2020   \n",
       "7490                Binigrau                              Nounat  2020   \n",
       "\n",
       "      rating  num_reviews country      region      price type  body  acidity  \n",
       "120      4.7           92  Espana       Cadiz   43.13000  NaN   NaN      NaN  \n",
       "147      4.7           37  Espana  Valdeorras  194.86000  NaN   NaN      NaN  \n",
       "156      4.7           27  Espana    Alicante   81.90000  NaN   NaN      NaN  \n",
       "254      4.6           94  Espana    Priorato  117.23942  NaN   NaN      NaN  \n",
       "288      4.6           53  Espana     Ribeiro   34.50000  NaN   NaN      NaN  \n",
       "...      ...          ...     ...         ...        ...  ...   ...      ...  \n",
       "7440     4.2          404  Espana    Mallorca   19.90000  NaN   NaN      NaN  \n",
       "7462     4.2          407  Espana     Ribeiro   11.95000  NaN   NaN      NaN  \n",
       "7465     4.2          404  Espana    Mallorca   19.90000  NaN   NaN      NaN  \n",
       "7487     4.2          407  Espana     Ribeiro   11.95000  NaN   NaN      NaN  \n",
       "7490     4.2          404  Espana    Mallorca   19.90000  NaN   NaN      NaN  \n",
       "\n",
       "[538 rows x 11 columns]"
      ]
     },
     "execution_count": 490,
     "metadata": {},
     "output_type": "execute_result"
    }
   ],
   "source": [
    "# Obtenemos los valores nan de la columna type\n",
    "index_nan_values_type = df_wine_comercial.loc[pd.isna(df_wine_comercial['type'])].index\n",
    "df_wine_comercial.loc[index_nan_values_type]"
   ]
  },
  {
   "cell_type": "markdown",
   "metadata": {},
   "source": [
    "Vemos un patron al buscar los nulos de type, donde coinciden los NaN de type, body y acidity."
   ]
  },
  {
   "cell_type": "code",
   "execution_count": 491,
   "metadata": {},
   "outputs": [
    {
     "data": {
      "text/html": [
       "<div>\n",
       "<style scoped>\n",
       "    .dataframe tbody tr th:only-of-type {\n",
       "        vertical-align: middle;\n",
       "    }\n",
       "\n",
       "    .dataframe tbody tr th {\n",
       "        vertical-align: top;\n",
       "    }\n",
       "\n",
       "    .dataframe thead th {\n",
       "        text-align: right;\n",
       "    }\n",
       "</style>\n",
       "<table border=\"1\" class=\"dataframe\">\n",
       "  <thead>\n",
       "    <tr style=\"text-align: right;\">\n",
       "      <th></th>\n",
       "      <th>winery</th>\n",
       "      <th>wine</th>\n",
       "      <th>year</th>\n",
       "      <th>rating</th>\n",
       "      <th>num_reviews</th>\n",
       "      <th>country</th>\n",
       "      <th>region</th>\n",
       "      <th>price</th>\n",
       "      <th>type</th>\n",
       "      <th>body</th>\n",
       "      <th>acidity</th>\n",
       "    </tr>\n",
       "  </thead>\n",
       "  <tbody>\n",
       "    <tr>\n",
       "      <th>120</th>\n",
       "      <td>Finca Moncloa</td>\n",
       "      <td>Tintilla de Rota</td>\n",
       "      <td>2016</td>\n",
       "      <td>4.7</td>\n",
       "      <td>92</td>\n",
       "      <td>Espana</td>\n",
       "      <td>Cadiz</td>\n",
       "      <td>43.13000</td>\n",
       "      <td>NaN</td>\n",
       "      <td>NaN</td>\n",
       "      <td>NaN</td>\n",
       "    </tr>\n",
       "    <tr>\n",
       "      <th>147</th>\n",
       "      <td>Rafael Palacios</td>\n",
       "      <td>Sorte O Soro Val do Bibei</td>\n",
       "      <td>2019</td>\n",
       "      <td>4.7</td>\n",
       "      <td>37</td>\n",
       "      <td>Espana</td>\n",
       "      <td>Valdeorras</td>\n",
       "      <td>194.86000</td>\n",
       "      <td>NaN</td>\n",
       "      <td>NaN</td>\n",
       "      <td>NaN</td>\n",
       "    </tr>\n",
       "    <tr>\n",
       "      <th>156</th>\n",
       "      <td>Gutierrez de la Vega</td>\n",
       "      <td>Recondita Armonia Monastrell Dulce</td>\n",
       "      <td>1987</td>\n",
       "      <td>4.7</td>\n",
       "      <td>27</td>\n",
       "      <td>Espana</td>\n",
       "      <td>Alicante</td>\n",
       "      <td>81.90000</td>\n",
       "      <td>NaN</td>\n",
       "      <td>NaN</td>\n",
       "      <td>NaN</td>\n",
       "    </tr>\n",
       "    <tr>\n",
       "      <th>254</th>\n",
       "      <td>Costers del Siurana</td>\n",
       "      <td>Dolc de L'Obac</td>\n",
       "      <td>2006</td>\n",
       "      <td>4.6</td>\n",
       "      <td>94</td>\n",
       "      <td>Espana</td>\n",
       "      <td>Priorato</td>\n",
       "      <td>117.23942</td>\n",
       "      <td>NaN</td>\n",
       "      <td>NaN</td>\n",
       "      <td>NaN</td>\n",
       "    </tr>\n",
       "    <tr>\n",
       "      <th>288</th>\n",
       "      <td>Francisco Garcia Perez</td>\n",
       "      <td>Adega do Moucho Treixadura</td>\n",
       "      <td>2017</td>\n",
       "      <td>4.6</td>\n",
       "      <td>53</td>\n",
       "      <td>Espana</td>\n",
       "      <td>Ribeiro</td>\n",
       "      <td>34.50000</td>\n",
       "      <td>NaN</td>\n",
       "      <td>NaN</td>\n",
       "      <td>NaN</td>\n",
       "    </tr>\n",
       "    <tr>\n",
       "      <th>...</th>\n",
       "      <td>...</td>\n",
       "      <td>...</td>\n",
       "      <td>...</td>\n",
       "      <td>...</td>\n",
       "      <td>...</td>\n",
       "      <td>...</td>\n",
       "      <td>...</td>\n",
       "      <td>...</td>\n",
       "      <td>...</td>\n",
       "      <td>...</td>\n",
       "      <td>...</td>\n",
       "    </tr>\n",
       "    <tr>\n",
       "      <th>7440</th>\n",
       "      <td>Binigrau</td>\n",
       "      <td>Nounat</td>\n",
       "      <td>2020</td>\n",
       "      <td>4.2</td>\n",
       "      <td>404</td>\n",
       "      <td>Espana</td>\n",
       "      <td>Mallorca</td>\n",
       "      <td>19.90000</td>\n",
       "      <td>NaN</td>\n",
       "      <td>NaN</td>\n",
       "      <td>NaN</td>\n",
       "    </tr>\n",
       "    <tr>\n",
       "      <th>7462</th>\n",
       "      <td>Ramon do Casar</td>\n",
       "      <td>Treixadura</td>\n",
       "      <td>2020</td>\n",
       "      <td>4.2</td>\n",
       "      <td>407</td>\n",
       "      <td>Espana</td>\n",
       "      <td>Ribeiro</td>\n",
       "      <td>11.95000</td>\n",
       "      <td>NaN</td>\n",
       "      <td>NaN</td>\n",
       "      <td>NaN</td>\n",
       "    </tr>\n",
       "    <tr>\n",
       "      <th>7465</th>\n",
       "      <td>Binigrau</td>\n",
       "      <td>Nounat</td>\n",
       "      <td>2020</td>\n",
       "      <td>4.2</td>\n",
       "      <td>404</td>\n",
       "      <td>Espana</td>\n",
       "      <td>Mallorca</td>\n",
       "      <td>19.90000</td>\n",
       "      <td>NaN</td>\n",
       "      <td>NaN</td>\n",
       "      <td>NaN</td>\n",
       "    </tr>\n",
       "    <tr>\n",
       "      <th>7487</th>\n",
       "      <td>Ramon do Casar</td>\n",
       "      <td>Treixadura</td>\n",
       "      <td>2020</td>\n",
       "      <td>4.2</td>\n",
       "      <td>407</td>\n",
       "      <td>Espana</td>\n",
       "      <td>Ribeiro</td>\n",
       "      <td>11.95000</td>\n",
       "      <td>NaN</td>\n",
       "      <td>NaN</td>\n",
       "      <td>NaN</td>\n",
       "    </tr>\n",
       "    <tr>\n",
       "      <th>7490</th>\n",
       "      <td>Binigrau</td>\n",
       "      <td>Nounat</td>\n",
       "      <td>2020</td>\n",
       "      <td>4.2</td>\n",
       "      <td>404</td>\n",
       "      <td>Espana</td>\n",
       "      <td>Mallorca</td>\n",
       "      <td>19.90000</td>\n",
       "      <td>NaN</td>\n",
       "      <td>NaN</td>\n",
       "      <td>NaN</td>\n",
       "    </tr>\n",
       "  </tbody>\n",
       "</table>\n",
       "<p>538 rows × 11 columns</p>\n",
       "</div>"
      ],
      "text/plain": [
       "                      winery                                wine  year  \\\n",
       "120            Finca Moncloa                    Tintilla de Rota  2016   \n",
       "147          Rafael Palacios           Sorte O Soro Val do Bibei  2019   \n",
       "156     Gutierrez de la Vega  Recondita Armonia Monastrell Dulce  1987   \n",
       "254      Costers del Siurana                      Dolc de L'Obac  2006   \n",
       "288   Francisco Garcia Perez          Adega do Moucho Treixadura  2017   \n",
       "...                      ...                                 ...   ...   \n",
       "7440                Binigrau                              Nounat  2020   \n",
       "7462          Ramon do Casar                          Treixadura  2020   \n",
       "7465                Binigrau                              Nounat  2020   \n",
       "7487          Ramon do Casar                          Treixadura  2020   \n",
       "7490                Binigrau                              Nounat  2020   \n",
       "\n",
       "      rating  num_reviews country      region      price type  body  acidity  \n",
       "120      4.7           92  Espana       Cadiz   43.13000  NaN   NaN      NaN  \n",
       "147      4.7           37  Espana  Valdeorras  194.86000  NaN   NaN      NaN  \n",
       "156      4.7           27  Espana    Alicante   81.90000  NaN   NaN      NaN  \n",
       "254      4.6           94  Espana    Priorato  117.23942  NaN   NaN      NaN  \n",
       "288      4.6           53  Espana     Ribeiro   34.50000  NaN   NaN      NaN  \n",
       "...      ...          ...     ...         ...        ...  ...   ...      ...  \n",
       "7440     4.2          404  Espana    Mallorca   19.90000  NaN   NaN      NaN  \n",
       "7462     4.2          407  Espana     Ribeiro   11.95000  NaN   NaN      NaN  \n",
       "7465     4.2          404  Espana    Mallorca   19.90000  NaN   NaN      NaN  \n",
       "7487     4.2          407  Espana     Ribeiro   11.95000  NaN   NaN      NaN  \n",
       "7490     4.2          404  Espana    Mallorca   19.90000  NaN   NaN      NaN  \n",
       "\n",
       "[538 rows x 11 columns]"
      ]
     },
     "execution_count": 491,
     "metadata": {},
     "output_type": "execute_result"
    }
   ],
   "source": [
    "# Obtenemos los registros que tiene NaN en las columnas type , body y acidity en simulataneo\n",
    "index_nan_values_tba = df_wine_comercial[df_wine_comercial[['type', 'body', 'acidity']].isna().all(axis=1)].index\n",
    "df_wine_comercial.loc[index_nan_values_tba]\n",
    "\n"
   ]
  },
  {
   "cell_type": "code",
   "execution_count": 492,
   "metadata": {},
   "outputs": [
    {
     "name": "stdout",
     "output_type": "stream",
     "text": [
      "Cantidad de registros con valores nan en type, 538\n",
      "Cantidad de registros con valores nan en type, body y acidity, 538\n"
     ]
    }
   ],
   "source": [
    "print(f\"Cantidad de registros con valores nan en type, {len(index_nan_values_type)}\")\n",
    "print(f\"Cantidad de registros con valores nan en type, body y acidity, {len(index_nan_values_tba)}\")"
   ]
  },
  {
   "cell_type": "markdown",
   "metadata": {},
   "source": [
    "Confirmamos que coinciden los registros que tienen nan en la columna type, body y acidity. Rellenar este tipo de registros generaria un sesgo importante para el análisis, por lo que procederemos a eliminar estos registros."
   ]
  },
  {
   "cell_type": "code",
   "execution_count": 493,
   "metadata": {},
   "outputs": [],
   "source": [
    "# delete rows which indexes are in index_nan_values_tba\n",
    "df_wine_comercial.drop(index_nan_values_tba, inplace=True)"
   ]
  },
  {
   "cell_type": "code",
   "execution_count": 494,
   "metadata": {},
   "outputs": [
    {
     "data": {
      "text/html": [
       "<div>\n",
       "<style scoped>\n",
       "    .dataframe tbody tr th:only-of-type {\n",
       "        vertical-align: middle;\n",
       "    }\n",
       "\n",
       "    .dataframe tbody tr th {\n",
       "        vertical-align: top;\n",
       "    }\n",
       "\n",
       "    .dataframe thead th {\n",
       "        text-align: right;\n",
       "    }\n",
       "</style>\n",
       "<table border=\"1\" class=\"dataframe\">\n",
       "  <thead>\n",
       "    <tr style=\"text-align: right;\">\n",
       "      <th></th>\n",
       "      <th>winery</th>\n",
       "      <th>wine</th>\n",
       "      <th>year</th>\n",
       "      <th>rating</th>\n",
       "      <th>num_reviews</th>\n",
       "      <th>country</th>\n",
       "      <th>region</th>\n",
       "      <th>price</th>\n",
       "      <th>type</th>\n",
       "      <th>body</th>\n",
       "      <th>acidity</th>\n",
       "    </tr>\n",
       "  </thead>\n",
       "  <tbody>\n",
       "  </tbody>\n",
       "</table>\n",
       "</div>"
      ],
      "text/plain": [
       "Empty DataFrame\n",
       "Columns: [winery, wine, year, rating, num_reviews, country, region, price, type, body, acidity]\n",
       "Index: []"
      ]
     },
     "execution_count": 494,
     "metadata": {},
     "output_type": "execute_result"
    }
   ],
   "source": [
    "df_wine_comercial.loc[pd.isna(df_wine_comercial['type'])]"
   ]
  },
  {
   "cell_type": "code",
   "execution_count": 495,
   "metadata": {},
   "outputs": [
    {
     "data": {
      "text/plain": [
       "winery           0\n",
       "wine             0\n",
       "year             0\n",
       "rating           0\n",
       "num_reviews      0\n",
       "country          0\n",
       "region           0\n",
       "price            0\n",
       "type             0\n",
       "body           602\n",
       "acidity        602\n",
       "dtype: int64"
      ]
     },
     "execution_count": 495,
     "metadata": {},
     "output_type": "execute_result"
    }
   ],
   "source": [
    "# Verificamos que no hay valores nan en el dataframe\n",
    "df_wine_comercial.isna().sum()"
   ]
  },
  {
   "cell_type": "markdown",
   "metadata": {},
   "source": [
    "### body y acidity"
   ]
  },
  {
   "cell_type": "markdown",
   "metadata": {},
   "source": [
    "Verificamos si los valores NaN de body y acidity coinciden"
   ]
  },
  {
   "cell_type": "code",
   "execution_count": 496,
   "metadata": {},
   "outputs": [
    {
     "name": "stdout",
     "output_type": "stream",
     "text": [
      "La cantidad de NaN en body y acidity es 602\n"
     ]
    }
   ],
   "source": [
    "index_nan_values_bo_ac = df_wine_comercial[df_wine_comercial[['body', 'acidity']].isna().all(axis=1)].index\n",
    "print(f\"La cantidad de NaN en body y acidity es {len(index_nan_values_bo_ac)}\")"
   ]
  },
  {
   "cell_type": "markdown",
   "metadata": {},
   "source": [
    "Confirmamos que los valores NaN de body y acidity coinciden, entonces procederemos a eliminar estos registros."
   ]
  },
  {
   "cell_type": "code",
   "execution_count": 497,
   "metadata": {},
   "outputs": [],
   "source": [
    "# Eliminamos los registros con valores nan en body y acidity\n",
    "df_wine_comercial.drop(index_nan_values_bo_ac, inplace=True)"
   ]
  },
  {
   "cell_type": "markdown",
   "metadata": {},
   "source": [
    "Tambien confirmamos que ya no existen valores nulos en nuestro dataset."
   ]
  },
  {
   "cell_type": "code",
   "execution_count": 498,
   "metadata": {},
   "outputs": [
    {
     "data": {
      "text/plain": [
       "winery         0\n",
       "wine           0\n",
       "year           0\n",
       "rating         0\n",
       "num_reviews    0\n",
       "country        0\n",
       "region         0\n",
       "price          0\n",
       "type           0\n",
       "body           0\n",
       "acidity        0\n",
       "dtype: int64"
      ]
     },
     "execution_count": 498,
     "metadata": {},
     "output_type": "execute_result"
    }
   ],
   "source": [
    "# Verificamos que no hay valores nan en el dataframe\n",
    "df_wine_comercial.isna().sum()"
   ]
  },
  {
   "cell_type": "code",
   "execution_count": 499,
   "metadata": {},
   "outputs": [
    {
     "name": "stdout",
     "output_type": "stream",
     "text": [
      "<class 'pandas.core.frame.DataFrame'>\n",
      "Int64Index: 6070 entries, 0 to 7499\n",
      "Data columns (total 11 columns):\n",
      " #   Column       Non-Null Count  Dtype  \n",
      "---  ------       --------------  -----  \n",
      " 0   winery       6070 non-null   object \n",
      " 1   wine         6070 non-null   object \n",
      " 2   year         6070 non-null   object \n",
      " 3   rating       6070 non-null   float64\n",
      " 4   num_reviews  6070 non-null   int64  \n",
      " 5   country      6070 non-null   object \n",
      " 6   region       6070 non-null   object \n",
      " 7   price        6070 non-null   float64\n",
      " 8   type         6070 non-null   object \n",
      " 9   body         6070 non-null   float64\n",
      " 10  acidity      6070 non-null   float64\n",
      "dtypes: float64(4), int64(1), object(6)\n",
      "memory usage: 569.1+ KB\n"
     ]
    }
   ],
   "source": [
    "df_wine_comercial.info()"
   ]
  },
  {
   "cell_type": "markdown",
   "metadata": {},
   "source": [
    "### Estructuracion"
   ]
  },
  {
   "cell_type": "markdown",
   "metadata": {},
   "source": [
    "De la etapa anterior identificamos para la estructuracion:\n",
    "- Cambiar el tipo de la columna `year` a numerica tratando el valor `N.V.` como nulo\n",
    "- Cambiar el tipo de la columna `body` a categorica\n",
    "- Estandarizar los valores de la columna `rating` y cambiar el tipo a categorica"
   ]
  },
  {
   "cell_type": "code",
   "execution_count": 500,
   "metadata": {},
   "outputs": [
    {
     "name": "stdout",
     "output_type": "stream",
     "text": [
      "<class 'pandas.core.frame.DataFrame'>\n",
      "Int64Index: 6070 entries, 0 to 7499\n",
      "Data columns (total 11 columns):\n",
      " #   Column       Non-Null Count  Dtype  \n",
      "---  ------       --------------  -----  \n",
      " 0   winery       6070 non-null   object \n",
      " 1   wine         6070 non-null   object \n",
      " 2   year         6070 non-null   object \n",
      " 3   rating       6070 non-null   float64\n",
      " 4   num_reviews  6070 non-null   int64  \n",
      " 5   country      6070 non-null   object \n",
      " 6   region       6070 non-null   object \n",
      " 7   price        6070 non-null   float64\n",
      " 8   type         6070 non-null   object \n",
      " 9   body         6070 non-null   float64\n",
      " 10  acidity      6070 non-null   float64\n",
      "dtypes: float64(4), int64(1), object(6)\n",
      "memory usage: 569.1+ KB\n"
     ]
    }
   ],
   "source": [
    "df_wine_comercial.info()"
   ]
  },
  {
   "cell_type": "markdown",
   "metadata": {},
   "source": [
    "### year"
   ]
  },
  {
   "cell_type": "code",
   "execution_count": 501,
   "metadata": {},
   "outputs": [],
   "source": [
    "# Convertimos el tipo de dato de year a numerica\n",
    "df_wine_comercial[\"year\"] = df_wine_comercial['year'].astype('int')\n"
   ]
  },
  {
   "cell_type": "markdown",
   "metadata": {},
   "source": [
    "### body"
   ]
  },
  {
   "cell_type": "code",
   "execution_count": 502,
   "metadata": {},
   "outputs": [
    {
     "data": {
      "text/plain": [
       "dtype('float64')"
      ]
     },
     "execution_count": 502,
     "metadata": {},
     "output_type": "execute_result"
    }
   ],
   "source": [
    "df_wine_comercial.body.dtype"
   ]
  },
  {
   "cell_type": "code",
   "execution_count": 503,
   "metadata": {},
   "outputs": [
    {
     "data": {
      "text/plain": [
       "2.0      34\n",
       "3.0     553\n",
       "4.0    3868\n",
       "5.0    1615\n",
       "Name: body, dtype: int64"
      ]
     },
     "execution_count": 503,
     "metadata": {},
     "output_type": "execute_result"
    }
   ],
   "source": [
    "# Obtenemos los valores de la columna body\n",
    "df_wine_comercial.body.value_counts().sort_index()"
   ]
  },
  {
   "cell_type": "code",
   "execution_count": 504,
   "metadata": {},
   "outputs": [],
   "source": [
    "# convertimos el tipo de dato de body a categoria\n",
    "df_wine_comercial[\"body\"] = df_wine_comercial[\"body\"].apply(lambda x: f'{x:.0f}').astype(\"category\")"
   ]
  },
  {
   "cell_type": "code",
   "execution_count": 505,
   "metadata": {},
   "outputs": [
    {
     "data": {
      "text/plain": [
       "CategoricalDtype(categories=['2', '3', '4', '5'], ordered=False)"
      ]
     },
     "execution_count": 505,
     "metadata": {},
     "output_type": "execute_result"
    }
   ],
   "source": [
    "df_wine_comercial.body.dtype"
   ]
  },
  {
   "cell_type": "markdown",
   "metadata": {},
   "source": [
    "### rating"
   ]
  },
  {
   "cell_type": "code",
   "execution_count": 506,
   "metadata": {},
   "outputs": [
    {
     "data": {
      "text/plain": [
       "dtype('float64')"
      ]
     },
     "execution_count": 506,
     "metadata": {},
     "output_type": "execute_result"
    }
   ],
   "source": [
    "df_wine_comercial.rating.dtype"
   ]
  },
  {
   "cell_type": "code",
   "execution_count": 507,
   "metadata": {},
   "outputs": [
    {
     "data": {
      "text/plain": [
       "4.2    4544\n",
       "4.3     528\n",
       "4.4     402\n",
       "4.5     264\n",
       "4.6     182\n",
       "4.7     105\n",
       "4.8      43\n",
       "4.9       2\n",
       "Name: rating, dtype: int64"
      ]
     },
     "execution_count": 507,
     "metadata": {},
     "output_type": "execute_result"
    }
   ],
   "source": [
    "# Obtenemos los valores de la columna rating\n",
    "values_rating = df_wine_comercial.rating.value_counts().sort_index()\n",
    "values_rating"
   ]
  },
  {
   "cell_type": "markdown",
   "metadata": {},
   "source": [
    "Como para nosotros la variable rating tiene una representacion categorica ordinal, debemos trabajar la variable como tipo categorica explicitando el orden. "
   ]
  },
  {
   "cell_type": "code",
   "execution_count": 508,
   "metadata": {},
   "outputs": [],
   "source": [
    "# convertimos el tipo de dato de rating a categorica y codificamos los valores\n",
    "df_wine_comercial[\"rating\"] = df_wine_comercial[\"rating\"].astype(\"category\").cat.codes.astype(\"category\").cat.as_ordered()"
   ]
  },
  {
   "cell_type": "code",
   "execution_count": 509,
   "metadata": {},
   "outputs": [
    {
     "data": {
      "text/plain": [
       "CategoricalDtype(categories=[0, 1, 2, 3, 4, 5, 6, 7], ordered=True)"
      ]
     },
     "execution_count": 509,
     "metadata": {},
     "output_type": "execute_result"
    }
   ],
   "source": [
    "df_wine_comercial[\"rating\"].dtype"
   ]
  },
  {
   "cell_type": "code",
   "execution_count": 510,
   "metadata": {},
   "outputs": [
    {
     "name": "stdout",
     "output_type": "stream",
     "text": [
      "<class 'pandas.core.frame.DataFrame'>\n",
      "Int64Index: 6070 entries, 0 to 7499\n",
      "Data columns (total 11 columns):\n",
      " #   Column       Non-Null Count  Dtype   \n",
      "---  ------       --------------  -----   \n",
      " 0   winery       6070 non-null   object  \n",
      " 1   wine         6070 non-null   object  \n",
      " 2   year         6070 non-null   int32   \n",
      " 3   rating       6070 non-null   category\n",
      " 4   num_reviews  6070 non-null   int64   \n",
      " 5   country      6070 non-null   object  \n",
      " 6   region       6070 non-null   object  \n",
      " 7   price        6070 non-null   float64 \n",
      " 8   type         6070 non-null   object  \n",
      " 9   body         6070 non-null   category\n",
      " 10  acidity      6070 non-null   float64 \n",
      "dtypes: category(2), float64(2), int32(1), int64(1), object(5)\n",
      "memory usage: 462.9+ KB\n"
     ]
    }
   ],
   "source": [
    "df_wine_comercial.info()"
   ]
  },
  {
   "cell_type": "markdown",
   "metadata": {},
   "source": [
    "## Coherencia de datos"
   ]
  },
  {
   "cell_type": "code",
   "execution_count": 511,
   "metadata": {},
   "outputs": [
    {
     "data": {
      "text/html": [
       "<div>\n",
       "<style scoped>\n",
       "    .dataframe tbody tr th:only-of-type {\n",
       "        vertical-align: middle;\n",
       "    }\n",
       "\n",
       "    .dataframe tbody tr th {\n",
       "        vertical-align: top;\n",
       "    }\n",
       "\n",
       "    .dataframe thead th {\n",
       "        text-align: right;\n",
       "    }\n",
       "</style>\n",
       "<table border=\"1\" class=\"dataframe\">\n",
       "  <thead>\n",
       "    <tr style=\"text-align: right;\">\n",
       "      <th></th>\n",
       "      <th>Cantidad</th>\n",
       "      <th>Porcentaje</th>\n",
       "    </tr>\n",
       "  </thead>\n",
       "  <tbody>\n",
       "    <tr>\n",
       "      <th>winery</th>\n",
       "      <td>395</td>\n",
       "      <td>6.507414</td>\n",
       "    </tr>\n",
       "    <tr>\n",
       "      <th>wine</th>\n",
       "      <td>677</td>\n",
       "      <td>11.153213</td>\n",
       "    </tr>\n",
       "    <tr>\n",
       "      <th>country</th>\n",
       "      <td>1</td>\n",
       "      <td>0.016474</td>\n",
       "    </tr>\n",
       "    <tr>\n",
       "      <th>region</th>\n",
       "      <td>63</td>\n",
       "      <td>1.037891</td>\n",
       "    </tr>\n",
       "    <tr>\n",
       "      <th>type</th>\n",
       "      <td>21</td>\n",
       "      <td>0.345964</td>\n",
       "    </tr>\n",
       "  </tbody>\n",
       "</table>\n",
       "</div>"
      ],
      "text/plain": [
       "         Cantidad  Porcentaje\n",
       "winery        395    6.507414\n",
       "wine          677   11.153213\n",
       "country         1    0.016474\n",
       "region         63    1.037891\n",
       "type           21    0.345964"
      ]
     },
     "execution_count": 511,
     "metadata": {},
     "output_type": "execute_result"
    }
   ],
   "source": [
    "# Cardinalidad de las columnas categoricas\n",
    "df_wine_completo_object = df_wine_comercial.select_dtypes(include=['object'])\n",
    "cardinalidad = pd.DataFrame({'Cantidad' : df_wine_completo_object.nunique(), 'Porcentaje' : ((df_wine_completo_object.nunique()) * 100) / (df_wine_completo_object.shape[0]) })\n",
    "cardinalidad"
   ]
  },
  {
   "cell_type": "markdown",
   "metadata": {},
   "source": [
    "### country"
   ]
  },
  {
   "cell_type": "code",
   "execution_count": 512,
   "metadata": {},
   "outputs": [
    {
     "data": {
      "text/plain": [
       "Espana    6070\n",
       "Name: country, dtype: int64"
      ]
     },
     "execution_count": 512,
     "metadata": {},
     "output_type": "execute_result"
    }
   ],
   "source": [
    "# Revisamos los datos que tiene la columna country\n",
    "df_wine_comercial.country.value_counts().sort_index()"
   ]
  },
  {
   "cell_type": "markdown",
   "metadata": {},
   "source": [
    "Esta variable no tiene relevancia para el análisis, por lo que procederemos a eliminarla."
   ]
  },
  {
   "cell_type": "code",
   "execution_count": 513,
   "metadata": {},
   "outputs": [],
   "source": [
    "# Eliminamos la columna country\n",
    "df_wine_comercial.drop(['country'], axis=1, inplace=True)"
   ]
  },
  {
   "cell_type": "code",
   "execution_count": 514,
   "metadata": {},
   "outputs": [
    {
     "name": "stdout",
     "output_type": "stream",
     "text": [
      "<class 'pandas.core.frame.DataFrame'>\n",
      "Int64Index: 6070 entries, 0 to 7499\n",
      "Data columns (total 10 columns):\n",
      " #   Column       Non-Null Count  Dtype   \n",
      "---  ------       --------------  -----   \n",
      " 0   winery       6070 non-null   object  \n",
      " 1   wine         6070 non-null   object  \n",
      " 2   year         6070 non-null   int32   \n",
      " 3   rating       6070 non-null   category\n",
      " 4   num_reviews  6070 non-null   int64   \n",
      " 5   region       6070 non-null   object  \n",
      " 6   price        6070 non-null   float64 \n",
      " 7   type         6070 non-null   object  \n",
      " 8   body         6070 non-null   category\n",
      " 9   acidity      6070 non-null   float64 \n",
      "dtypes: category(2), float64(2), int32(1), int64(1), object(4)\n",
      "memory usage: 415.5+ KB\n"
     ]
    }
   ],
   "source": [
    "df_wine_comercial.info()"
   ]
  },
  {
   "cell_type": "markdown",
   "metadata": {},
   "source": [
    "Podriamos eliminar las demas columnas con alta cardinalidad, pero las vamos a dejar para el EDA."
   ]
  },
  {
   "cell_type": "code",
   "execution_count": 515,
   "metadata": {},
   "outputs": [],
   "source": [
    "# Guardamos el dataframe en un archivo csv\n",
    "#df_wine_comercial\n",
    "df_wine_comercial.to_csv(data_dir(\"intermediate\", \"structured_comercial.csv\"), index=False, encoding='utf-8')"
   ]
  }
 ],
 "metadata": {
  "kernelspec": {
   "display_name": "Python 3.9.12 ('vinos_coderhouse')",
   "language": "python",
   "name": "python3"
  },
  "language_info": {
   "codemirror_mode": {
    "name": "ipython",
    "version": 3
   },
   "file_extension": ".py",
   "mimetype": "text/x-python",
   "name": "python",
   "nbconvert_exporter": "python",
   "pygments_lexer": "ipython3",
   "version": "3.9.12"
  },
  "orig_nbformat": 4,
  "vscode": {
   "interpreter": {
    "hash": "8a9aaa9b1418154e921653208df6805fa10bbf52c1a504240ba40699d5f106f5"
   }
  }
 },
 "nbformat": 4,
 "nbformat_minor": 2
}
