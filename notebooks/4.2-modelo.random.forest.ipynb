{
 "cells": [
  {
   "cell_type": "markdown",
   "metadata": {},
   "source": [
    "# 4.2 Random Forest"
   ]
  },
  {
   "cell_type": "markdown",
   "id": "61c1956b",
   "metadata": {},
   "source": [
    "## Import libraries"
   ]
  },
  {
   "cell_type": "code",
   "execution_count": 28,
   "id": "aa345a09",
   "metadata": {},
   "outputs": [
    {
     "name": "stdout",
     "output_type": "stream",
     "text": [
      "The autoreload extension is already loaded. To reload it, use:\n",
      "  %reload_ext autoreload\n"
     ]
    }
   ],
   "source": [
    "# Sirve para actualizar el modulo despues de haber cambiado algo en el codigo de los modulos importados\n",
    "%load_ext autoreload\n",
    "%autoreload 2"
   ]
  },
  {
   "cell_type": "code",
   "execution_count": 29,
   "id": "9af94f89",
   "metadata": {},
   "outputs": [],
   "source": [
    "#Importamos las librerias\n",
    "import pandas as pd\n",
    "import numpy as np\n",
    "import matplotlib.pyplot as plt\n",
    "import seaborn as sns\n",
    "%matplotlib inline\n",
    "from sklearn.ensemble import RandomForestClassifier\n",
    "from sklearn.model_selection import train_test_split \n",
    "from skopt import BayesSearchCV\n",
    "from skopt.space import Real, Categorical, Integer\n",
    "from skopt.plots import plot_objective, plot_histogram, plot_evaluations\n",
    "from imblearn.over_sampling import SMOTE, ADASYN, RandomOverSampler"
   ]
  },
  {
   "cell_type": "code",
   "execution_count": 30,
   "id": "da004814",
   "metadata": {},
   "outputs": [],
   "source": [
    "# Modulos propios del proyecto que se encuentran en el directorio src\n",
    "from src.utils.paths import data_dir\n",
    "from src.visualization.word_cloud import words_cloud\n",
    "from src.utils.paths import references_dir\n",
    "from src.utils.metrics import display_and_plot_all_metrics, calculate_metrics\n"
   ]
  },
  {
   "cell_type": "markdown",
   "id": "8f79d30a",
   "metadata": {},
   "source": [
    "## Set up"
   ]
  },
  {
   "cell_type": "code",
   "execution_count": 31,
   "id": "a3f52a3d",
   "metadata": {},
   "outputs": [],
   "source": [
    "# Configuracion de opciones\n",
    "\n",
    "# Configuramos para que muestre siempre todas las columnas disponibles\n",
    "pd.options.display.max_columns = None\n",
    "\n",
    "# Cambio del tamaño de los plots para seaborn\n",
    "sns.set(rc={'figure.figsize':(10,5)})\n",
    "\n",
    "# Definimos el color para los plots\n",
    "COLOR_VINO_TINTO = \"#7C3030\"\n",
    "COLOR__VINO_BLANCO = \"#ffffbf\""
   ]
  },
  {
   "cell_type": "markdown",
   "id": "d47704ac",
   "metadata": {},
   "source": [
    "## Read Data"
   ]
  },
  {
   "cell_type": "code",
   "execution_count": 32,
   "id": "8d15455e",
   "metadata": {},
   "outputs": [
    {
     "name": "stdout",
     "output_type": "stream",
     "text": [
      "c:\\Users\\cvigo\\data-projects\\proyecto-final-vinos\\vinos-corderhouse\\data\\processed\\df_wine_complete.csv\n"
     ]
    }
   ],
   "source": [
    "# Obtenemos la ruta de los csv's que vamos a utilizar\n",
    "WINES_FINAL_CSV_PATH = data_dir(\"processed\", \"df_wine_complete.csv\")\n",
    "\n",
    "print(f\"{WINES_FINAL_CSV_PATH}\")"
   ]
  },
  {
   "cell_type": "code",
   "execution_count": 33,
   "metadata": {},
   "outputs": [],
   "source": [
    "df_wines = pd.read_csv(WINES_FINAL_CSV_PATH)"
   ]
  },
  {
   "cell_type": "code",
   "execution_count": 34,
   "metadata": {},
   "outputs": [
    {
     "data": {
      "text/html": [
       "<div>\n",
       "<style scoped>\n",
       "    .dataframe tbody tr th:only-of-type {\n",
       "        vertical-align: middle;\n",
       "    }\n",
       "\n",
       "    .dataframe tbody tr th {\n",
       "        vertical-align: top;\n",
       "    }\n",
       "\n",
       "    .dataframe thead th {\n",
       "        text-align: right;\n",
       "    }\n",
       "</style>\n",
       "<table border=\"1\" class=\"dataframe\">\n",
       "  <thead>\n",
       "    <tr style=\"text-align: right;\">\n",
       "      <th></th>\n",
       "      <th>quality_high</th>\n",
       "      <th>body_2</th>\n",
       "      <th>body_3</th>\n",
       "      <th>body_4</th>\n",
       "      <th>body_5</th>\n",
       "      <th>style_red</th>\n",
       "      <th>style_white</th>\n",
       "      <th>region_Otras</th>\n",
       "      <th>region_Priorato</th>\n",
       "      <th>region_Rias Baixas</th>\n",
       "      <th>region_Ribera del Duero</th>\n",
       "      <th>region_Rioja</th>\n",
       "      <th>region_Toro</th>\n",
       "      <th>region_Vino de Espana</th>\n",
       "      <th>PC1</th>\n",
       "      <th>PC2</th>\n",
       "      <th>PC3</th>\n",
       "      <th>PC4</th>\n",
       "      <th>PC5</th>\n",
       "      <th>PC6</th>\n",
       "      <th>PC7</th>\n",
       "    </tr>\n",
       "  </thead>\n",
       "  <tbody>\n",
       "    <tr>\n",
       "      <th>1741</th>\n",
       "      <td>1</td>\n",
       "      <td>0</td>\n",
       "      <td>0</td>\n",
       "      <td>0</td>\n",
       "      <td>1</td>\n",
       "      <td>0</td>\n",
       "      <td>1</td>\n",
       "      <td>0</td>\n",
       "      <td>0</td>\n",
       "      <td>0</td>\n",
       "      <td>1</td>\n",
       "      <td>0</td>\n",
       "      <td>0</td>\n",
       "      <td>0</td>\n",
       "      <td>-0.098270</td>\n",
       "      <td>-0.139055</td>\n",
       "      <td>0.013710</td>\n",
       "      <td>0.070619</td>\n",
       "      <td>-0.101974</td>\n",
       "      <td>-0.031651</td>\n",
       "      <td>0.078068</td>\n",
       "    </tr>\n",
       "    <tr>\n",
       "      <th>5314</th>\n",
       "      <td>0</td>\n",
       "      <td>0</td>\n",
       "      <td>0</td>\n",
       "      <td>1</td>\n",
       "      <td>0</td>\n",
       "      <td>0</td>\n",
       "      <td>1</td>\n",
       "      <td>0</td>\n",
       "      <td>0</td>\n",
       "      <td>0</td>\n",
       "      <td>0</td>\n",
       "      <td>1</td>\n",
       "      <td>0</td>\n",
       "      <td>0</td>\n",
       "      <td>-0.428996</td>\n",
       "      <td>0.197159</td>\n",
       "      <td>-0.154449</td>\n",
       "      <td>-0.071880</td>\n",
       "      <td>0.054034</td>\n",
       "      <td>-0.182835</td>\n",
       "      <td>-0.081680</td>\n",
       "    </tr>\n",
       "    <tr>\n",
       "      <th>6028</th>\n",
       "      <td>1</td>\n",
       "      <td>0</td>\n",
       "      <td>0</td>\n",
       "      <td>1</td>\n",
       "      <td>0</td>\n",
       "      <td>0</td>\n",
       "      <td>1</td>\n",
       "      <td>0</td>\n",
       "      <td>0</td>\n",
       "      <td>0</td>\n",
       "      <td>0</td>\n",
       "      <td>1</td>\n",
       "      <td>0</td>\n",
       "      <td>0</td>\n",
       "      <td>-0.023055</td>\n",
       "      <td>-0.016506</td>\n",
       "      <td>0.462943</td>\n",
       "      <td>-0.047107</td>\n",
       "      <td>-0.153108</td>\n",
       "      <td>0.347079</td>\n",
       "      <td>-0.241485</td>\n",
       "    </tr>\n",
       "    <tr>\n",
       "      <th>2352</th>\n",
       "      <td>1</td>\n",
       "      <td>0</td>\n",
       "      <td>0</td>\n",
       "      <td>1</td>\n",
       "      <td>0</td>\n",
       "      <td>0</td>\n",
       "      <td>1</td>\n",
       "      <td>0</td>\n",
       "      <td>0</td>\n",
       "      <td>0</td>\n",
       "      <td>0</td>\n",
       "      <td>1</td>\n",
       "      <td>0</td>\n",
       "      <td>0</td>\n",
       "      <td>-0.099113</td>\n",
       "      <td>-0.229073</td>\n",
       "      <td>0.115423</td>\n",
       "      <td>0.140107</td>\n",
       "      <td>-0.309050</td>\n",
       "      <td>0.109536</td>\n",
       "      <td>0.006845</td>\n",
       "    </tr>\n",
       "    <tr>\n",
       "      <th>1731</th>\n",
       "      <td>1</td>\n",
       "      <td>0</td>\n",
       "      <td>0</td>\n",
       "      <td>0</td>\n",
       "      <td>1</td>\n",
       "      <td>0</td>\n",
       "      <td>1</td>\n",
       "      <td>0</td>\n",
       "      <td>0</td>\n",
       "      <td>0</td>\n",
       "      <td>1</td>\n",
       "      <td>0</td>\n",
       "      <td>0</td>\n",
       "      <td>0</td>\n",
       "      <td>-0.022239</td>\n",
       "      <td>-0.144487</td>\n",
       "      <td>-0.138620</td>\n",
       "      <td>-0.061280</td>\n",
       "      <td>0.069550</td>\n",
       "      <td>-0.112891</td>\n",
       "      <td>-0.231831</td>\n",
       "    </tr>\n",
       "    <tr>\n",
       "      <th>3156</th>\n",
       "      <td>0</td>\n",
       "      <td>0</td>\n",
       "      <td>0</td>\n",
       "      <td>1</td>\n",
       "      <td>0</td>\n",
       "      <td>0</td>\n",
       "      <td>1</td>\n",
       "      <td>0</td>\n",
       "      <td>0</td>\n",
       "      <td>0</td>\n",
       "      <td>0</td>\n",
       "      <td>1</td>\n",
       "      <td>0</td>\n",
       "      <td>0</td>\n",
       "      <td>-0.063506</td>\n",
       "      <td>0.218567</td>\n",
       "      <td>0.124462</td>\n",
       "      <td>-0.027079</td>\n",
       "      <td>-0.138349</td>\n",
       "      <td>0.023830</td>\n",
       "      <td>-0.161482</td>\n",
       "    </tr>\n",
       "    <tr>\n",
       "      <th>4398</th>\n",
       "      <td>1</td>\n",
       "      <td>0</td>\n",
       "      <td>0</td>\n",
       "      <td>1</td>\n",
       "      <td>0</td>\n",
       "      <td>0</td>\n",
       "      <td>1</td>\n",
       "      <td>0</td>\n",
       "      <td>0</td>\n",
       "      <td>0</td>\n",
       "      <td>0</td>\n",
       "      <td>1</td>\n",
       "      <td>0</td>\n",
       "      <td>0</td>\n",
       "      <td>-0.430588</td>\n",
       "      <td>0.100672</td>\n",
       "      <td>0.111272</td>\n",
       "      <td>0.113707</td>\n",
       "      <td>-0.367247</td>\n",
       "      <td>0.194072</td>\n",
       "      <td>0.245224</td>\n",
       "    </tr>\n",
       "    <tr>\n",
       "      <th>1910</th>\n",
       "      <td>0</td>\n",
       "      <td>0</td>\n",
       "      <td>0</td>\n",
       "      <td>1</td>\n",
       "      <td>0</td>\n",
       "      <td>0</td>\n",
       "      <td>1</td>\n",
       "      <td>1</td>\n",
       "      <td>0</td>\n",
       "      <td>0</td>\n",
       "      <td>0</td>\n",
       "      <td>0</td>\n",
       "      <td>0</td>\n",
       "      <td>0</td>\n",
       "      <td>-0.151126</td>\n",
       "      <td>-0.293216</td>\n",
       "      <td>-0.082617</td>\n",
       "      <td>0.221696</td>\n",
       "      <td>-0.100354</td>\n",
       "      <td>-0.152156</td>\n",
       "      <td>-0.244654</td>\n",
       "    </tr>\n",
       "    <tr>\n",
       "      <th>2417</th>\n",
       "      <td>1</td>\n",
       "      <td>0</td>\n",
       "      <td>0</td>\n",
       "      <td>1</td>\n",
       "      <td>0</td>\n",
       "      <td>0</td>\n",
       "      <td>1</td>\n",
       "      <td>1</td>\n",
       "      <td>0</td>\n",
       "      <td>0</td>\n",
       "      <td>0</td>\n",
       "      <td>0</td>\n",
       "      <td>0</td>\n",
       "      <td>0</td>\n",
       "      <td>-0.381335</td>\n",
       "      <td>0.093894</td>\n",
       "      <td>0.215447</td>\n",
       "      <td>-0.076534</td>\n",
       "      <td>0.240919</td>\n",
       "      <td>-0.075905</td>\n",
       "      <td>-0.095075</td>\n",
       "    </tr>\n",
       "    <tr>\n",
       "      <th>253</th>\n",
       "      <td>0</td>\n",
       "      <td>0</td>\n",
       "      <td>0</td>\n",
       "      <td>1</td>\n",
       "      <td>0</td>\n",
       "      <td>1</td>\n",
       "      <td>0</td>\n",
       "      <td>0</td>\n",
       "      <td>1</td>\n",
       "      <td>0</td>\n",
       "      <td>0</td>\n",
       "      <td>0</td>\n",
       "      <td>0</td>\n",
       "      <td>0</td>\n",
       "      <td>0.814633</td>\n",
       "      <td>0.566540</td>\n",
       "      <td>0.223271</td>\n",
       "      <td>-0.211670</td>\n",
       "      <td>-0.066483</td>\n",
       "      <td>-0.046402</td>\n",
       "      <td>0.046972</td>\n",
       "    </tr>\n",
       "  </tbody>\n",
       "</table>\n",
       "</div>"
      ],
      "text/plain": [
       "      quality_high  body_2  body_3  body_4  body_5  style_red  style_white  \\\n",
       "1741             1       0       0       0       1          0            1   \n",
       "5314             0       0       0       1       0          0            1   \n",
       "6028             1       0       0       1       0          0            1   \n",
       "2352             1       0       0       1       0          0            1   \n",
       "1731             1       0       0       0       1          0            1   \n",
       "3156             0       0       0       1       0          0            1   \n",
       "4398             1       0       0       1       0          0            1   \n",
       "1910             0       0       0       1       0          0            1   \n",
       "2417             1       0       0       1       0          0            1   \n",
       "253              0       0       0       1       0          1            0   \n",
       "\n",
       "      region_Otras  region_Priorato  region_Rias Baixas  \\\n",
       "1741             0                0                   0   \n",
       "5314             0                0                   0   \n",
       "6028             0                0                   0   \n",
       "2352             0                0                   0   \n",
       "1731             0                0                   0   \n",
       "3156             0                0                   0   \n",
       "4398             0                0                   0   \n",
       "1910             1                0                   0   \n",
       "2417             1                0                   0   \n",
       "253              0                1                   0   \n",
       "\n",
       "      region_Ribera del Duero  region_Rioja  region_Toro  \\\n",
       "1741                        1             0            0   \n",
       "5314                        0             1            0   \n",
       "6028                        0             1            0   \n",
       "2352                        0             1            0   \n",
       "1731                        1             0            0   \n",
       "3156                        0             1            0   \n",
       "4398                        0             1            0   \n",
       "1910                        0             0            0   \n",
       "2417                        0             0            0   \n",
       "253                         0             0            0   \n",
       "\n",
       "      region_Vino de Espana       PC1       PC2       PC3       PC4       PC5  \\\n",
       "1741                      0 -0.098270 -0.139055  0.013710  0.070619 -0.101974   \n",
       "5314                      0 -0.428996  0.197159 -0.154449 -0.071880  0.054034   \n",
       "6028                      0 -0.023055 -0.016506  0.462943 -0.047107 -0.153108   \n",
       "2352                      0 -0.099113 -0.229073  0.115423  0.140107 -0.309050   \n",
       "1731                      0 -0.022239 -0.144487 -0.138620 -0.061280  0.069550   \n",
       "3156                      0 -0.063506  0.218567  0.124462 -0.027079 -0.138349   \n",
       "4398                      0 -0.430588  0.100672  0.111272  0.113707 -0.367247   \n",
       "1910                      0 -0.151126 -0.293216 -0.082617  0.221696 -0.100354   \n",
       "2417                      0 -0.381335  0.093894  0.215447 -0.076534  0.240919   \n",
       "253                       0  0.814633  0.566540  0.223271 -0.211670 -0.066483   \n",
       "\n",
       "           PC6       PC7  \n",
       "1741 -0.031651  0.078068  \n",
       "5314 -0.182835 -0.081680  \n",
       "6028  0.347079 -0.241485  \n",
       "2352  0.109536  0.006845  \n",
       "1731 -0.112891 -0.231831  \n",
       "3156  0.023830 -0.161482  \n",
       "4398  0.194072  0.245224  \n",
       "1910 -0.152156 -0.244654  \n",
       "2417 -0.075905 -0.095075  \n",
       "253  -0.046402  0.046972  "
      ]
     },
     "execution_count": 34,
     "metadata": {},
     "output_type": "execute_result"
    }
   ],
   "source": [
    "df_wines.sample(10)"
   ]
  },
  {
   "cell_type": "markdown",
   "metadata": {},
   "source": [
    "# Preparamos los datos"
   ]
  },
  {
   "cell_type": "code",
   "execution_count": 35,
   "metadata": {},
   "outputs": [],
   "source": [
    "#Seperamos en X e y\n",
    "#Elimino de mi dataset la variable a predecir\n",
    "X = df_wines.drop(columns=[\"quality_high\"])\n",
    "y = df_wines.quality_high #Defino el Target"
   ]
  },
  {
   "cell_type": "code",
   "execution_count": 36,
   "metadata": {},
   "outputs": [
    {
     "data": {
      "text/plain": [
       "((4246, 20), (1821, 20))"
      ]
     },
     "execution_count": 36,
     "metadata": {},
     "output_type": "execute_result"
    }
   ],
   "source": [
    "# Me quedo con 30% para test (validación) y 70% para train (entrenamiento)\n",
    "X_train, X_test, y_train, y_test = train_test_split(X, y, test_size=0.30, random_state=42) \n",
    "X_train.shape, X_test.shape"
   ]
  },
  {
   "cell_type": "markdown",
   "metadata": {},
   "source": [
    "# Random Forest"
   ]
  },
  {
   "cell_type": "code",
   "execution_count": 37,
   "metadata": {},
   "outputs": [],
   "source": [
    "#Creamos un random forest!\n",
    "model = RandomForestClassifier(random_state=11, n_estimators=200,\n",
    "                               class_weight=\"balanced\", max_features=\"log2\")\n"
   ]
  },
  {
   "cell_type": "code",
   "execution_count": 38,
   "metadata": {},
   "outputs": [
    {
     "data": {
      "text/plain": [
       "RandomForestClassifier(class_weight='balanced', max_features='log2',\n",
       "                       n_estimators=200, random_state=11)"
      ]
     },
     "execution_count": 38,
     "metadata": {},
     "output_type": "execute_result"
    }
   ],
   "source": [
    "#Entrenamos el modelo\n",
    "model.fit(X_train, y_train)"
   ]
  },
  {
   "cell_type": "code",
   "execution_count": 39,
   "metadata": {},
   "outputs": [],
   "source": [
    "y_test_pred = model.predict(X_test) #Prediccion en Test"
   ]
  },
  {
   "cell_type": "code",
   "execution_count": 40,
   "metadata": {},
   "outputs": [
    {
     "data": {
      "text/html": [
       "<div>\n",
       "<style scoped>\n",
       "    .dataframe tbody tr th:only-of-type {\n",
       "        vertical-align: middle;\n",
       "    }\n",
       "\n",
       "    .dataframe tbody tr th {\n",
       "        vertical-align: top;\n",
       "    }\n",
       "\n",
       "    .dataframe thead th {\n",
       "        text-align: right;\n",
       "    }\n",
       "</style>\n",
       "<table border=\"1\" class=\"dataframe\">\n",
       "  <thead>\n",
       "    <tr style=\"text-align: right;\">\n",
       "      <th></th>\n",
       "      <th>rforest</th>\n",
       "    </tr>\n",
       "  </thead>\n",
       "  <tbody>\n",
       "    <tr>\n",
       "      <th>accuracy</th>\n",
       "      <td>0.71</td>\n",
       "    </tr>\n",
       "    <tr>\n",
       "      <th>precision</th>\n",
       "      <td>0.74</td>\n",
       "    </tr>\n",
       "    <tr>\n",
       "      <th>recall</th>\n",
       "      <td>0.84</td>\n",
       "    </tr>\n",
       "    <tr>\n",
       "      <th>f1</th>\n",
       "      <td>0.79</td>\n",
       "    </tr>\n",
       "    <tr>\n",
       "      <th>roc_auc</th>\n",
       "      <td>0.78</td>\n",
       "    </tr>\n",
       "    <tr>\n",
       "      <th>fpr</th>\n",
       "      <td>[0.0, 0.0, 0.0, 0.0, 0.0, 0.0, 0.0, 0.0, 0.001...</td>\n",
       "    </tr>\n",
       "    <tr>\n",
       "      <th>tpr</th>\n",
       "      <td>[0.0, 0.0025906735751295338, 0.006908462867012...</td>\n",
       "    </tr>\n",
       "    <tr>\n",
       "      <th>thresholds</th>\n",
       "      <td>[2.0, 1.0, 0.995, 0.99, 0.985, 0.98, 0.975, 0....</td>\n",
       "    </tr>\n",
       "  </tbody>\n",
       "</table>\n",
       "</div>"
      ],
      "text/plain": [
       "                                                      rforest\n",
       "accuracy                                                 0.71\n",
       "precision                                                0.74\n",
       "recall                                                   0.84\n",
       "f1                                                       0.79\n",
       "roc_auc                                                  0.78\n",
       "fpr         [0.0, 0.0, 0.0, 0.0, 0.0, 0.0, 0.0, 0.0, 0.001...\n",
       "tpr         [0.0, 0.0025906735751295338, 0.006908462867012...\n",
       "thresholds  [2.0, 1.0, 0.995, 0.99, 0.985, 0.98, 0.975, 0...."
      ]
     },
     "execution_count": 40,
     "metadata": {},
     "output_type": "execute_result"
    }
   ],
   "source": [
    "# Calculo las metricas de evaluacion\n",
    "metrics_rforest = calculate_metrics('rforest', model,X_test,y_test,y_test_pred)\n",
    "metrics_rforest"
   ]
  },
  {
   "cell_type": "code",
   "execution_count": 41,
   "metadata": {},
   "outputs": [
    {
     "data": {
      "text/markdown": [
       "# Metricas: "
      ],
      "text/plain": [
       "<IPython.core.display.Markdown object>"
      ]
     },
     "metadata": {},
     "output_type": "display_data"
    },
    {
     "data": {
      "text/markdown": [
       "### Metricas calculadas"
      ],
      "text/plain": [
       "<IPython.core.display.Markdown object>"
      ]
     },
     "metadata": {},
     "output_type": "display_data"
    },
    {
     "data": {
      "text/html": [
       "<div>\n",
       "<style scoped>\n",
       "    .dataframe tbody tr th:only-of-type {\n",
       "        vertical-align: middle;\n",
       "    }\n",
       "\n",
       "    .dataframe tbody tr th {\n",
       "        vertical-align: top;\n",
       "    }\n",
       "\n",
       "    .dataframe thead th {\n",
       "        text-align: right;\n",
       "    }\n",
       "</style>\n",
       "<table border=\"1\" class=\"dataframe\">\n",
       "  <thead>\n",
       "    <tr style=\"text-align: right;\">\n",
       "      <th></th>\n",
       "      <th>recall</th>\n",
       "      <th>f1</th>\n",
       "      <th>roc_auc</th>\n",
       "      <th>precision</th>\n",
       "      <th>accuracy</th>\n",
       "    </tr>\n",
       "  </thead>\n",
       "  <tbody>\n",
       "    <tr>\n",
       "      <th>rforest</th>\n",
       "      <td>0.84</td>\n",
       "      <td>0.79</td>\n",
       "      <td>0.78</td>\n",
       "      <td>0.74</td>\n",
       "      <td>0.71</td>\n",
       "    </tr>\n",
       "  </tbody>\n",
       "</table>\n",
       "</div>"
      ],
      "text/plain": [
       "        recall    f1 roc_auc precision accuracy\n",
       "rforest   0.84  0.79    0.78      0.74     0.71"
      ]
     },
     "metadata": {},
     "output_type": "display_data"
    },
    {
     "data": {
      "text/markdown": [
       "### Grafico de confusion matrix: "
      ],
      "text/plain": [
       "<IPython.core.display.Markdown object>"
      ]
     },
     "metadata": {},
     "output_type": "display_data"
    },
    {
     "data": {
      "image/png": "[encoded data removed]",
      "text/plain": [
       "<Figure size 720x360 with 1 Axes>"
      ]
     },
     "metadata": {},
     "output_type": "display_data"
    },
    {
     "data": {
      "text/plain": [
       "<Figure size 720x720 with 0 Axes>"
      ]
     },
     "metadata": {},
     "output_type": "display_data"
    },
    {
     "data": {
      "image/png": "[encoded data removed]",
      "text/plain": [
       "<Figure size 720x360 with 2 Axes>"
      ]
     },
     "metadata": {},
     "output_type": "display_data"
    },
    {
     "data": {
      "text/markdown": [
       "### Grafico de roc: "
      ],
      "text/plain": [
       "<IPython.core.display.Markdown object>"
      ]
     },
     "metadata": {},
     "output_type": "display_data"
    },
    {
     "data": {
      "image/png": "[encoded data removed]",
      "text/plain": [
       "<Figure size 720x360 with 1 Axes>"
      ]
     },
     "metadata": {},
     "output_type": "display_data"
    }
   ],
   "source": [
    "display_and_plot_all_metrics('rforest', model,X_test,y_test,y_test_pred)"
   ]
  },
  {
   "cell_type": "markdown",
   "metadata": {},
   "source": [
    "# Hypertuning de Parámetros"
   ]
  },
  {
   "cell_type": "markdown",
   "metadata": {},
   "source": [
    "En las metricas vamos a priorizar la metrica de precision ya que queremos reducir los falsos positivos porque eso implica que lso vinos de baja calidad sean clasificados como de baja calidad, y cuando se exporten puede generar malestar en los clientes y baja fidelidad."
   ]
  },
  {
   "cell_type": "code",
   "execution_count": 42,
   "metadata": {},
   "outputs": [],
   "source": [
    "# Hyperparametros\n",
    "\n",
    "hyperparameters = {\n",
    "    'bootstrap': [True],\n",
    "    'max_depth': [80, 90, 100, 110],\n",
    "    'max_features': [2, 3],\n",
    "    'min_samples_leaf': [3, 4, 5],\n",
    "    'min_samples_split': [8, 10, 12],\n",
    "    'n_estimators': [100, 200, 300, 1000]\n",
    "}\n",
    "model = BayesSearchCV(RandomForestClassifier(),\n",
    "                      hyperparameters,\n",
    "                      scoring='precision', \n",
    "                      n_points= 5,\n",
    "                      n_iter= 30,\n",
    "                      cv= 5,\n",
    "                      verbose = 2,\n",
    "                      n_jobs=6,\n",
    "                      random_state= 88)\n"
   ]
  },
  {
   "cell_type": "code",
   "execution_count": 43,
   "metadata": {},
   "outputs": [
    {
     "name": "stdout",
     "output_type": "stream",
     "text": [
      "Fitting 5 folds for each of 5 candidates, totalling 25 fits\n",
      "Fitting 5 folds for each of 5 candidates, totalling 25 fits\n",
      "Fitting 5 folds for each of 5 candidates, totalling 25 fits\n"
     ]
    },
    {
     "name": "stderr",
     "output_type": "stream",
     "text": [
      "c:\\Users\\cvigo\\.conda\\envs\\vinos_coderhouse\\lib\\site-packages\\skopt\\optimizer\\optimizer.py:449: UserWarning: The objective has been evaluated at this point before.\n",
      "  warnings.warn(\"The objective has been evaluated \"\n",
      "c:\\Users\\cvigo\\.conda\\envs\\vinos_coderhouse\\lib\\site-packages\\skopt\\optimizer\\optimizer.py:449: UserWarning: The objective has been evaluated at this point before.\n",
      "  warnings.warn(\"The objective has been evaluated \"\n"
     ]
    },
    {
     "name": "stdout",
     "output_type": "stream",
     "text": [
      "Fitting 5 folds for each of 5 candidates, totalling 25 fits\n"
     ]
    },
    {
     "name": "stderr",
     "output_type": "stream",
     "text": [
      "c:\\Users\\cvigo\\.conda\\envs\\vinos_coderhouse\\lib\\site-packages\\skopt\\optimizer\\optimizer.py:449: UserWarning: The objective has been evaluated at this point before.\n",
      "  warnings.warn(\"The objective has been evaluated \"\n"
     ]
    },
    {
     "name": "stdout",
     "output_type": "stream",
     "text": [
      "Fitting 5 folds for each of 5 candidates, totalling 25 fits\n"
     ]
    },
    {
     "name": "stderr",
     "output_type": "stream",
     "text": [
      "c:\\Users\\cvigo\\.conda\\envs\\vinos_coderhouse\\lib\\site-packages\\skopt\\optimizer\\optimizer.py:449: UserWarning: The objective has been evaluated at this point before.\n",
      "  warnings.warn(\"The objective has been evaluated \"\n"
     ]
    },
    {
     "name": "stdout",
     "output_type": "stream",
     "text": [
      "Fitting 5 folds for each of 5 candidates, totalling 25 fits\n"
     ]
    }
   ],
   "source": [
    "model.fit(X_train, y_train)\n",
    "clf = model.best_estimator_\n",
    "y_test_pred = pd.Series(clf.predict(X_test), index=X_test.index)"
   ]
  },
  {
   "cell_type": "code",
   "execution_count": 44,
   "metadata": {},
   "outputs": [
    {
     "data": {
      "text/html": [
       "<div>\n",
       "<style scoped>\n",
       "    .dataframe tbody tr th:only-of-type {\n",
       "        vertical-align: middle;\n",
       "    }\n",
       "\n",
       "    .dataframe tbody tr th {\n",
       "        vertical-align: top;\n",
       "    }\n",
       "\n",
       "    .dataframe thead th {\n",
       "        text-align: right;\n",
       "    }\n",
       "</style>\n",
       "<table border=\"1\" class=\"dataframe\">\n",
       "  <thead>\n",
       "    <tr style=\"text-align: right;\">\n",
       "      <th></th>\n",
       "      <th>rforest_tuning</th>\n",
       "    </tr>\n",
       "  </thead>\n",
       "  <tbody>\n",
       "    <tr>\n",
       "      <th>accuracy</th>\n",
       "      <td>0.72</td>\n",
       "    </tr>\n",
       "    <tr>\n",
       "      <th>precision</th>\n",
       "      <td>0.74</td>\n",
       "    </tr>\n",
       "    <tr>\n",
       "      <th>recall</th>\n",
       "      <td>0.85</td>\n",
       "    </tr>\n",
       "    <tr>\n",
       "      <th>f1</th>\n",
       "      <td>0.79</td>\n",
       "    </tr>\n",
       "    <tr>\n",
       "      <th>roc_auc</th>\n",
       "      <td>0.78</td>\n",
       "    </tr>\n",
       "    <tr>\n",
       "      <th>fpr</th>\n",
       "      <td>[0.0, 0.0, 0.0, 0.0015082956259426848, 0.00150...</td>\n",
       "    </tr>\n",
       "    <tr>\n",
       "      <th>tpr</th>\n",
       "      <td>[0.0, 0.0008635578583765112, 0.069084628670120...</td>\n",
       "    </tr>\n",
       "    <tr>\n",
       "      <th>thresholds</th>\n",
       "      <td>[1.9895328543642605, 0.9895328543642605, 0.945...</td>\n",
       "    </tr>\n",
       "  </tbody>\n",
       "</table>\n",
       "</div>"
      ],
      "text/plain": [
       "                                               rforest_tuning\n",
       "accuracy                                                 0.72\n",
       "precision                                                0.74\n",
       "recall                                                   0.85\n",
       "f1                                                       0.79\n",
       "roc_auc                                                  0.78\n",
       "fpr         [0.0, 0.0, 0.0, 0.0015082956259426848, 0.00150...\n",
       "tpr         [0.0, 0.0008635578583765112, 0.069084628670120...\n",
       "thresholds  [1.9895328543642605, 0.9895328543642605, 0.945..."
      ]
     },
     "execution_count": 44,
     "metadata": {},
     "output_type": "execute_result"
    }
   ],
   "source": [
    "# Calculo las metricas de evaluacion\n",
    "metrics_rforest_tuning = calculate_metrics('rforest_tuning', clf,X_test,y_test,y_test_pred)\n",
    "metrics_rforest_tuning"
   ]
  },
  {
   "cell_type": "code",
   "execution_count": 45,
   "metadata": {},
   "outputs": [
    {
     "data": {
      "text/markdown": [
       "# Metricas: "
      ],
      "text/plain": [
       "<IPython.core.display.Markdown object>"
      ]
     },
     "metadata": {},
     "output_type": "display_data"
    },
    {
     "data": {
      "text/markdown": [
       "### Metricas calculadas"
      ],
      "text/plain": [
       "<IPython.core.display.Markdown object>"
      ]
     },
     "metadata": {},
     "output_type": "display_data"
    },
    {
     "data": {
      "text/html": [
       "<div>\n",
       "<style scoped>\n",
       "    .dataframe tbody tr th:only-of-type {\n",
       "        vertical-align: middle;\n",
       "    }\n",
       "\n",
       "    .dataframe tbody tr th {\n",
       "        vertical-align: top;\n",
       "    }\n",
       "\n",
       "    .dataframe thead th {\n",
       "        text-align: right;\n",
       "    }\n",
       "</style>\n",
       "<table border=\"1\" class=\"dataframe\">\n",
       "  <thead>\n",
       "    <tr style=\"text-align: right;\">\n",
       "      <th></th>\n",
       "      <th>recall</th>\n",
       "      <th>f1</th>\n",
       "      <th>roc_auc</th>\n",
       "      <th>precision</th>\n",
       "      <th>accuracy</th>\n",
       "    </tr>\n",
       "  </thead>\n",
       "  <tbody>\n",
       "    <tr>\n",
       "      <th>rforest_tuning</th>\n",
       "      <td>0.85</td>\n",
       "      <td>0.79</td>\n",
       "      <td>0.78</td>\n",
       "      <td>0.74</td>\n",
       "      <td>0.72</td>\n",
       "    </tr>\n",
       "  </tbody>\n",
       "</table>\n",
       "</div>"
      ],
      "text/plain": [
       "               recall    f1 roc_auc precision accuracy\n",
       "rforest_tuning   0.85  0.79    0.78      0.74     0.72"
      ]
     },
     "metadata": {},
     "output_type": "display_data"
    },
    {
     "data": {
      "text/markdown": [
       "### Grafico de confusion matrix: "
      ],
      "text/plain": [
       "<IPython.core.display.Markdown object>"
      ]
     },
     "metadata": {},
     "output_type": "display_data"
    },
    {
     "data": {
      "image/png": "[encoded data removed]",
      "text/plain": [
       "<Figure size 720x360 with 1 Axes>"
      ]
     },
     "metadata": {},
     "output_type": "display_data"
    },
    {
     "data": {
      "text/plain": [
       "<Figure size 720x720 with 0 Axes>"
      ]
     },
     "metadata": {},
     "output_type": "display_data"
    },
    {
     "data": {
      "image/png": "[encoded data removed]",
      "text/plain": [
       "<Figure size 720x360 with 2 Axes>"
      ]
     },
     "metadata": {},
     "output_type": "display_data"
    },
    {
     "data": {
      "text/markdown": [
       "### Grafico de roc: "
      ],
      "text/plain": [
       "<IPython.core.display.Markdown object>"
      ]
     },
     "metadata": {},
     "output_type": "display_data"
    },
    {
     "data": {
      "image/png": "[encoded data removed]",
      "text/plain": [
       "<Figure size 720x360 with 1 Axes>"
      ]
     },
     "metadata": {},
     "output_type": "display_data"
    }
   ],
   "source": [
    "display_and_plot_all_metrics('rforest_tuning',clf,X_test,y_test,y_test_pred)"
   ]
  },
  {
   "cell_type": "markdown",
   "metadata": {},
   "source": [
    "## Oversampling"
   ]
  },
  {
   "cell_type": "markdown",
   "metadata": {},
   "source": [
    "Como estamos trabajando con una clase desbalanceada, vamos a hacer un over sampling para mitigar el problema."
   ]
  },
  {
   "cell_type": "code",
   "execution_count": 46,
   "metadata": {},
   "outputs": [],
   "source": [
    "X_resampled, y_resampled = RandomOverSampler().fit_resample(X_train, y_train)"
   ]
  },
  {
   "cell_type": "code",
   "execution_count": 47,
   "metadata": {},
   "outputs": [],
   "source": [
    "model = BayesSearchCV(RandomForestClassifier(),\n",
    "                      hyperparameters,\n",
    "                      scoring='precision',\n",
    "                      n_points= 5,\n",
    "                      n_iter= 30,\n",
    "                      cv= 5,\n",
    "                      verbose = 2,\n",
    "                      n_jobs=6,\n",
    "                      random_state= 88)\n"
   ]
  },
  {
   "cell_type": "code",
   "execution_count": 48,
   "metadata": {},
   "outputs": [
    {
     "name": "stdout",
     "output_type": "stream",
     "text": [
      "Fitting 5 folds for each of 5 candidates, totalling 25 fits\n",
      "Fitting 5 folds for each of 5 candidates, totalling 25 fits\n",
      "Fitting 5 folds for each of 5 candidates, totalling 25 fits\n",
      "Fitting 5 folds for each of 5 candidates, totalling 25 fits\n"
     ]
    },
    {
     "name": "stderr",
     "output_type": "stream",
     "text": [
      "c:\\Users\\cvigo\\.conda\\envs\\vinos_coderhouse\\lib\\site-packages\\skopt\\optimizer\\optimizer.py:449: UserWarning: The objective has been evaluated at this point before.\n",
      "  warnings.warn(\"The objective has been evaluated \"\n"
     ]
    },
    {
     "name": "stdout",
     "output_type": "stream",
     "text": [
      "Fitting 5 folds for each of 5 candidates, totalling 25 fits\n"
     ]
    },
    {
     "name": "stderr",
     "output_type": "stream",
     "text": [
      "c:\\Users\\cvigo\\.conda\\envs\\vinos_coderhouse\\lib\\site-packages\\skopt\\optimizer\\optimizer.py:449: UserWarning: The objective has been evaluated at this point before.\n",
      "  warnings.warn(\"The objective has been evaluated \"\n",
      "c:\\Users\\cvigo\\.conda\\envs\\vinos_coderhouse\\lib\\site-packages\\skopt\\optimizer\\optimizer.py:449: UserWarning: The objective has been evaluated at this point before.\n",
      "  warnings.warn(\"The objective has been evaluated \"\n",
      "c:\\Users\\cvigo\\.conda\\envs\\vinos_coderhouse\\lib\\site-packages\\skopt\\optimizer\\optimizer.py:449: UserWarning: The objective has been evaluated at this point before.\n",
      "  warnings.warn(\"The objective has been evaluated \"\n"
     ]
    },
    {
     "name": "stdout",
     "output_type": "stream",
     "text": [
      "Fitting 5 folds for each of 5 candidates, totalling 25 fits\n"
     ]
    }
   ],
   "source": [
    "model.fit(X_resampled, y_resampled)\n",
    "clf = model.best_estimator_\n",
    "y_test_pred = pd.Series(clf.predict(X_test), index=X_test.index)"
   ]
  },
  {
   "cell_type": "code",
   "execution_count": 49,
   "metadata": {},
   "outputs": [
    {
     "data": {
      "text/html": [
       "<div>\n",
       "<style scoped>\n",
       "    .dataframe tbody tr th:only-of-type {\n",
       "        vertical-align: middle;\n",
       "    }\n",
       "\n",
       "    .dataframe tbody tr th {\n",
       "        vertical-align: top;\n",
       "    }\n",
       "\n",
       "    .dataframe thead th {\n",
       "        text-align: right;\n",
       "    }\n",
       "</style>\n",
       "<table border=\"1\" class=\"dataframe\">\n",
       "  <thead>\n",
       "    <tr style=\"text-align: right;\">\n",
       "      <th></th>\n",
       "      <th>rforest_tuning_oversampling</th>\n",
       "    </tr>\n",
       "  </thead>\n",
       "  <tbody>\n",
       "    <tr>\n",
       "      <th>accuracy</th>\n",
       "      <td>0.71</td>\n",
       "    </tr>\n",
       "    <tr>\n",
       "      <th>precision</th>\n",
       "      <td>0.78</td>\n",
       "    </tr>\n",
       "    <tr>\n",
       "      <th>recall</th>\n",
       "      <td>0.74</td>\n",
       "    </tr>\n",
       "    <tr>\n",
       "      <th>f1</th>\n",
       "      <td>0.76</td>\n",
       "    </tr>\n",
       "    <tr>\n",
       "      <th>roc_auc</th>\n",
       "      <td>0.78</td>\n",
       "    </tr>\n",
       "    <tr>\n",
       "      <th>fpr</th>\n",
       "      <td>[0.0, 0.0, 0.0, 0.0015082956259426848, 0.00150...</td>\n",
       "    </tr>\n",
       "    <tr>\n",
       "      <th>tpr</th>\n",
       "      <td>[0.0, 0.0008635578583765112, 0.138169257340241...</td>\n",
       "    </tr>\n",
       "    <tr>\n",
       "      <th>thresholds</th>\n",
       "      <td>[1.9822530523096713, 0.9822530523096713, 0.881...</td>\n",
       "    </tr>\n",
       "  </tbody>\n",
       "</table>\n",
       "</div>"
      ],
      "text/plain": [
       "                                  rforest_tuning_oversampling\n",
       "accuracy                                                 0.71\n",
       "precision                                                0.78\n",
       "recall                                                   0.74\n",
       "f1                                                       0.76\n",
       "roc_auc                                                  0.78\n",
       "fpr         [0.0, 0.0, 0.0, 0.0015082956259426848, 0.00150...\n",
       "tpr         [0.0, 0.0008635578583765112, 0.138169257340241...\n",
       "thresholds  [1.9822530523096713, 0.9822530523096713, 0.881..."
      ]
     },
     "execution_count": 49,
     "metadata": {},
     "output_type": "execute_result"
    }
   ],
   "source": [
    "# Calculo las metricas de evaluacion\n",
    "metrics_rforest_tuning_oversampling = calculate_metrics('rforest_tuning_oversampling', clf,X_test,y_test,y_test_pred)\n",
    "metrics_rforest_tuning_oversampling"
   ]
  },
  {
   "cell_type": "code",
   "execution_count": 50,
   "metadata": {},
   "outputs": [
    {
     "data": {
      "text/markdown": [
       "# Metricas: "
      ],
      "text/plain": [
       "<IPython.core.display.Markdown object>"
      ]
     },
     "metadata": {},
     "output_type": "display_data"
    },
    {
     "data": {
      "text/markdown": [
       "### Metricas calculadas"
      ],
      "text/plain": [
       "<IPython.core.display.Markdown object>"
      ]
     },
     "metadata": {},
     "output_type": "display_data"
    },
    {
     "data": {
      "text/html": [
       "<div>\n",
       "<style scoped>\n",
       "    .dataframe tbody tr th:only-of-type {\n",
       "        vertical-align: middle;\n",
       "    }\n",
       "\n",
       "    .dataframe tbody tr th {\n",
       "        vertical-align: top;\n",
       "    }\n",
       "\n",
       "    .dataframe thead th {\n",
       "        text-align: right;\n",
       "    }\n",
       "</style>\n",
       "<table border=\"1\" class=\"dataframe\">\n",
       "  <thead>\n",
       "    <tr style=\"text-align: right;\">\n",
       "      <th></th>\n",
       "      <th>precision</th>\n",
       "      <th>roc_auc</th>\n",
       "      <th>f1</th>\n",
       "      <th>recall</th>\n",
       "      <th>accuracy</th>\n",
       "    </tr>\n",
       "  </thead>\n",
       "  <tbody>\n",
       "    <tr>\n",
       "      <th>tree_tuning_oversampling</th>\n",
       "      <td>0.78</td>\n",
       "      <td>0.78</td>\n",
       "      <td>0.76</td>\n",
       "      <td>0.74</td>\n",
       "      <td>0.71</td>\n",
       "    </tr>\n",
       "  </tbody>\n",
       "</table>\n",
       "</div>"
      ],
      "text/plain": [
       "                         precision roc_auc    f1 recall accuracy\n",
       "tree_tuning_oversampling      0.78    0.78  0.76   0.74     0.71"
      ]
     },
     "metadata": {},
     "output_type": "display_data"
    },
    {
     "data": {
      "text/markdown": [
       "### Grafico de confusion matrix: "
      ],
      "text/plain": [
       "<IPython.core.display.Markdown object>"
      ]
     },
     "metadata": {},
     "output_type": "display_data"
    },
    {
     "data": {
      "image/png": "[encoded data removed]",
      "text/plain": [
       "<Figure size 720x360 with 1 Axes>"
      ]
     },
     "metadata": {},
     "output_type": "display_data"
    },
    {
     "data": {
      "text/plain": [
       "<Figure size 720x720 with 0 Axes>"
      ]
     },
     "metadata": {},
     "output_type": "display_data"
    },
    {
     "data": {
      "image/png": "[encoded data removed]",
      "text/plain": [
       "<Figure size 720x360 with 2 Axes>"
      ]
     },
     "metadata": {},
     "output_type": "display_data"
    },
    {
     "data": {
      "text/markdown": [
       "### Grafico de roc: "
      ],
      "text/plain": [
       "<IPython.core.display.Markdown object>"
      ]
     },
     "metadata": {},
     "output_type": "display_data"
    },
    {
     "data": {
      "image/png": "[encoded data removed]",
      "text/plain": [
       "<Figure size 720x360 with 1 Axes>"
      ]
     },
     "metadata": {},
     "output_type": "display_data"
    }
   ],
   "source": [
    "display_and_plot_all_metrics('tree_tuning_oversampling', clf,X_test,y_test,y_test_pred)"
   ]
  },
  {
   "cell_type": "code",
   "execution_count": 51,
   "metadata": {},
   "outputs": [
    {
     "data": {
      "text/plain": [
       "{'bootstrap': True,\n",
       " 'ccp_alpha': 0.0,\n",
       " 'class_weight': None,\n",
       " 'criterion': 'gini',\n",
       " 'max_depth': 80,\n",
       " 'max_features': 3,\n",
       " 'max_leaf_nodes': None,\n",
       " 'max_samples': None,\n",
       " 'min_impurity_decrease': 0.0,\n",
       " 'min_samples_leaf': 3,\n",
       " 'min_samples_split': 8,\n",
       " 'min_weight_fraction_leaf': 0.0,\n",
       " 'n_estimators': 1000,\n",
       " 'n_jobs': None,\n",
       " 'oob_score': False,\n",
       " 'random_state': None,\n",
       " 'verbose': 0,\n",
       " 'warm_start': False}"
      ]
     },
     "execution_count": 51,
     "metadata": {},
     "output_type": "execute_result"
    }
   ],
   "source": [
    "#Obtenemos los mejores parametros para el modelo\n",
    "clf.get_params()"
   ]
  },
  {
   "cell_type": "code",
   "execution_count": 52,
   "metadata": {},
   "outputs": [],
   "source": [
    "BASIC_METRICS = ['accuracy', 'precision', 'recall', 'f1', 'roc_auc']"
   ]
  },
  {
   "cell_type": "code",
   "execution_count": 53,
   "metadata": {},
   "outputs": [
    {
     "data": {
      "text/plain": [
       "<AxesSubplot:>"
      ]
     },
     "execution_count": 53,
     "metadata": {},
     "output_type": "execute_result"
    },
    {
     "data": {
      "image/png": "[encoded data removed]",
      "text/plain": [
       "<Figure size 720x576 with 1 Axes>"
      ]
     },
     "metadata": {},
     "output_type": "display_data"
    }
   ],
   "source": [
    "# Comparamos las metricas\n",
    "\n",
    "pd.concat([metrics_rforest, metrics_rforest_tuning, metrics_rforest_tuning_oversampling], axis=1).loc[BASIC_METRICS,:].plot(kind='bar', figsize=(10,8))\n"
   ]
  },
  {
   "cell_type": "code",
   "execution_count": 55,
   "metadata": {},
   "outputs": [],
   "source": [
    "# Guardamos las metricas en un csv\n",
    "pd.concat([metrics_rforest, metrics_rforest_tuning, metrics_rforest_tuning_oversampling], axis=1).T.to_csv(data_dir(\"processed\", \"metrics_rforest.csv\"), index_label= 'algorithm')"
   ]
  }
 ],
 "metadata": {
  "kernelspec": {
   "display_name": "Python 3.9.12 ('vinos_coderhouse')",
   "language": "python",
   "name": "python3"
  },
  "language_info": {
   "codemirror_mode": {
    "name": "ipython",
    "version": 3
   },
   "file_extension": ".py",
   "mimetype": "text/x-python",
   "name": "python",
   "nbconvert_exporter": "python",
   "pygments_lexer": "ipython3",
   "version": "3.9.12"
  },
  "orig_nbformat": 4,
  "vscode": {
   "interpreter": {
    "hash": "8a9aaa9b1418154e921653208df6805fa10bbf52c1a504240ba40699d5f106f5"
   }
  }
 },
 "nbformat": 4,
 "nbformat_minor": 2
}
