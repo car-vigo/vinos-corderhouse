{
 "cells": [
  {
   "cell_type": "markdown",
   "metadata": {},
   "source": [
    "# 0.5 EDA"
   ]
  },
  {
   "cell_type": "markdown",
   "metadata": {},
   "source": [
    "## Import libraries"
   ]
  },
  {
   "cell_type": "code",
   "execution_count": 1,
   "metadata": {},
   "outputs": [],
   "source": [
    "# Sirve para actualizar el modulo despues de haber cambiado algo en el codigo de los modulos importados\n",
    "%load_ext autoreload\n",
    "%autoreload 2"
   ]
  },
  {
   "cell_type": "code",
   "execution_count": 2,
   "metadata": {},
   "outputs": [],
   "source": [
    "# Imports\n",
    "import pandas as pd\n",
    "import numpy as np\n",
    "import matplotlib.pyplot as plt\n",
    "import seaborn as sns\n",
    "import missingno as msno\n",
    "%matplotlib inline\n",
    "# Modulo para trabajar con los directorios del proyecto\n",
    "from src.utils.paths import data_dir"
   ]
  },
  {
   "cell_type": "code",
   "execution_count": 3,
   "metadata": {},
   "outputs": [],
   "source": [
    "from src.visualization.word_cloud import words_cloud\n",
    "from src.visualization.analysis_univariate import univariate_analysis\n",
    "import src.utils.statistics as stats"
   ]
  },
  {
   "cell_type": "markdown",
   "metadata": {},
   "source": [
    "## Set up"
   ]
  },
  {
   "cell_type": "code",
   "execution_count": 4,
   "metadata": {},
   "outputs": [],
   "source": [
    "# Configuracion de opciones\n",
    "\n",
    "# Configuramos para que muestre siempre todas las columnas disponibles\n",
    "\n",
    "pd.options.display.max_columns = None\n",
    "\n",
    "# Cambio del tamaño de los plots para seaborn\n",
    "sns.set(rc={'figure.figsize':(10,5)})"
   ]
  },
  {
   "cell_type": "markdown",
   "metadata": {},
   "source": [
    "## Read Data"
   ]
  },
  {
   "cell_type": "code",
   "execution_count": 5,
   "metadata": {},
   "outputs": [
    {
     "data": {
      "text/plain": [
       "WindowsPath('c:/Users/cvigo/data-projects/proyecto-final-vinos/vinos-corderhouse/data/intermediate/df_wine_merged.csv')"
      ]
     },
     "execution_count": 5,
     "metadata": {},
     "output_type": "execute_result"
    }
   ],
   "source": [
    "# Obtenemos la ruta de los csv's que vamos a utilizar\n",
    "WINES_CSV_PATH = data_dir(\"intermediate\", \"df_wine_merged.csv\")\n",
    "\n",
    "WINES_CSV_PATH"
   ]
  },
  {
   "cell_type": "markdown",
   "metadata": {},
   "source": [
    "### SETUP"
   ]
  },
  {
   "cell_type": "code",
   "execution_count": 8,
   "metadata": {},
   "outputs": [],
   "source": [
    "# Leemos los csv's y los guardamos en un dataframe\n",
    "df_wine = pd.read_csv(WINES_CSV_PATH)"
   ]
  },
  {
   "cell_type": "code",
   "execution_count": 9,
   "metadata": {},
   "outputs": [],
   "source": [
    "# Definimos el color para los plots\n",
    "COLOR_VINO_TINTO = \"#7C3030\"\n",
    "COLOR__VINO_BLANCO = \"#ffffbf\""
   ]
  },
  {
   "cell_type": "code",
   "execution_count": 11,
   "metadata": {},
   "outputs": [
    {
     "name": "stdout",
     "output_type": "stream",
     "text": [
      "shape_df=(5013, 21)\n"
     ]
    }
   ],
   "source": [
    "shape_df =df_wine.shape\n",
    "print(f\"{shape_df=}\")"
   ]
  },
  {
   "cell_type": "code",
   "execution_count": 10,
   "metadata": {},
   "outputs": [
    {
     "data": {
      "text/html": [
       "<div>\n",
       "<style scoped>\n",
       "    .dataframe tbody tr th:only-of-type {\n",
       "        vertical-align: middle;\n",
       "    }\n",
       "\n",
       "    .dataframe tbody tr th {\n",
       "        vertical-align: top;\n",
       "    }\n",
       "\n",
       "    .dataframe thead th {\n",
       "        text-align: right;\n",
       "    }\n",
       "</style>\n",
       "<table border=\"1\" class=\"dataframe\">\n",
       "  <thead>\n",
       "    <tr style=\"text-align: right;\">\n",
       "      <th></th>\n",
       "      <th>winery</th>\n",
       "      <th>wine</th>\n",
       "      <th>year</th>\n",
       "      <th>rating</th>\n",
       "      <th>region</th>\n",
       "      <th>price</th>\n",
       "      <th>type</th>\n",
       "      <th>body</th>\n",
       "      <th>fixed_acidity</th>\n",
       "      <th>volatile_acidity</th>\n",
       "      <th>citric_acid</th>\n",
       "      <th>residual_sugar</th>\n",
       "      <th>chlorides</th>\n",
       "      <th>free_sulfur_dioxide</th>\n",
       "      <th>total_sulfur_dioxide</th>\n",
       "      <th>density</th>\n",
       "      <th>pH</th>\n",
       "      <th>sulphates</th>\n",
       "      <th>alcohol</th>\n",
       "      <th>quality</th>\n",
       "      <th>style</th>\n",
       "    </tr>\n",
       "  </thead>\n",
       "  <tbody>\n",
       "    <tr>\n",
       "      <th>3516</th>\n",
       "      <td>Vinedos de Paganos</td>\n",
       "      <td>El Puntido</td>\n",
       "      <td>2005</td>\n",
       "      <td>4.2</td>\n",
       "      <td>Rioja</td>\n",
       "      <td>73.00</td>\n",
       "      <td>Rioja Red</td>\n",
       "      <td>4.0</td>\n",
       "      <td>7.6</td>\n",
       "      <td>0.27</td>\n",
       "      <td>0.29</td>\n",
       "      <td>2.5</td>\n",
       "      <td>0.059</td>\n",
       "      <td>37.0</td>\n",
       "      <td>115.0</td>\n",
       "      <td>0.99328</td>\n",
       "      <td>3.09</td>\n",
       "      <td>0.37</td>\n",
       "      <td>9.8</td>\n",
       "      <td>5</td>\n",
       "      <td>white</td>\n",
       "    </tr>\n",
       "    <tr>\n",
       "      <th>80</th>\n",
       "      <td>Vina Sastre</td>\n",
       "      <td>Pago de Santa Cruz</td>\n",
       "      <td>2016</td>\n",
       "      <td>4.5</td>\n",
       "      <td>Ribera del Duero</td>\n",
       "      <td>75.95</td>\n",
       "      <td>Ribera Del Duero Red</td>\n",
       "      <td>5.0</td>\n",
       "      <td>7.4</td>\n",
       "      <td>0.62</td>\n",
       "      <td>0.05</td>\n",
       "      <td>1.9</td>\n",
       "      <td>0.068</td>\n",
       "      <td>24.0</td>\n",
       "      <td>42.0</td>\n",
       "      <td>0.99610</td>\n",
       "      <td>3.42</td>\n",
       "      <td>0.57</td>\n",
       "      <td>11.5</td>\n",
       "      <td>6</td>\n",
       "      <td>red</td>\n",
       "    </tr>\n",
       "    <tr>\n",
       "      <th>100</th>\n",
       "      <td>Alvaro Palacios</td>\n",
       "      <td>Finca Dofi</td>\n",
       "      <td>2006</td>\n",
       "      <td>4.5</td>\n",
       "      <td>Priorato</td>\n",
       "      <td>75.00</td>\n",
       "      <td>Priorat Red</td>\n",
       "      <td>4.0</td>\n",
       "      <td>6.8</td>\n",
       "      <td>0.50</td>\n",
       "      <td>0.11</td>\n",
       "      <td>1.5</td>\n",
       "      <td>0.075</td>\n",
       "      <td>16.0</td>\n",
       "      <td>49.0</td>\n",
       "      <td>0.99545</td>\n",
       "      <td>3.36</td>\n",
       "      <td>0.79</td>\n",
       "      <td>9.5</td>\n",
       "      <td>5</td>\n",
       "      <td>red</td>\n",
       "    </tr>\n",
       "    <tr>\n",
       "      <th>1490</th>\n",
       "      <td>Matarromera</td>\n",
       "      <td>Gran Reserva</td>\n",
       "      <td>2011</td>\n",
       "      <td>4.2</td>\n",
       "      <td>Ribera del Duero</td>\n",
       "      <td>64.50</td>\n",
       "      <td>Ribera Del Duero Red</td>\n",
       "      <td>5.0</td>\n",
       "      <td>5.9</td>\n",
       "      <td>0.29</td>\n",
       "      <td>0.33</td>\n",
       "      <td>7.4</td>\n",
       "      <td>0.037</td>\n",
       "      <td>58.0</td>\n",
       "      <td>205.0</td>\n",
       "      <td>0.99495</td>\n",
       "      <td>3.26</td>\n",
       "      <td>0.41</td>\n",
       "      <td>9.6</td>\n",
       "      <td>5</td>\n",
       "      <td>white</td>\n",
       "    </tr>\n",
       "    <tr>\n",
       "      <th>2480</th>\n",
       "      <td>Matarromera</td>\n",
       "      <td>Gran Reserva</td>\n",
       "      <td>2011</td>\n",
       "      <td>4.2</td>\n",
       "      <td>Ribera del Duero</td>\n",
       "      <td>64.50</td>\n",
       "      <td>Ribera Del Duero Red</td>\n",
       "      <td>5.0</td>\n",
       "      <td>7.2</td>\n",
       "      <td>0.24</td>\n",
       "      <td>0.19</td>\n",
       "      <td>7.7</td>\n",
       "      <td>0.045</td>\n",
       "      <td>53.0</td>\n",
       "      <td>176.0</td>\n",
       "      <td>0.99580</td>\n",
       "      <td>3.17</td>\n",
       "      <td>0.38</td>\n",
       "      <td>9.5</td>\n",
       "      <td>5</td>\n",
       "      <td>white</td>\n",
       "    </tr>\n",
       "  </tbody>\n",
       "</table>\n",
       "</div>"
      ],
      "text/plain": [
       "                  winery                wine  year  rating            region  \\\n",
       "3516  Vinedos de Paganos          El Puntido  2005     4.2             Rioja   \n",
       "80           Vina Sastre  Pago de Santa Cruz  2016     4.5  Ribera del Duero   \n",
       "100      Alvaro Palacios          Finca Dofi  2006     4.5          Priorato   \n",
       "1490         Matarromera        Gran Reserva  2011     4.2  Ribera del Duero   \n",
       "2480         Matarromera        Gran Reserva  2011     4.2  Ribera del Duero   \n",
       "\n",
       "      price                  type  body  fixed_acidity  volatile_acidity  \\\n",
       "3516  73.00             Rioja Red   4.0            7.6              0.27   \n",
       "80    75.95  Ribera Del Duero Red   5.0            7.4              0.62   \n",
       "100   75.00           Priorat Red   4.0            6.8              0.50   \n",
       "1490  64.50  Ribera Del Duero Red   5.0            5.9              0.29   \n",
       "2480  64.50  Ribera Del Duero Red   5.0            7.2              0.24   \n",
       "\n",
       "      citric_acid  residual_sugar  chlorides  free_sulfur_dioxide  \\\n",
       "3516         0.29             2.5      0.059                 37.0   \n",
       "80           0.05             1.9      0.068                 24.0   \n",
       "100          0.11             1.5      0.075                 16.0   \n",
       "1490         0.33             7.4      0.037                 58.0   \n",
       "2480         0.19             7.7      0.045                 53.0   \n",
       "\n",
       "      total_sulfur_dioxide  density    pH  sulphates  alcohol  quality  style  \n",
       "3516                 115.0  0.99328  3.09       0.37      9.8        5  white  \n",
       "80                    42.0  0.99610  3.42       0.57     11.5        6    red  \n",
       "100                   49.0  0.99545  3.36       0.79      9.5        5    red  \n",
       "1490                 205.0  0.99495  3.26       0.41      9.6        5  white  \n",
       "2480                 176.0  0.99580  3.17       0.38      9.5        5  white  "
      ]
     },
     "execution_count": 10,
     "metadata": {},
     "output_type": "execute_result"
    }
   ],
   "source": [
    "# Vista previa de 5 datos aleatorios\n",
    "df_wine.sample(5)"
   ]
  }
 ],
 "metadata": {
  "kernelspec": {
   "display_name": "Python 3.9.12 ('vinos_coderhouse')",
   "language": "python",
   "name": "python3"
  },
  "language_info": {
   "codemirror_mode": {
    "name": "ipython",
    "version": 3
   },
   "file_extension": ".py",
   "mimetype": "text/x-python",
   "name": "python",
   "nbconvert_exporter": "python",
   "pygments_lexer": "ipython3",
   "version": "3.9.12"
  },
  "orig_nbformat": 4,
  "vscode": {
   "interpreter": {
    "hash": "8a9aaa9b1418154e921653208df6805fa10bbf52c1a504240ba40699d5f106f5"
   }
  }
 },
 "nbformat": 4,
 "nbformat_minor": 2
}
