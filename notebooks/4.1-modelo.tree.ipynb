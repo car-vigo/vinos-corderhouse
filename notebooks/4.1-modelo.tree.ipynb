{
 "cells": [
  {
   "cell_type": "markdown",
   "metadata": {},
   "source": [
    "# 4.0 Decision Tree"
   ]
  },
  {
   "cell_type": "markdown",
   "id": "61c1956b",
   "metadata": {},
   "source": [
    "## Import libraries"
   ]
  },
  {
   "cell_type": "code",
   "execution_count": 1,
   "id": "aa345a09",
   "metadata": {},
   "outputs": [],
   "source": [
    "# Sirve para actualizar el modulo despues de haber cambiado algo en el codigo de los modulos importados\n",
    "%load_ext autoreload\n",
    "%autoreload 2"
   ]
  },
  {
   "cell_type": "code",
   "execution_count": 2,
   "id": "9af94f89",
   "metadata": {},
   "outputs": [],
   "source": [
    "#Importamos las librerias\n",
    "import pandas as pd\n",
    "import numpy as np\n",
    "import matplotlib.pyplot as plt\n",
    "import seaborn as sns\n",
    "%matplotlib inline\n",
    "from sklearn.tree import DecisionTreeClassifier\n",
    "from sklearn.model_selection import train_test_split \n",
    "from skopt import BayesSearchCV\n",
    "from skopt.space import Real, Categorical, Integer\n",
    "from skopt.plots import plot_objective, plot_histogram, plot_evaluations\n",
    "from imblearn.over_sampling import SMOTE, ADASYN, RandomOverSampler"
   ]
  },
  {
   "cell_type": "code",
   "execution_count": 3,
   "id": "da004814",
   "metadata": {},
   "outputs": [],
   "source": [
    "# Modulos propios del proyecto que se encuentran en el directorio src\n",
    "from src.utils.paths import data_dir\n",
    "from src.visualization.word_cloud import words_cloud\n",
    "from src.utils.paths import references_dir\n",
    "from src.utils.metrics import display_and_plot_all_metrics, calculate_metrics\n"
   ]
  },
  {
   "cell_type": "markdown",
   "id": "8f79d30a",
   "metadata": {},
   "source": [
    "## Set up"
   ]
  },
  {
   "cell_type": "code",
   "execution_count": 4,
   "id": "a3f52a3d",
   "metadata": {},
   "outputs": [],
   "source": [
    "# Configuracion de opciones\n",
    "\n",
    "# Configuramos para que muestre siempre todas las columnas disponibles\n",
    "pd.options.display.max_columns = None\n",
    "\n",
    "# Cambio del tamaño de los plots para seaborn\n",
    "sns.set(rc={'figure.figsize':(10,5)})\n",
    "\n",
    "# Definimos el color para los plots\n",
    "COLOR_VINO_TINTO = \"#7C3030\"\n",
    "COLOR__VINO_BLANCO = \"#ffffbf\""
   ]
  },
  {
   "cell_type": "markdown",
   "id": "d47704ac",
   "metadata": {},
   "source": [
    "## Read Data"
   ]
  },
  {
   "cell_type": "code",
   "execution_count": 5,
   "id": "8d15455e",
   "metadata": {},
   "outputs": [
    {
     "name": "stdout",
     "output_type": "stream",
     "text": [
      "c:\\Users\\cvigo\\data-projects\\proyecto-final-vinos\\vinos-corderhouse\\data\\processed\\df_wine_complete.csv\n"
     ]
    }
   ],
   "source": [
    "# Obtenemos la ruta de los csv's que vamos a utilizar\n",
    "WINES_FINAL_CSV_PATH = data_dir(\"processed\", \"df_wine_complete.csv\")\n",
    "\n",
    "print(f\"{WINES_FINAL_CSV_PATH}\")"
   ]
  },
  {
   "cell_type": "code",
   "execution_count": 6,
   "metadata": {},
   "outputs": [],
   "source": [
    "df_wines = pd.read_csv(WINES_FINAL_CSV_PATH)"
   ]
  },
  {
   "cell_type": "code",
   "execution_count": 7,
   "metadata": {},
   "outputs": [
    {
     "data": {
      "text/html": [
       "<div>\n",
       "<style scoped>\n",
       "    .dataframe tbody tr th:only-of-type {\n",
       "        vertical-align: middle;\n",
       "    }\n",
       "\n",
       "    .dataframe tbody tr th {\n",
       "        vertical-align: top;\n",
       "    }\n",
       "\n",
       "    .dataframe thead th {\n",
       "        text-align: right;\n",
       "    }\n",
       "</style>\n",
       "<table border=\"1\" class=\"dataframe\">\n",
       "  <thead>\n",
       "    <tr style=\"text-align: right;\">\n",
       "      <th></th>\n",
       "      <th>quality_high</th>\n",
       "      <th>body_2</th>\n",
       "      <th>body_3</th>\n",
       "      <th>body_4</th>\n",
       "      <th>body_5</th>\n",
       "      <th>style_red</th>\n",
       "      <th>style_white</th>\n",
       "      <th>region_Otras</th>\n",
       "      <th>region_Priorato</th>\n",
       "      <th>region_Rias Baixas</th>\n",
       "      <th>region_Ribera del Duero</th>\n",
       "      <th>region_Rioja</th>\n",
       "      <th>region_Toro</th>\n",
       "      <th>region_Vino de Espana</th>\n",
       "      <th>PC1</th>\n",
       "      <th>PC2</th>\n",
       "      <th>PC3</th>\n",
       "      <th>PC4</th>\n",
       "      <th>PC5</th>\n",
       "      <th>PC6</th>\n",
       "      <th>PC7</th>\n",
       "    </tr>\n",
       "  </thead>\n",
       "  <tbody>\n",
       "    <tr>\n",
       "      <th>5744</th>\n",
       "      <td>1</td>\n",
       "      <td>0</td>\n",
       "      <td>1</td>\n",
       "      <td>0</td>\n",
       "      <td>0</td>\n",
       "      <td>0</td>\n",
       "      <td>1</td>\n",
       "      <td>0</td>\n",
       "      <td>0</td>\n",
       "      <td>1</td>\n",
       "      <td>0</td>\n",
       "      <td>0</td>\n",
       "      <td>0</td>\n",
       "      <td>0</td>\n",
       "      <td>0.091291</td>\n",
       "      <td>-0.599124</td>\n",
       "      <td>0.017571</td>\n",
       "      <td>-0.034851</td>\n",
       "      <td>0.167515</td>\n",
       "      <td>0.142035</td>\n",
       "      <td>-0.185346</td>\n",
       "    </tr>\n",
       "    <tr>\n",
       "      <th>3111</th>\n",
       "      <td>0</td>\n",
       "      <td>0</td>\n",
       "      <td>0</td>\n",
       "      <td>1</td>\n",
       "      <td>0</td>\n",
       "      <td>0</td>\n",
       "      <td>1</td>\n",
       "      <td>0</td>\n",
       "      <td>0</td>\n",
       "      <td>0</td>\n",
       "      <td>0</td>\n",
       "      <td>0</td>\n",
       "      <td>0</td>\n",
       "      <td>1</td>\n",
       "      <td>0.173573</td>\n",
       "      <td>-0.118101</td>\n",
       "      <td>-0.126152</td>\n",
       "      <td>0.146522</td>\n",
       "      <td>-0.189283</td>\n",
       "      <td>-0.126779</td>\n",
       "      <td>-0.035994</td>\n",
       "    </tr>\n",
       "    <tr>\n",
       "      <th>5324</th>\n",
       "      <td>1</td>\n",
       "      <td>0</td>\n",
       "      <td>0</td>\n",
       "      <td>1</td>\n",
       "      <td>0</td>\n",
       "      <td>0</td>\n",
       "      <td>1</td>\n",
       "      <td>0</td>\n",
       "      <td>0</td>\n",
       "      <td>0</td>\n",
       "      <td>0</td>\n",
       "      <td>1</td>\n",
       "      <td>0</td>\n",
       "      <td>0</td>\n",
       "      <td>-0.157103</td>\n",
       "      <td>0.103425</td>\n",
       "      <td>0.508307</td>\n",
       "      <td>-0.197089</td>\n",
       "      <td>0.028327</td>\n",
       "      <td>0.185465</td>\n",
       "      <td>-0.075355</td>\n",
       "    </tr>\n",
       "    <tr>\n",
       "      <th>4212</th>\n",
       "      <td>0</td>\n",
       "      <td>0</td>\n",
       "      <td>0</td>\n",
       "      <td>1</td>\n",
       "      <td>0</td>\n",
       "      <td>0</td>\n",
       "      <td>1</td>\n",
       "      <td>0</td>\n",
       "      <td>0</td>\n",
       "      <td>0</td>\n",
       "      <td>0</td>\n",
       "      <td>1</td>\n",
       "      <td>0</td>\n",
       "      <td>0</td>\n",
       "      <td>0.185910</td>\n",
       "      <td>0.157720</td>\n",
       "      <td>0.071083</td>\n",
       "      <td>0.141706</td>\n",
       "      <td>-0.124535</td>\n",
       "      <td>-0.059892</td>\n",
       "      <td>-0.175677</td>\n",
       "    </tr>\n",
       "    <tr>\n",
       "      <th>2607</th>\n",
       "      <td>1</td>\n",
       "      <td>0</td>\n",
       "      <td>0</td>\n",
       "      <td>1</td>\n",
       "      <td>0</td>\n",
       "      <td>0</td>\n",
       "      <td>1</td>\n",
       "      <td>0</td>\n",
       "      <td>0</td>\n",
       "      <td>0</td>\n",
       "      <td>0</td>\n",
       "      <td>1</td>\n",
       "      <td>0</td>\n",
       "      <td>0</td>\n",
       "      <td>0.188058</td>\n",
       "      <td>-0.552924</td>\n",
       "      <td>-0.151056</td>\n",
       "      <td>-0.079701</td>\n",
       "      <td>-0.036803</td>\n",
       "      <td>0.252252</td>\n",
       "      <td>0.136498</td>\n",
       "    </tr>\n",
       "    <tr>\n",
       "      <th>1170</th>\n",
       "      <td>0</td>\n",
       "      <td>0</td>\n",
       "      <td>0</td>\n",
       "      <td>1</td>\n",
       "      <td>0</td>\n",
       "      <td>1</td>\n",
       "      <td>0</td>\n",
       "      <td>0</td>\n",
       "      <td>0</td>\n",
       "      <td>0</td>\n",
       "      <td>0</td>\n",
       "      <td>1</td>\n",
       "      <td>0</td>\n",
       "      <td>0</td>\n",
       "      <td>0.540121</td>\n",
       "      <td>0.100501</td>\n",
       "      <td>-0.312406</td>\n",
       "      <td>-0.144899</td>\n",
       "      <td>0.285275</td>\n",
       "      <td>-0.005983</td>\n",
       "      <td>-0.135907</td>\n",
       "    </tr>\n",
       "    <tr>\n",
       "      <th>2068</th>\n",
       "      <td>1</td>\n",
       "      <td>0</td>\n",
       "      <td>1</td>\n",
       "      <td>0</td>\n",
       "      <td>0</td>\n",
       "      <td>0</td>\n",
       "      <td>1</td>\n",
       "      <td>1</td>\n",
       "      <td>0</td>\n",
       "      <td>0</td>\n",
       "      <td>0</td>\n",
       "      <td>0</td>\n",
       "      <td>0</td>\n",
       "      <td>0</td>\n",
       "      <td>-0.535775</td>\n",
       "      <td>0.382642</td>\n",
       "      <td>-0.233586</td>\n",
       "      <td>0.410044</td>\n",
       "      <td>0.015501</td>\n",
       "      <td>-0.046436</td>\n",
       "      <td>0.033497</td>\n",
       "    </tr>\n",
       "    <tr>\n",
       "      <th>2076</th>\n",
       "      <td>1</td>\n",
       "      <td>0</td>\n",
       "      <td>0</td>\n",
       "      <td>0</td>\n",
       "      <td>1</td>\n",
       "      <td>0</td>\n",
       "      <td>1</td>\n",
       "      <td>0</td>\n",
       "      <td>0</td>\n",
       "      <td>0</td>\n",
       "      <td>0</td>\n",
       "      <td>0</td>\n",
       "      <td>1</td>\n",
       "      <td>0</td>\n",
       "      <td>-0.013033</td>\n",
       "      <td>-0.483191</td>\n",
       "      <td>-0.143933</td>\n",
       "      <td>-0.161367</td>\n",
       "      <td>0.104082</td>\n",
       "      <td>-0.012296</td>\n",
       "      <td>0.032674</td>\n",
       "    </tr>\n",
       "    <tr>\n",
       "      <th>2806</th>\n",
       "      <td>1</td>\n",
       "      <td>0</td>\n",
       "      <td>0</td>\n",
       "      <td>1</td>\n",
       "      <td>0</td>\n",
       "      <td>0</td>\n",
       "      <td>1</td>\n",
       "      <td>0</td>\n",
       "      <td>1</td>\n",
       "      <td>0</td>\n",
       "      <td>0</td>\n",
       "      <td>0</td>\n",
       "      <td>0</td>\n",
       "      <td>0</td>\n",
       "      <td>-0.361458</td>\n",
       "      <td>-0.103666</td>\n",
       "      <td>-0.194607</td>\n",
       "      <td>-0.222611</td>\n",
       "      <td>0.041537</td>\n",
       "      <td>-0.125996</td>\n",
       "      <td>0.068102</td>\n",
       "    </tr>\n",
       "    <tr>\n",
       "      <th>5589</th>\n",
       "      <td>1</td>\n",
       "      <td>0</td>\n",
       "      <td>1</td>\n",
       "      <td>0</td>\n",
       "      <td>0</td>\n",
       "      <td>0</td>\n",
       "      <td>1</td>\n",
       "      <td>1</td>\n",
       "      <td>0</td>\n",
       "      <td>0</td>\n",
       "      <td>0</td>\n",
       "      <td>0</td>\n",
       "      <td>0</td>\n",
       "      <td>0</td>\n",
       "      <td>-0.059085</td>\n",
       "      <td>-0.608713</td>\n",
       "      <td>-0.075630</td>\n",
       "      <td>-0.055915</td>\n",
       "      <td>0.020994</td>\n",
       "      <td>0.280091</td>\n",
       "      <td>0.187765</td>\n",
       "    </tr>\n",
       "  </tbody>\n",
       "</table>\n",
       "</div>"
      ],
      "text/plain": [
       "      quality_high  body_2  body_3  body_4  body_5  style_red  style_white  \\\n",
       "5744             1       0       1       0       0          0            1   \n",
       "3111             0       0       0       1       0          0            1   \n",
       "5324             1       0       0       1       0          0            1   \n",
       "4212             0       0       0       1       0          0            1   \n",
       "2607             1       0       0       1       0          0            1   \n",
       "1170             0       0       0       1       0          1            0   \n",
       "2068             1       0       1       0       0          0            1   \n",
       "2076             1       0       0       0       1          0            1   \n",
       "2806             1       0       0       1       0          0            1   \n",
       "5589             1       0       1       0       0          0            1   \n",
       "\n",
       "      region_Otras  region_Priorato  region_Rias Baixas  \\\n",
       "5744             0                0                   1   \n",
       "3111             0                0                   0   \n",
       "5324             0                0                   0   \n",
       "4212             0                0                   0   \n",
       "2607             0                0                   0   \n",
       "1170             0                0                   0   \n",
       "2068             1                0                   0   \n",
       "2076             0                0                   0   \n",
       "2806             0                1                   0   \n",
       "5589             1                0                   0   \n",
       "\n",
       "      region_Ribera del Duero  region_Rioja  region_Toro  \\\n",
       "5744                        0             0            0   \n",
       "3111                        0             0            0   \n",
       "5324                        0             1            0   \n",
       "4212                        0             1            0   \n",
       "2607                        0             1            0   \n",
       "1170                        0             1            0   \n",
       "2068                        0             0            0   \n",
       "2076                        0             0            1   \n",
       "2806                        0             0            0   \n",
       "5589                        0             0            0   \n",
       "\n",
       "      region_Vino de Espana       PC1       PC2       PC3       PC4       PC5  \\\n",
       "5744                      0  0.091291 -0.599124  0.017571 -0.034851  0.167515   \n",
       "3111                      1  0.173573 -0.118101 -0.126152  0.146522 -0.189283   \n",
       "5324                      0 -0.157103  0.103425  0.508307 -0.197089  0.028327   \n",
       "4212                      0  0.185910  0.157720  0.071083  0.141706 -0.124535   \n",
       "2607                      0  0.188058 -0.552924 -0.151056 -0.079701 -0.036803   \n",
       "1170                      0  0.540121  0.100501 -0.312406 -0.144899  0.285275   \n",
       "2068                      0 -0.535775  0.382642 -0.233586  0.410044  0.015501   \n",
       "2076                      0 -0.013033 -0.483191 -0.143933 -0.161367  0.104082   \n",
       "2806                      0 -0.361458 -0.103666 -0.194607 -0.222611  0.041537   \n",
       "5589                      0 -0.059085 -0.608713 -0.075630 -0.055915  0.020994   \n",
       "\n",
       "           PC6       PC7  \n",
       "5744  0.142035 -0.185346  \n",
       "3111 -0.126779 -0.035994  \n",
       "5324  0.185465 -0.075355  \n",
       "4212 -0.059892 -0.175677  \n",
       "2607  0.252252  0.136498  \n",
       "1170 -0.005983 -0.135907  \n",
       "2068 -0.046436  0.033497  \n",
       "2076 -0.012296  0.032674  \n",
       "2806 -0.125996  0.068102  \n",
       "5589  0.280091  0.187765  "
      ]
     },
     "execution_count": 7,
     "metadata": {},
     "output_type": "execute_result"
    }
   ],
   "source": [
    "df_wines.sample(10)"
   ]
  },
  {
   "cell_type": "markdown",
   "metadata": {},
   "source": [
    "# Preparamos los datos"
   ]
  },
  {
   "cell_type": "code",
   "execution_count": 8,
   "metadata": {},
   "outputs": [],
   "source": [
    "#Seperamos en X e y\n",
    "#Elimino de mi dataset la variable a predecir\n",
    "X = df_wines.drop(columns=[\"quality_high\"])\n",
    "y = df_wines.quality_high #Defino el Target"
   ]
  },
  {
   "cell_type": "code",
   "execution_count": 9,
   "metadata": {},
   "outputs": [
    {
     "data": {
      "text/plain": [
       "((4246, 20), (1821, 20))"
      ]
     },
     "execution_count": 9,
     "metadata": {},
     "output_type": "execute_result"
    }
   ],
   "source": [
    "# Me quedo con 30% para test (validación) y 70% para train (entrenamiento)\n",
    "X_train, X_test, y_train, y_test = train_test_split(X, y, test_size=0.30, random_state=42) \n",
    "X_train.shape, X_test.shape"
   ]
  },
  {
   "cell_type": "markdown",
   "metadata": {},
   "source": [
    "# Decision Tree"
   ]
  },
  {
   "cell_type": "code",
   "execution_count": 10,
   "metadata": {},
   "outputs": [
    {
     "data": {
      "text/plain": [
       "DecisionTreeClassifier(max_depth=3, random_state=42)"
      ]
     },
     "execution_count": 10,
     "metadata": {},
     "output_type": "execute_result"
    }
   ],
   "source": [
    "tree = DecisionTreeClassifier(max_depth=3, random_state = 42) #Creamos el modelo\n",
    "#Entrenamos el modelo\n",
    "tree.fit(X_train,y_train)"
   ]
  },
  {
   "cell_type": "code",
   "execution_count": 11,
   "metadata": {},
   "outputs": [],
   "source": [
    "y_train_pred = tree.predict(X_train) #Prediccion en Train\n",
    "y_test_pred = tree.predict(X_test) #Prediccion en Test"
   ]
  },
  {
   "cell_type": "markdown",
   "metadata": {},
   "source": [
    "## Metricas"
   ]
  },
  {
   "cell_type": "code",
   "execution_count": 13,
   "metadata": {},
   "outputs": [
    {
     "data": {
      "text/html": [
       "<div>\n",
       "<style scoped>\n",
       "    .dataframe tbody tr th:only-of-type {\n",
       "        vertical-align: middle;\n",
       "    }\n",
       "\n",
       "    .dataframe tbody tr th {\n",
       "        vertical-align: top;\n",
       "    }\n",
       "\n",
       "    .dataframe thead th {\n",
       "        text-align: right;\n",
       "    }\n",
       "</style>\n",
       "<table border=\"1\" class=\"dataframe\">\n",
       "  <thead>\n",
       "    <tr style=\"text-align: right;\">\n",
       "      <th></th>\n",
       "      <th>tree</th>\n",
       "    </tr>\n",
       "  </thead>\n",
       "  <tbody>\n",
       "    <tr>\n",
       "      <th>accuracy</th>\n",
       "      <td>0.67</td>\n",
       "    </tr>\n",
       "    <tr>\n",
       "      <th>precision</th>\n",
       "      <td>0.7</td>\n",
       "    </tr>\n",
       "    <tr>\n",
       "      <th>recall</th>\n",
       "      <td>0.84</td>\n",
       "    </tr>\n",
       "    <tr>\n",
       "      <th>f1</th>\n",
       "      <td>0.77</td>\n",
       "    </tr>\n",
       "    <tr>\n",
       "      <th>roc_auc</th>\n",
       "      <td>0.71</td>\n",
       "    </tr>\n",
       "    <tr>\n",
       "      <th>fpr</th>\n",
       "      <td>[0.0, 0.13273001508295626, 0.19607843137254902...</td>\n",
       "    </tr>\n",
       "    <tr>\n",
       "      <th>tpr</th>\n",
       "      <td>[0.0, 0.43955094991364424, 0.5284974093264249,...</td>\n",
       "    </tr>\n",
       "    <tr>\n",
       "      <th>thresholds</th>\n",
       "      <td>[1.8678286129266521, 0.8678286129266521, 0.677...</td>\n",
       "    </tr>\n",
       "  </tbody>\n",
       "</table>\n",
       "</div>"
      ],
      "text/plain": [
       "                                                         tree\n",
       "accuracy                                                 0.67\n",
       "precision                                                 0.7\n",
       "recall                                                   0.84\n",
       "f1                                                       0.77\n",
       "roc_auc                                                  0.71\n",
       "fpr         [0.0, 0.13273001508295626, 0.19607843137254902...\n",
       "tpr         [0.0, 0.43955094991364424, 0.5284974093264249,...\n",
       "thresholds  [1.8678286129266521, 0.8678286129266521, 0.677..."
      ]
     },
     "execution_count": 13,
     "metadata": {},
     "output_type": "execute_result"
    }
   ],
   "source": [
    "# Calculo las metricas de evaluacion\n",
    "metrics_tree = calculate_metrics('tree', tree,X_test,y_test,y_test_pred)\n",
    "metrics_tree"
   ]
  },
  {
   "cell_type": "code",
   "execution_count": 14,
   "metadata": {},
   "outputs": [
    {
     "data": {
      "text/markdown": [
       "# Metricas: "
      ],
      "text/plain": [
       "<IPython.core.display.Markdown object>"
      ]
     },
     "metadata": {},
     "output_type": "display_data"
    },
    {
     "data": {
      "text/markdown": [
       "### Metricas calculadas"
      ],
      "text/plain": [
       "<IPython.core.display.Markdown object>"
      ]
     },
     "metadata": {},
     "output_type": "display_data"
    },
    {
     "data": {
      "text/html": [
       "<div>\n",
       "<style scoped>\n",
       "    .dataframe tbody tr th:only-of-type {\n",
       "        vertical-align: middle;\n",
       "    }\n",
       "\n",
       "    .dataframe tbody tr th {\n",
       "        vertical-align: top;\n",
       "    }\n",
       "\n",
       "    .dataframe thead th {\n",
       "        text-align: right;\n",
       "    }\n",
       "</style>\n",
       "<table border=\"1\" class=\"dataframe\">\n",
       "  <thead>\n",
       "    <tr style=\"text-align: right;\">\n",
       "      <th></th>\n",
       "      <th>recall</th>\n",
       "      <th>f1</th>\n",
       "      <th>roc_auc</th>\n",
       "      <th>precision</th>\n",
       "      <th>accuracy</th>\n",
       "    </tr>\n",
       "  </thead>\n",
       "  <tbody>\n",
       "    <tr>\n",
       "      <th>tree</th>\n",
       "      <td>0.84</td>\n",
       "      <td>0.77</td>\n",
       "      <td>0.71</td>\n",
       "      <td>0.7</td>\n",
       "      <td>0.67</td>\n",
       "    </tr>\n",
       "  </tbody>\n",
       "</table>\n",
       "</div>"
      ],
      "text/plain": [
       "     recall    f1 roc_auc precision accuracy\n",
       "tree   0.84  0.77    0.71       0.7     0.67"
      ]
     },
     "metadata": {},
     "output_type": "display_data"
    },
    {
     "data": {
      "text/markdown": [
       "### Grafico de confusion matrix: "
      ],
      "text/plain": [
       "<IPython.core.display.Markdown object>"
      ]
     },
     "metadata": {},
     "output_type": "display_data"
    },
    {
     "data": {
      "image/png": "[encoded data removed]",
      "text/plain": [
       "<Figure size 720x360 with 1 Axes>"
      ]
     },
     "metadata": {},
     "output_type": "display_data"
    },
    {
     "data": {
      "text/plain": [
       "<Figure size 720x720 with 0 Axes>"
      ]
     },
     "metadata": {},
     "output_type": "display_data"
    },
    {
     "data": {
      "image/png": "[encoded data removed]",
      "text/plain": [
       "<Figure size 720x360 with 2 Axes>"
      ]
     },
     "metadata": {},
     "output_type": "display_data"
    },
    {
     "data": {
      "text/markdown": [
       "### Grafico de roc: "
      ],
      "text/plain": [
       "<IPython.core.display.Markdown object>"
      ]
     },
     "metadata": {},
     "output_type": "display_data"
    },
    {
     "data": {
      "image/png": "[encoded data removed]",
      "text/plain": [
       "<Figure size 720x360 with 1 Axes>"
      ]
     },
     "metadata": {},
     "output_type": "display_data"
    }
   ],
   "source": [
    "display_and_plot_all_metrics('tree', tree,X_test,y_test,y_test_pred)"
   ]
  },
  {
   "cell_type": "markdown",
   "metadata": {},
   "source": [
    "## Importancia de las variables"
   ]
  },
  {
   "cell_type": "code",
   "execution_count": 16,
   "metadata": {},
   "outputs": [
    {
     "name": "stderr",
     "output_type": "stream",
     "text": [
      "c:\\Users\\cvigo\\.conda\\envs\\vinos_coderhouse\\lib\\site-packages\\seaborn\\_decorators.py:36: FutureWarning: Pass the following variables as keyword args: x, y. From version 0.12, the only valid positional argument will be `data`, and passing other arguments without an explicit keyword will result in an error or misinterpretation.\n",
      "  warnings.warn(\n"
     ]
    },
    {
     "data": {
      "image/png": "[encoded data removed]",
      "text/plain": [
       "<Figure size 1440x576 with 1 Axes>"
      ]
     },
     "metadata": {},
     "output_type": "display_data"
    }
   ],
   "source": [
    "plt.figure(figsize=(20,8))\n",
    "importances = tree.feature_importances_\n",
    "columns = X.columns\n",
    "sns.barplot(columns, importances)\n",
    "plt.title('Importancia de cada Feature')\n",
    "plt.xticks(rotation=90)\n",
    "plt.show()"
   ]
  },
  {
   "cell_type": "markdown",
   "metadata": {},
   "source": [
    "Para este algoritmo la importancia se centra en las variables:\n",
    "- PC2\n",
    "- PC4\n",
    "- PC6\n",
    "- PC7"
   ]
  },
  {
   "cell_type": "code",
   "execution_count": 20,
   "metadata": {},
   "outputs": [],
   "source": [
    "#Seperamos en X e y\n",
    "#Elimino de mi dataset la variable a predecir y las variables de poca importancia\n",
    "X = df_wines[['PC2','PC4','PC6','PC7']]\n",
    "y = df_wines.quality_high #Defino el Target"
   ]
  },
  {
   "cell_type": "code",
   "execution_count": 21,
   "metadata": {},
   "outputs": [],
   "source": [
    "# Me quedo con 30% para test (validación) y 70% para train (entrenamiento)\n",
    "X_train, X_test, y_train, y_test = train_test_split(X, y, test_size=0.30, random_state=42) "
   ]
  },
  {
   "cell_type": "code",
   "execution_count": 22,
   "metadata": {},
   "outputs": [
    {
     "data": {
      "text/plain": [
       "((4246, 4), (1821, 4))"
      ]
     },
     "execution_count": 22,
     "metadata": {},
     "output_type": "execute_result"
    }
   ],
   "source": [
    "X_train.shape, X_test.shape"
   ]
  },
  {
   "cell_type": "markdown",
   "metadata": {},
   "source": [
    "# Hypertuning de Parámetros"
   ]
  },
  {
   "cell_type": "markdown",
   "metadata": {},
   "source": [
    "En las metricas vamos a priorizar la metrica de precision ya que queremos reducir los falsos positivos porque eso implica que lso vinos de baja calidad sean clasificados como de baja calidad, y cuando se exporten puede generar malestar en los clientes y baja fidelidad."
   ]
  },
  {
   "cell_type": "code",
   "execution_count": 23,
   "metadata": {},
   "outputs": [],
   "source": [
    "# Hyperparametros\n",
    "\n",
    "hyperparameters={\n",
    "    'max_depth': [2, 3, 5, 10, 20],\n",
    "    'min_samples_leaf': [5, 10, 20, 50, 100],\n",
    "    'criterion': [\"gini\", \"entropy\"]\n",
    "}\n",
    "model = BayesSearchCV(DecisionTreeClassifier(),\n",
    "                      hyperparameters,\n",
    "                      scoring='precision', \n",
    "                      n_points= 5,\n",
    "                      n_iter= 30,\n",
    "                      cv= 5,\n",
    "                      verbose = 2,\n",
    "                      n_jobs=6,\n",
    "                      random_state= 88)\n"
   ]
  },
  {
   "cell_type": "code",
   "execution_count": 24,
   "metadata": {},
   "outputs": [
    {
     "name": "stdout",
     "output_type": "stream",
     "text": [
      "Fitting 5 folds for each of 5 candidates, totalling 25 fits\n",
      "Fitting 5 folds for each of 5 candidates, totalling 25 fits\n",
      "Fitting 5 folds for each of 5 candidates, totalling 25 fits\n",
      "Fitting 5 folds for each of 5 candidates, totalling 25 fits\n",
      "Fitting 5 folds for each of 5 candidates, totalling 25 fits\n"
     ]
    },
    {
     "name": "stderr",
     "output_type": "stream",
     "text": [
      "c:\\Users\\cvigo\\.conda\\envs\\vinos_coderhouse\\lib\\site-packages\\skopt\\optimizer\\optimizer.py:449: UserWarning: The objective has been evaluated at this point before.\n",
      "  warnings.warn(\"The objective has been evaluated \"\n"
     ]
    },
    {
     "name": "stdout",
     "output_type": "stream",
     "text": [
      "Fitting 5 folds for each of 5 candidates, totalling 25 fits\n"
     ]
    }
   ],
   "source": [
    "model.fit(X_train, y_train)\n",
    "clf = model.best_estimator_\n",
    "y_test_pred = pd.Series(clf.predict(X_test), index=X_test.index)"
   ]
  },
  {
   "cell_type": "code",
   "execution_count": 25,
   "metadata": {},
   "outputs": [
    {
     "data": {
      "text/html": [
       "<div>\n",
       "<style scoped>\n",
       "    .dataframe tbody tr th:only-of-type {\n",
       "        vertical-align: middle;\n",
       "    }\n",
       "\n",
       "    .dataframe tbody tr th {\n",
       "        vertical-align: top;\n",
       "    }\n",
       "\n",
       "    .dataframe thead th {\n",
       "        text-align: right;\n",
       "    }\n",
       "</style>\n",
       "<table border=\"1\" class=\"dataframe\">\n",
       "  <thead>\n",
       "    <tr style=\"text-align: right;\">\n",
       "      <th></th>\n",
       "      <th>tree_tuning</th>\n",
       "    </tr>\n",
       "  </thead>\n",
       "  <tbody>\n",
       "    <tr>\n",
       "      <th>accuracy</th>\n",
       "      <td>0.68</td>\n",
       "    </tr>\n",
       "    <tr>\n",
       "      <th>precision</th>\n",
       "      <td>0.73</td>\n",
       "    </tr>\n",
       "    <tr>\n",
       "      <th>recall</th>\n",
       "      <td>0.79</td>\n",
       "    </tr>\n",
       "    <tr>\n",
       "      <th>f1</th>\n",
       "      <td>0.76</td>\n",
       "    </tr>\n",
       "    <tr>\n",
       "      <th>roc_auc</th>\n",
       "      <td>0.73</td>\n",
       "    </tr>\n",
       "    <tr>\n",
       "      <th>fpr</th>\n",
       "      <td>[0.0, 0.007541478129713424, 0.0271493212669683...</td>\n",
       "    </tr>\n",
       "    <tr>\n",
       "      <th>tpr</th>\n",
       "      <td>[0.0, 0.025906735751295335, 0.2236614853195164...</td>\n",
       "    </tr>\n",
       "    <tr>\n",
       "      <th>thresholds</th>\n",
       "      <td>[1.9629629629629628, 0.9629629629629629, 0.944...</td>\n",
       "    </tr>\n",
       "  </tbody>\n",
       "</table>\n",
       "</div>"
      ],
      "text/plain": [
       "                                                  tree_tuning\n",
       "accuracy                                                 0.68\n",
       "precision                                                0.73\n",
       "recall                                                   0.79\n",
       "f1                                                       0.76\n",
       "roc_auc                                                  0.73\n",
       "fpr         [0.0, 0.007541478129713424, 0.0271493212669683...\n",
       "tpr         [0.0, 0.025906735751295335, 0.2236614853195164...\n",
       "thresholds  [1.9629629629629628, 0.9629629629629629, 0.944..."
      ]
     },
     "execution_count": 25,
     "metadata": {},
     "output_type": "execute_result"
    }
   ],
   "source": [
    "# Calculo las metricas de evaluacion\n",
    "metrics_tree_tuning = calculate_metrics('tree_tuning', clf,X_test,y_test,y_test_pred)\n",
    "metrics_tree_tuning"
   ]
  },
  {
   "cell_type": "code",
   "execution_count": 26,
   "metadata": {},
   "outputs": [
    {
     "data": {
      "text/markdown": [
       "# Metricas: "
      ],
      "text/plain": [
       "<IPython.core.display.Markdown object>"
      ]
     },
     "metadata": {},
     "output_type": "display_data"
    },
    {
     "data": {
      "text/markdown": [
       "### Metricas calculadas"
      ],
      "text/plain": [
       "<IPython.core.display.Markdown object>"
      ]
     },
     "metadata": {},
     "output_type": "display_data"
    },
    {
     "data": {
      "text/html": [
       "<div>\n",
       "<style scoped>\n",
       "    .dataframe tbody tr th:only-of-type {\n",
       "        vertical-align: middle;\n",
       "    }\n",
       "\n",
       "    .dataframe tbody tr th {\n",
       "        vertical-align: top;\n",
       "    }\n",
       "\n",
       "    .dataframe thead th {\n",
       "        text-align: right;\n",
       "    }\n",
       "</style>\n",
       "<table border=\"1\" class=\"dataframe\">\n",
       "  <thead>\n",
       "    <tr style=\"text-align: right;\">\n",
       "      <th></th>\n",
       "      <th>recall</th>\n",
       "      <th>f1</th>\n",
       "      <th>precision</th>\n",
       "      <th>roc_auc</th>\n",
       "      <th>accuracy</th>\n",
       "    </tr>\n",
       "  </thead>\n",
       "  <tbody>\n",
       "    <tr>\n",
       "      <th>tree_tuning</th>\n",
       "      <td>0.79</td>\n",
       "      <td>0.76</td>\n",
       "      <td>0.73</td>\n",
       "      <td>0.73</td>\n",
       "      <td>0.68</td>\n",
       "    </tr>\n",
       "  </tbody>\n",
       "</table>\n",
       "</div>"
      ],
      "text/plain": [
       "            recall    f1 precision roc_auc accuracy\n",
       "tree_tuning   0.79  0.76      0.73    0.73     0.68"
      ]
     },
     "metadata": {},
     "output_type": "display_data"
    },
    {
     "data": {
      "text/markdown": [
       "### Grafico de confusion matrix: "
      ],
      "text/plain": [
       "<IPython.core.display.Markdown object>"
      ]
     },
     "metadata": {},
     "output_type": "display_data"
    },
    {
     "data": {
      "image/png": "[encoded data removed]",
      "text/plain": [
       "<Figure size 720x360 with 1 Axes>"
      ]
     },
     "metadata": {},
     "output_type": "display_data"
    },
    {
     "data": {
      "text/plain": [
       "<Figure size 720x720 with 0 Axes>"
      ]
     },
     "metadata": {},
     "output_type": "display_data"
    },
    {
     "data": {
      "image/png": "[encoded data removed]",
      "text/plain": [
       "<Figure size 720x360 with 2 Axes>"
      ]
     },
     "metadata": {},
     "output_type": "display_data"
    },
    {
     "data": {
      "text/markdown": [
       "### Grafico de roc: "
      ],
      "text/plain": [
       "<IPython.core.display.Markdown object>"
      ]
     },
     "metadata": {},
     "output_type": "display_data"
    },
    {
     "data": {
      "image/png": "[encoded data removed]",
      "text/plain": [
       "<Figure size 720x360 with 1 Axes>"
      ]
     },
     "metadata": {},
     "output_type": "display_data"
    }
   ],
   "source": [
    "display_and_plot_all_metrics('tree_tuning',clf,X_test,y_test,y_test_pred)"
   ]
  },
  {
   "cell_type": "markdown",
   "metadata": {},
   "source": [
    "## Oversampling"
   ]
  },
  {
   "cell_type": "markdown",
   "metadata": {},
   "source": [
    "Como estamos trabajando con una clase desbalanceada, vamos a hacer un over sampling para mitigar el problema."
   ]
  },
  {
   "cell_type": "code",
   "execution_count": 27,
   "metadata": {},
   "outputs": [],
   "source": [
    "X_resampled, y_resampled = RandomOverSampler().fit_resample(X_train, y_train)"
   ]
  },
  {
   "cell_type": "code",
   "execution_count": 33,
   "metadata": {},
   "outputs": [],
   "source": [
    "model = BayesSearchCV(DecisionTreeClassifier(),\n",
    "                      hyperparameters,\n",
    "                      scoring='precision',\n",
    "                      n_points= 5,\n",
    "                      n_iter= 30,\n",
    "                      cv= 5,\n",
    "                      verbose = 2,\n",
    "                      n_jobs=6,\n",
    "                      random_state= 88)\n"
   ]
  },
  {
   "cell_type": "code",
   "execution_count": 34,
   "metadata": {},
   "outputs": [
    {
     "name": "stdout",
     "output_type": "stream",
     "text": [
      "Fitting 5 folds for each of 5 candidates, totalling 25 fits\n",
      "Fitting 5 folds for each of 5 candidates, totalling 25 fits\n",
      "Fitting 5 folds for each of 5 candidates, totalling 25 fits\n"
     ]
    },
    {
     "name": "stderr",
     "output_type": "stream",
     "text": [
      "c:\\Users\\cvigo\\.conda\\envs\\vinos_coderhouse\\lib\\site-packages\\skopt\\optimizer\\optimizer.py:449: UserWarning: The objective has been evaluated at this point before.\n",
      "  warnings.warn(\"The objective has been evaluated \"\n"
     ]
    },
    {
     "name": "stdout",
     "output_type": "stream",
     "text": [
      "Fitting 5 folds for each of 5 candidates, totalling 25 fits\n"
     ]
    },
    {
     "name": "stderr",
     "output_type": "stream",
     "text": [
      "c:\\Users\\cvigo\\.conda\\envs\\vinos_coderhouse\\lib\\site-packages\\skopt\\optimizer\\optimizer.py:449: UserWarning: The objective has been evaluated at this point before.\n",
      "  warnings.warn(\"The objective has been evaluated \"\n",
      "c:\\Users\\cvigo\\.conda\\envs\\vinos_coderhouse\\lib\\site-packages\\skopt\\optimizer\\optimizer.py:449: UserWarning: The objective has been evaluated at this point before.\n",
      "  warnings.warn(\"The objective has been evaluated \"\n"
     ]
    },
    {
     "name": "stdout",
     "output_type": "stream",
     "text": [
      "Fitting 5 folds for each of 5 candidates, totalling 25 fits\n",
      "Fitting 5 folds for each of 5 candidates, totalling 25 fits\n"
     ]
    }
   ],
   "source": [
    "model.fit(X_resampled, y_resampled)\n",
    "clf = model.best_estimator_\n",
    "y_test_pred = pd.Series(clf.predict(X_test), index=X_test.index)"
   ]
  },
  {
   "cell_type": "code",
   "execution_count": 35,
   "metadata": {},
   "outputs": [
    {
     "data": {
      "text/html": [
       "<div>\n",
       "<style scoped>\n",
       "    .dataframe tbody tr th:only-of-type {\n",
       "        vertical-align: middle;\n",
       "    }\n",
       "\n",
       "    .dataframe tbody tr th {\n",
       "        vertical-align: top;\n",
       "    }\n",
       "\n",
       "    .dataframe thead th {\n",
       "        text-align: right;\n",
       "    }\n",
       "</style>\n",
       "<table border=\"1\" class=\"dataframe\">\n",
       "  <thead>\n",
       "    <tr style=\"text-align: right;\">\n",
       "      <th></th>\n",
       "      <th>tree_tuning_oversampling</th>\n",
       "    </tr>\n",
       "  </thead>\n",
       "  <tbody>\n",
       "    <tr>\n",
       "      <th>accuracy</th>\n",
       "      <td>0.62</td>\n",
       "    </tr>\n",
       "    <tr>\n",
       "      <th>precision</th>\n",
       "      <td>0.73</td>\n",
       "    </tr>\n",
       "    <tr>\n",
       "      <th>recall</th>\n",
       "      <td>0.65</td>\n",
       "    </tr>\n",
       "    <tr>\n",
       "      <th>f1</th>\n",
       "      <td>0.69</td>\n",
       "    </tr>\n",
       "    <tr>\n",
       "      <th>roc_auc</th>\n",
       "      <td>0.65</td>\n",
       "    </tr>\n",
       "    <tr>\n",
       "      <th>fpr</th>\n",
       "      <td>[0.0, 0.2594268476621418, 0.2654600301659125, ...</td>\n",
       "    </tr>\n",
       "    <tr>\n",
       "      <th>tpr</th>\n",
       "      <td>[0.0, 0.5181347150259067, 0.5233160621761658, ...</td>\n",
       "    </tr>\n",
       "    <tr>\n",
       "      <th>thresholds</th>\n",
       "      <td>[2.0, 1.0, 0.8888888888888888, 0.875, 0.857142...</td>\n",
       "    </tr>\n",
       "  </tbody>\n",
       "</table>\n",
       "</div>"
      ],
      "text/plain": [
       "                                     tree_tuning_oversampling\n",
       "accuracy                                                 0.62\n",
       "precision                                                0.73\n",
       "recall                                                   0.65\n",
       "f1                                                       0.69\n",
       "roc_auc                                                  0.65\n",
       "fpr         [0.0, 0.2594268476621418, 0.2654600301659125, ...\n",
       "tpr         [0.0, 0.5181347150259067, 0.5233160621761658, ...\n",
       "thresholds  [2.0, 1.0, 0.8888888888888888, 0.875, 0.857142..."
      ]
     },
     "execution_count": 35,
     "metadata": {},
     "output_type": "execute_result"
    }
   ],
   "source": [
    "# Calculo las metricas de evaluacion\n",
    "metrics_tree_tuning_oversampling = calculate_metrics('tree_tuning_oversampling', clf,X_test,y_test,y_test_pred)\n",
    "metrics_tree_tuning_oversampling"
   ]
  },
  {
   "cell_type": "code",
   "execution_count": 36,
   "metadata": {},
   "outputs": [
    {
     "data": {
      "text/markdown": [
       "# Metricas: "
      ],
      "text/plain": [
       "<IPython.core.display.Markdown object>"
      ]
     },
     "metadata": {},
     "output_type": "display_data"
    },
    {
     "data": {
      "text/markdown": [
       "### Metricas calculadas"
      ],
      "text/plain": [
       "<IPython.core.display.Markdown object>"
      ]
     },
     "metadata": {},
     "output_type": "display_data"
    },
    {
     "data": {
      "text/html": [
       "<div>\n",
       "<style scoped>\n",
       "    .dataframe tbody tr th:only-of-type {\n",
       "        vertical-align: middle;\n",
       "    }\n",
       "\n",
       "    .dataframe tbody tr th {\n",
       "        vertical-align: top;\n",
       "    }\n",
       "\n",
       "    .dataframe thead th {\n",
       "        text-align: right;\n",
       "    }\n",
       "</style>\n",
       "<table border=\"1\" class=\"dataframe\">\n",
       "  <thead>\n",
       "    <tr style=\"text-align: right;\">\n",
       "      <th></th>\n",
       "      <th>precision</th>\n",
       "      <th>f1</th>\n",
       "      <th>recall</th>\n",
       "      <th>roc_auc</th>\n",
       "      <th>accuracy</th>\n",
       "    </tr>\n",
       "  </thead>\n",
       "  <tbody>\n",
       "    <tr>\n",
       "      <th>tree_tuning_oversampling</th>\n",
       "      <td>0.73</td>\n",
       "      <td>0.69</td>\n",
       "      <td>0.65</td>\n",
       "      <td>0.65</td>\n",
       "      <td>0.62</td>\n",
       "    </tr>\n",
       "  </tbody>\n",
       "</table>\n",
       "</div>"
      ],
      "text/plain": [
       "                         precision    f1 recall roc_auc accuracy\n",
       "tree_tuning_oversampling      0.73  0.69   0.65    0.65     0.62"
      ]
     },
     "metadata": {},
     "output_type": "display_data"
    },
    {
     "data": {
      "text/markdown": [
       "### Grafico de confusion matrix: "
      ],
      "text/plain": [
       "<IPython.core.display.Markdown object>"
      ]
     },
     "metadata": {},
     "output_type": "display_data"
    },
    {
     "data": {
      "image/png": "[encoded data removed]",
      "text/plain": [
       "<Figure size 720x360 with 1 Axes>"
      ]
     },
     "metadata": {},
     "output_type": "display_data"
    },
    {
     "data": {
      "text/plain": [
       "<Figure size 720x720 with 0 Axes>"
      ]
     },
     "metadata": {},
     "output_type": "display_data"
    },
    {
     "data": {
      "image/png": "[encoded data removed]",
      "text/plain": [
       "<Figure size 720x360 with 2 Axes>"
      ]
     },
     "metadata": {},
     "output_type": "display_data"
    },
    {
     "data": {
      "text/markdown": [
       "### Grafico de roc: "
      ],
      "text/plain": [
       "<IPython.core.display.Markdown object>"
      ]
     },
     "metadata": {},
     "output_type": "display_data"
    },
    {
     "data": {
      "image/png": "[encoded data removed]",
      "text/plain": [
       "<Figure size 720x360 with 1 Axes>"
      ]
     },
     "metadata": {},
     "output_type": "display_data"
    }
   ],
   "source": [
    "display_and_plot_all_metrics('tree_tuning_oversampling', clf,X_test,y_test,y_test_pred)"
   ]
  },
  {
   "cell_type": "code",
   "execution_count": 32,
   "metadata": {},
   "outputs": [
    {
     "data": {
      "text/plain": [
       "{'ccp_alpha': 0.0,\n",
       " 'class_weight': None,\n",
       " 'criterion': 'entropy',\n",
       " 'max_depth': 20,\n",
       " 'max_features': None,\n",
       " 'max_leaf_nodes': None,\n",
       " 'min_impurity_decrease': 0.0,\n",
       " 'min_samples_leaf': 5,\n",
       " 'min_samples_split': 2,\n",
       " 'min_weight_fraction_leaf': 0.0,\n",
       " 'random_state': None,\n",
       " 'splitter': 'best'}"
      ]
     },
     "execution_count": 32,
     "metadata": {},
     "output_type": "execute_result"
    }
   ],
   "source": [
    "#Obtenemos los mejores parametros para el modelo\n",
    "clf.get_params()"
   ]
  },
  {
   "cell_type": "code",
   "execution_count": 38,
   "metadata": {},
   "outputs": [],
   "source": [
    "BASIC_METRICS = ['accuracy', 'precision', 'recall', 'f1', 'roc_auc']"
   ]
  },
  {
   "cell_type": "code",
   "execution_count": 45,
   "metadata": {},
   "outputs": [
    {
     "data": {
      "text/plain": [
       "<AxesSubplot:>"
      ]
     },
     "execution_count": 45,
     "metadata": {},
     "output_type": "execute_result"
    },
    {
     "data": {
      "image/png": "[encoded data removed]",
      "text/plain": [
       "<Figure size 720x576 with 1 Axes>"
      ]
     },
     "metadata": {},
     "output_type": "display_data"
    }
   ],
   "source": [
    "# Comparamos las metricas\n",
    "\n",
    "pd.concat([metrics_tree, metrics_tree_tuning, metrics_tree_tuning_oversampling], axis=1).loc[BASIC_METRICS,:].plot(kind='bar', figsize=(10,8))\n"
   ]
  },
  {
   "cell_type": "code",
   "execution_count": 47,
   "metadata": {},
   "outputs": [],
   "source": [
    "# Guardamos las metricas en un csv\n",
    "pd.concat([metrics_tree, metrics_tree_tuning, metrics_tree_tuning_oversampling], axis=1).T.to_csv(data_dir(\"processed\", \"metrics_tree.csv\"),index_label='algorithm')"
   ]
  }
 ],
 "metadata": {
  "kernelspec": {
   "display_name": "Python 3.9.12 ('vinos_coderhouse')",
   "language": "python",
   "name": "python3"
  },
  "language_info": {
   "codemirror_mode": {
    "name": "ipython",
    "version": 3
   },
   "file_extension": ".py",
   "mimetype": "text/x-python",
   "name": "python",
   "nbconvert_exporter": "python",
   "pygments_lexer": "ipython3",
   "version": "3.9.12"
  },
  "orig_nbformat": 4,
  "vscode": {
   "interpreter": {
    "hash": "8a9aaa9b1418154e921653208df6805fa10bbf52c1a504240ba40699d5f106f5"
   }
  }
 },
 "nbformat": 4,
 "nbformat_minor": 2
}
