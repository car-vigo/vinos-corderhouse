{
 "cells": [
  {
   "cell_type": "code",
   "execution_count": null,
   "metadata": {},
   "outputs": [],
   "source": []
  },
  {
   "cell_type": "markdown",
   "metadata": {},
   "source": [
    "### Style"
   ]
  },
  {
   "cell_type": "code",
   "execution_count": null,
   "metadata": {},
   "outputs": [
    {
     "data": {
      "text/plain": [
       "white    0.753886\n",
       "red      0.246114\n",
       "Name: style, dtype: float64"
      ]
     },
     "metadata": {},
     "output_type": "display_data"
    }
   ],
   "source": [
    "# Verificamos los valores unicos de una columna categorica que tenemos: style, y observamos la cantidad de valores de cada uno\n",
    "style_counts = df_wine_chemical['style'].value_counts(normalize = True)\n",
    "style_counts"
   ]
  },
  {
   "cell_type": "code",
   "execution_count": null,
   "metadata": {},
   "outputs": [
    {
     "data": {
      "image/png": "[encoded data removed]",
      "text/plain": [
       "<Figure size 432x288 with 1 Axes>"
      ]
     },
     "metadata": {},
     "output_type": "display_data"
    }
   ],
   "source": [
    "# Grafico de barras para representar la cantidad de vinos por estilo\n",
    "style_counts.plot(kind = 'bar', color =[COLOR__VINO_BLANCO, COLOR_VINO_TINTO])\n",
    "plt.title('Cantidad de vinos por estilo')\n",
    "plt.xlabel('Estilo')\n",
    "plt.ylabel('Cantidad de vinos')\n",
    "plt.show()\n"
   ]
  },
  {
   "cell_type": "code",
   "execution_count": null,
   "metadata": {},
   "outputs": [
    {
     "name": "stdout",
     "output_type": "stream",
     "text": [
      "Los vinos blancos representan el 75.39 % de los vinos\n",
      "Los vinos tintos representan el 24.61 % de los vinos\n"
     ]
    }
   ],
   "source": [
    "print(f\"Los vinos blancos representan el {round(style_counts.white * 100, 2)} % de los vinos\")\n",
    "print(f\"Los vinos tintos representan el {round(style_counts.red * 100, 2)} % de los vinos\")"
   ]
  },
  {
   "cell_type": "code",
   "execution_count": null,
   "metadata": {},
   "outputs": [],
   "source": []
  },
  {
   "cell_type": "code",
   "execution_count": null,
   "metadata": {},
   "outputs": [],
   "source": []
  },
  {
   "cell_type": "code",
   "execution_count": 3,
   "metadata": {},
   "outputs": [],
   "source": [
    "from src.utils.paths import data_dir\n",
    "import pandas as pd"
   ]
  },
  {
   "cell_type": "code",
   "execution_count": 7,
   "metadata": {},
   "outputs": [
    {
     "data": {
      "text/plain": [
       "(WindowsPath('c:/Users/cvigo/data-projects/proyecto-final-vinos/vinos-corderhouse/data/intermediate/structured_chemical.csv'),\n",
       " WindowsPath('c:/Users/cvigo/data-projects/proyecto-final-vinos/vinos-corderhouse/data/intermediate/structured_comercial.csv'))"
      ]
     },
     "execution_count": 7,
     "metadata": {},
     "output_type": "execute_result"
    }
   ],
   "source": [
    "# Obtenemos la ruta de los csv's que vamos a utilizar\n",
    "CHEMICAL_WINE_RAW_PATH = data_dir(\"intermediate\", \"structured_chemical.csv\")\n",
    "COMERCIAL_WINE_RAW_PATH = data_dir(\"intermediate\", \"structured_comercial.csv\")\n",
    "\n",
    "CHEMICAL_WINE_RAW_PATH , COMERCIAL_WINE_RAW_PATH"
   ]
  },
  {
   "cell_type": "code",
   "execution_count": 8,
   "metadata": {},
   "outputs": [],
   "source": [
    "# Leemos los csv's y los guardamos en un dataframe\n",
    "df_wine_chemical = pd.read_csv(CHEMICAL_WINE_RAW_PATH)\n",
    "df_wine_comercial = pd.read_csv(COMERCIAL_WINE_RAW_PATH)"
   ]
  },
  {
   "cell_type": "code",
   "execution_count": 10,
   "metadata": {},
   "outputs": [
    {
     "data": {
      "text/plain": [
       "((6497, 13), (6070, 10))"
      ]
     },
     "execution_count": 10,
     "metadata": {},
     "output_type": "execute_result"
    }
   ],
   "source": [
    "df_wine_chemical.shape, df_wine_comercial.shape"
   ]
  },
  {
   "cell_type": "markdown",
   "metadata": {},
   "source": [
    "### winery"
   ]
  },
  {
   "cell_type": "markdown",
   "metadata": {},
   "source": [
    "Winery es la columna con mas cardinalidad"
   ]
  },
  {
   "cell_type": "code",
   "execution_count": null,
   "metadata": {},
   "outputs": [
    {
     "data": {
      "text/html": [
       "<div>\n",
       "<style scoped>\n",
       "    .dataframe tbody tr th:only-of-type {\n",
       "        vertical-align: middle;\n",
       "    }\n",
       "\n",
       "    .dataframe tbody tr th {\n",
       "        vertical-align: top;\n",
       "    }\n",
       "\n",
       "    .dataframe thead th {\n",
       "        text-align: right;\n",
       "    }\n",
       "</style>\n",
       "<table border=\"1\" class=\"dataframe\">\n",
       "  <thead>\n",
       "    <tr style=\"text-align: right;\">\n",
       "      <th></th>\n",
       "      <th>porcentaje</th>\n",
       "      <th>porcentaje_acumulado</th>\n",
       "    </tr>\n",
       "  </thead>\n",
       "  <tbody>\n",
       "    <tr>\n",
       "      <th>Contino</th>\n",
       "      <td>6.8</td>\n",
       "      <td>6.8</td>\n",
       "    </tr>\n",
       "    <tr>\n",
       "      <th>Artadi</th>\n",
       "      <td>3.9</td>\n",
       "      <td>10.7</td>\n",
       "    </tr>\n",
       "    <tr>\n",
       "      <th>La Rioja Alta</th>\n",
       "      <td>3.8</td>\n",
       "      <td>14.5</td>\n",
       "    </tr>\n",
       "    <tr>\n",
       "      <th>Sierra Cantabria</th>\n",
       "      <td>3.5</td>\n",
       "      <td>18.0</td>\n",
       "    </tr>\n",
       "    <tr>\n",
       "      <th>Vina Pedrosa</th>\n",
       "      <td>3.4</td>\n",
       "      <td>21.4</td>\n",
       "    </tr>\n",
       "    <tr>\n",
       "      <th>...</th>\n",
       "      <td>...</td>\n",
       "      <td>...</td>\n",
       "    </tr>\n",
       "    <tr>\n",
       "      <th>Jesus Madrazo</th>\n",
       "      <td>0.0</td>\n",
       "      <td>94.1</td>\n",
       "    </tr>\n",
       "    <tr>\n",
       "      <th>Marco Abella</th>\n",
       "      <td>0.0</td>\n",
       "      <td>94.1</td>\n",
       "    </tr>\n",
       "    <tr>\n",
       "      <th>Sara Perez y Rene Barbier</th>\n",
       "      <td>0.0</td>\n",
       "      <td>94.1</td>\n",
       "    </tr>\n",
       "    <tr>\n",
       "      <th>Bodega Elias Mora</th>\n",
       "      <td>0.0</td>\n",
       "      <td>94.1</td>\n",
       "    </tr>\n",
       "    <tr>\n",
       "      <th>Bodegas Monte La Reina</th>\n",
       "      <td>0.0</td>\n",
       "      <td>94.1</td>\n",
       "    </tr>\n",
       "  </tbody>\n",
       "</table>\n",
       "<p>395 rows × 2 columns</p>\n",
       "</div>"
      ],
      "text/plain": [
       "                           porcentaje  porcentaje_acumulado\n",
       "Contino                           6.8                   6.8\n",
       "Artadi                            3.9                  10.7\n",
       "La Rioja Alta                     3.8                  14.5\n",
       "Sierra Cantabria                  3.5                  18.0\n",
       "Vina Pedrosa                      3.4                  21.4\n",
       "...                               ...                   ...\n",
       "Jesus Madrazo                     0.0                  94.1\n",
       "Marco Abella                      0.0                  94.1\n",
       "Sara Perez y Rene Barbier         0.0                  94.1\n",
       "Bodega Elias Mora                 0.0                  94.1\n",
       "Bodegas Monte La Reina            0.0                  94.1\n",
       "\n",
       "[395 rows x 2 columns]"
      ]
     },
     "metadata": {},
     "output_type": "display_data"
    }
   ],
   "source": [
    "df_winery_freq_values = calculate_frequency_values(df_wine_comercial, 'winery')\n",
    "df_winery_freq_values"
   ]
  },
  {
   "cell_type": "code",
   "execution_count": null,
   "metadata": {},
   "outputs": [
    {
     "data": {
      "text/html": [
       "<div>\n",
       "<style scoped>\n",
       "    .dataframe tbody tr th:only-of-type {\n",
       "        vertical-align: middle;\n",
       "    }\n",
       "\n",
       "    .dataframe tbody tr th {\n",
       "        vertical-align: top;\n",
       "    }\n",
       "\n",
       "    .dataframe thead th {\n",
       "        text-align: right;\n",
       "    }\n",
       "</style>\n",
       "<table border=\"1\" class=\"dataframe\">\n",
       "  <thead>\n",
       "    <tr style=\"text-align: right;\">\n",
       "      <th></th>\n",
       "      <th>porcentaje</th>\n",
       "      <th>porcentaje_acumulado</th>\n",
       "    </tr>\n",
       "  </thead>\n",
       "  <tbody>\n",
       "    <tr>\n",
       "      <th>Contino</th>\n",
       "      <td>6.8</td>\n",
       "      <td>6.8</td>\n",
       "    </tr>\n",
       "    <tr>\n",
       "      <th>Artadi</th>\n",
       "      <td>3.9</td>\n",
       "      <td>10.7</td>\n",
       "    </tr>\n",
       "    <tr>\n",
       "      <th>La Rioja Alta</th>\n",
       "      <td>3.8</td>\n",
       "      <td>14.5</td>\n",
       "    </tr>\n",
       "    <tr>\n",
       "      <th>Sierra Cantabria</th>\n",
       "      <td>3.5</td>\n",
       "      <td>18.0</td>\n",
       "    </tr>\n",
       "    <tr>\n",
       "      <th>Vina Pedrosa</th>\n",
       "      <td>3.4</td>\n",
       "      <td>21.4</td>\n",
       "    </tr>\n",
       "    <tr>\n",
       "      <th>Imperial</th>\n",
       "      <td>3.4</td>\n",
       "      <td>24.8</td>\n",
       "    </tr>\n",
       "    <tr>\n",
       "      <th>Losada</th>\n",
       "      <td>3.4</td>\n",
       "      <td>28.2</td>\n",
       "    </tr>\n",
       "    <tr>\n",
       "      <th>Matarromera</th>\n",
       "      <td>3.4</td>\n",
       "      <td>31.6</td>\n",
       "    </tr>\n",
       "    <tr>\n",
       "      <th>Sei Solo</th>\n",
       "      <td>3.4</td>\n",
       "      <td>35.0</td>\n",
       "    </tr>\n",
       "    <tr>\n",
       "      <th>Portal del Priorat</th>\n",
       "      <td>3.4</td>\n",
       "      <td>38.4</td>\n",
       "    </tr>\n",
       "    <tr>\n",
       "      <th>Conreria d'Scala Dei</th>\n",
       "      <td>3.3</td>\n",
       "      <td>41.7</td>\n",
       "    </tr>\n",
       "    <tr>\n",
       "      <th>Enrique Mendoza</th>\n",
       "      <td>3.3</td>\n",
       "      <td>45.0</td>\n",
       "    </tr>\n",
       "    <tr>\n",
       "      <th>Clos Pons</th>\n",
       "      <td>3.3</td>\n",
       "      <td>48.3</td>\n",
       "    </tr>\n",
       "    <tr>\n",
       "      <th>Mustiguillo</th>\n",
       "      <td>3.3</td>\n",
       "      <td>51.6</td>\n",
       "    </tr>\n",
       "    <tr>\n",
       "      <th>Mar de Frades</th>\n",
       "      <td>3.3</td>\n",
       "      <td>54.9</td>\n",
       "    </tr>\n",
       "    <tr>\n",
       "      <th>Bodegas La Horra</th>\n",
       "      <td>3.3</td>\n",
       "      <td>58.2</td>\n",
       "    </tr>\n",
       "    <tr>\n",
       "      <th>Campillo</th>\n",
       "      <td>3.3</td>\n",
       "      <td>61.5</td>\n",
       "    </tr>\n",
       "    <tr>\n",
       "      <th>La Vicalanda</th>\n",
       "      <td>3.3</td>\n",
       "      <td>64.8</td>\n",
       "    </tr>\n",
       "    <tr>\n",
       "      <th>Ramon Bilbao</th>\n",
       "      <td>3.3</td>\n",
       "      <td>68.1</td>\n",
       "    </tr>\n",
       "    <tr>\n",
       "      <th>Matsu</th>\n",
       "      <td>3.3</td>\n",
       "      <td>71.4</td>\n",
       "    </tr>\n",
       "    <tr>\n",
       "      <th>Vinedos de Paganos</th>\n",
       "      <td>2.6</td>\n",
       "      <td>74.0</td>\n",
       "    </tr>\n",
       "    <tr>\n",
       "      <th>Vega Sicilia</th>\n",
       "      <td>1.6</td>\n",
       "      <td>75.6</td>\n",
       "    </tr>\n",
       "    <tr>\n",
       "      <th>Remirez de Ganuza</th>\n",
       "      <td>1.2</td>\n",
       "      <td>76.8</td>\n",
       "    </tr>\n",
       "    <tr>\n",
       "      <th>Alvaro Palacios</th>\n",
       "      <td>0.8</td>\n",
       "      <td>77.6</td>\n",
       "    </tr>\n",
       "    <tr>\n",
       "      <th>Dominio de Pingus</th>\n",
       "      <td>0.5</td>\n",
       "      <td>78.1</td>\n",
       "    </tr>\n",
       "    <tr>\n",
       "      <th>Marques de Murrieta</th>\n",
       "      <td>0.5</td>\n",
       "      <td>78.6</td>\n",
       "    </tr>\n",
       "    <tr>\n",
       "      <th>Martinet</th>\n",
       "      <td>0.5</td>\n",
       "      <td>79.1</td>\n",
       "    </tr>\n",
       "    <tr>\n",
       "      <th>Bodegas Roda</th>\n",
       "      <td>0.4</td>\n",
       "      <td>79.5</td>\n",
       "    </tr>\n",
       "    <tr>\n",
       "      <th>Toro Albala</th>\n",
       "      <td>0.4</td>\n",
       "      <td>79.9</td>\n",
       "    </tr>\n",
       "  </tbody>\n",
       "</table>\n",
       "</div>"
      ],
      "text/plain": [
       "                      porcentaje  porcentaje_acumulado\n",
       "Contino                      6.8                   6.8\n",
       "Artadi                       3.9                  10.7\n",
       "La Rioja Alta                3.8                  14.5\n",
       "Sierra Cantabria             3.5                  18.0\n",
       "Vina Pedrosa                 3.4                  21.4\n",
       "Imperial                     3.4                  24.8\n",
       "Losada                       3.4                  28.2\n",
       "Matarromera                  3.4                  31.6\n",
       "Sei Solo                     3.4                  35.0\n",
       "Portal del Priorat           3.4                  38.4\n",
       "Conreria d'Scala Dei         3.3                  41.7\n",
       "Enrique Mendoza              3.3                  45.0\n",
       "Clos Pons                    3.3                  48.3\n",
       "Mustiguillo                  3.3                  51.6\n",
       "Mar de Frades                3.3                  54.9\n",
       "Bodegas La Horra             3.3                  58.2\n",
       "Campillo                     3.3                  61.5\n",
       "La Vicalanda                 3.3                  64.8\n",
       "Ramon Bilbao                 3.3                  68.1\n",
       "Matsu                        3.3                  71.4\n",
       "Vinedos de Paganos           2.6                  74.0\n",
       "Vega Sicilia                 1.6                  75.6\n",
       "Remirez de Ganuza            1.2                  76.8\n",
       "Alvaro Palacios              0.8                  77.6\n",
       "Dominio de Pingus            0.5                  78.1\n",
       "Marques de Murrieta          0.5                  78.6\n",
       "Martinet                     0.5                  79.1\n",
       "Bodegas Roda                 0.4                  79.5\n",
       "Toro Albala                  0.4                  79.9"
      ]
     },
     "metadata": {},
     "output_type": "display_data"
    }
   ],
   "source": [
    "# Vemos si podemos agrupar los valores de la columna winery para reducir los valores unicos\n",
    "df_winery_freq_values[df_winery_freq_values['porcentaje_acumulado'] < 80]"
   ]
  },
  {
   "cell_type": "markdown",
   "metadata": {},
   "source": [
    "Vemos que el 80% de los datos sigue altamente distribuidos, por lo que una estrategia de reduccion de valores no sería conveniente. Procedemos a eliminar la columna winery."
   ]
  },
  {
   "cell_type": "code",
   "execution_count": null,
   "metadata": {},
   "outputs": [
    {
     "data": {
      "image/png": "[encoded data removed]",
      "text/plain": [
       "<Figure size 432x288 with 1 Axes>"
      ]
     },
     "metadata": {},
     "output_type": "display_data"
    }
   ],
   "source": [
    "df_wine_comercial.winery.value_counts().sort_values(ascending=False).head(10).plot(kind='bar',color=COLOR_VINO_TINTO)\n",
    "plt.title('Top 10 wineries')\n",
    "plt.xlabel('Winery')\n",
    "plt.ylabel('Count')\n",
    "plt.show()"
   ]
  },
  {
   "cell_type": "code",
   "execution_count": null,
   "metadata": {},
   "outputs": [],
   "source": [
    "# eliminamos la columa winery\n",
    "df_wine_comercial.drop(['winery'], axis=1, inplace=True)"
   ]
  }
 ],
 "metadata": {
  "kernelspec": {
   "display_name": "Python 3.9.12 ('vinos_coderhouse')",
   "language": "python",
   "name": "python3"
  },
  "language_info": {
   "codemirror_mode": {
    "name": "ipython",
    "version": 3
   },
   "file_extension": ".py",
   "mimetype": "text/x-python",
   "name": "python",
   "nbconvert_exporter": "python",
   "pygments_lexer": "ipython3",
   "version": "3.9.12"
  },
  "orig_nbformat": 4,
  "vscode": {
   "interpreter": {
    "hash": "8a9aaa9b1418154e921653208df6805fa10bbf52c1a504240ba40699d5f106f5"
   }
  }
 },
 "nbformat": 4,
 "nbformat_minor": 2
}
