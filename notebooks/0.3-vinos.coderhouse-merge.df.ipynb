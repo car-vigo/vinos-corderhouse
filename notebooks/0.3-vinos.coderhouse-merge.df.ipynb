{
 "cells": [
  {
   "cell_type": "markdown",
   "metadata": {},
   "source": [
    "# 0.3 Merge dataset \n",
    "### feature engineering"
   ]
  },
  {
   "cell_type": "markdown",
   "metadata": {},
   "source": [
    "Procederemos a mergear los dos datasets trabajados en el data wrangling. \n",
    "- df_wine_clean.csv\n",
    "- df_wine_spa_clean.csv\n",
    "  "
   ]
  },
  {
   "cell_type": "markdown",
   "metadata": {},
   "source": [
    "## Import libraries"
   ]
  },
  {
   "cell_type": "code",
   "execution_count": 203,
   "metadata": {},
   "outputs": [
    {
     "name": "stdout",
     "output_type": "stream",
     "text": [
      "The autoreload extension is already loaded. To reload it, use:\n",
      "  %reload_ext autoreload\n"
     ]
    }
   ],
   "source": [
    "# Sirve para actualizar el modulo despues de haber cambiado algo en el codigo de los modulos importados\n",
    "%load_ext autoreload\n",
    "%autoreload 2"
   ]
  },
  {
   "cell_type": "code",
   "execution_count": 204,
   "metadata": {},
   "outputs": [],
   "source": [
    "# Imports\n",
    "import pandas as pd\n",
    "import numpy as np\n",
    "import matplotlib.pyplot as plt\n",
    "import seaborn as sns\n",
    "import missingno as msno\n",
    "%matplotlib inline\n",
    "# Modulo para trabajar con los directorios del proyecto\n",
    "from src.utils.paths import data_dir"
   ]
  },
  {
   "cell_type": "code",
   "execution_count": 205,
   "metadata": {},
   "outputs": [],
   "source": [
    "from src.visualization.word_cloud import words_cloud\n",
    "from src.visualization.analysis_univariate import univariate_analysis\n",
    "import src.utils.statistics as stats"
   ]
  },
  {
   "cell_type": "markdown",
   "metadata": {},
   "source": [
    "## Read Data"
   ]
  },
  {
   "cell_type": "code",
   "execution_count": 206,
   "metadata": {},
   "outputs": [
    {
     "data": {
      "text/plain": [
       "(WindowsPath('c:/Users/cvigo/data-projects/proyecto-final-vinos/vinos-corderhouse/data/intermediate/df_wine_clean.csv'),\n",
       " WindowsPath('c:/Users/cvigo/data-projects/proyecto-final-vinos/vinos-corderhouse/data/intermediate/df_wine_spa_clean.csv'))"
      ]
     },
     "execution_count": 206,
     "metadata": {},
     "output_type": "execute_result"
    }
   ],
   "source": [
    "# Obtenemos la ruta de los csv's que vamos a utilizar\n",
    "WINE_CLEAN_CSV_PATH = data_dir(\"intermediate\", \"df_wine_clean.csv\")\n",
    "WINES_SPA_CLEAN_CSV_PATH = data_dir(\"intermediate\", \"df_wine_spa_clean.csv\")\n",
    "\n",
    "WINE_CLEAN_CSV_PATH , WINES_SPA_CLEAN_CSV_PATH"
   ]
  },
  {
   "cell_type": "markdown",
   "metadata": {},
   "source": [
    "### SETUP"
   ]
  },
  {
   "cell_type": "code",
   "execution_count": 207,
   "metadata": {},
   "outputs": [],
   "source": [
    "# Leemos los csv's y los guardamos en un dataframe\n",
    "df_wine= pd.read_csv(WINE_CLEAN_CSV_PATH)\n",
    "df_wine_spa = pd.read_csv(WINES_SPA_CLEAN_CSV_PATH)"
   ]
  },
  {
   "cell_type": "code",
   "execution_count": 208,
   "metadata": {},
   "outputs": [
    {
     "name": "stdout",
     "output_type": "stream",
     "text": [
      "El shape de df_wine es: (5013, 13)\n",
      "El shape de df_wine_spa es: (5558, 8)\n"
     ]
    }
   ],
   "source": [
    "print(f\"El shape de df_wine es: {df_wine.shape}\")\n",
    "print(f\"El shape de df_wine_spa es: {df_wine_spa.shape}\")"
   ]
  },
  {
   "cell_type": "markdown",
   "metadata": {},
   "source": [
    "Como se comento en notebooks anteriores, ambos datasets se obtuvieron de distintas fuentes, por lo que no habra columna comun en ambos para utilizarla para mergear, por lo que trabajaremos con los indices de ambos dataframes."
   ]
  },
  {
   "cell_type": "markdown",
   "metadata": {},
   "source": [
    "Para eso necesitamos equiparar la cantidad de filas de ambos datasets.\n",
    "Como df_wine_spa es el que mas filas tiene, le elminaremos la diferencia de filas."
   ]
  },
  {
   "cell_type": "code",
   "execution_count": 209,
   "metadata": {},
   "outputs": [
    {
     "name": "stdout",
     "output_type": "stream",
     "text": [
      "La diferencia de filas entre df_wine y df_wine_spa es: 545\n"
     ]
    }
   ],
   "source": [
    "difference = df_wine_spa.shape[0] - df_wine.shape[0] \n",
    "print(f\"La diferencia de filas entre df_wine y df_wine_spa es: {difference}\")"
   ]
  },
  {
   "cell_type": "markdown",
   "metadata": {},
   "source": [
    "## Equiparar los dataframes"
   ]
  },
  {
   "cell_type": "markdown",
   "metadata": {},
   "source": [
    "Cuales 545 registros sacamos, puede ser muy interesante. En este caso elegirimos sacar las filas cuyos valores en las columnas categoricas sean los menos frecuentes"
   ]
  },
  {
   "cell_type": "code",
   "execution_count": 210,
   "metadata": {},
   "outputs": [],
   "source": [
    "# Declaramos una lista vacia para almacenar los indices de los outliers a eliminar\n",
    "index_rows_to_drop = []"
   ]
  },
  {
   "cell_type": "markdown",
   "metadata": {},
   "source": [
    "### Winery"
   ]
  },
  {
   "cell_type": "code",
   "execution_count": 211,
   "metadata": {},
   "outputs": [
    {
     "data": {
      "text/plain": [
       "Cal Batllet - Celler Ripoll Sans      1\n",
       "Castell del Remei                     1\n",
       "Valdubon                              1\n",
       "Loess                                 1\n",
       "Olivardots                            1\n",
       "                                   ... \n",
       "Losada                              206\n",
       "Artadi                              211\n",
       "Sierra Cantabria                    212\n",
       "La Rioja Alta                       213\n",
       "Contino                             410\n",
       "Name: winery, Length: 368, dtype: int64"
      ]
     },
     "execution_count": 211,
     "metadata": {},
     "output_type": "execute_result"
    }
   ],
   "source": [
    "# Verificamos los valores unicos de una columna categorica que tenemos: winery de df_wine_spa\n",
    "winery_counts = df_wine_spa['winery'].value_counts().sort_values(ascending=True)\n",
    "winery_counts"
   ]
  },
  {
   "cell_type": "code",
   "execution_count": 212,
   "metadata": {},
   "outputs": [
    {
     "data": {
      "text/plain": [
       "(508, 8)"
      ]
     },
     "execution_count": 212,
     "metadata": {},
     "output_type": "execute_result"
    }
   ],
   "source": [
    "#Obtenemos la lista de los 30 winery que solo tengan 3 o menos registros\n",
    "winery_less_common = winery_counts[winery_counts <= 4]\n",
    "df_wine_spa_less_common_winery = df_wine_spa[df_wine_spa['winery'].isin(winery_less_common.index)]\n",
    "df_wine_spa_less_common_winery.shape"
   ]
  },
  {
   "cell_type": "code",
   "execution_count": 213,
   "metadata": {},
   "outputs": [
    {
     "name": "stdout",
     "output_type": "stream",
     "text": [
      "La cantidad de columnas a eliminar hasta el momento es de 508\n",
      "La cantidad de filas que faltan eliminar es de 37\n"
     ]
    }
   ],
   "source": [
    "# Considerando estos registros los agregamos a la lista de filas que vamos a eliminar\n",
    "index_rows_to_drop.extend(df_wine_spa_less_common_winery.index)\n",
    "print(f\"La cantidad de columnas a eliminar hasta el momento es de {len(set(index_rows_to_drop))}\")\n",
    "print(f\"La cantidad de filas que faltan eliminar es de {difference - len(set(index_rows_to_drop))}\")"
   ]
  },
  {
   "cell_type": "markdown",
   "metadata": {},
   "source": [
    "### Wines"
   ]
  },
  {
   "cell_type": "code",
   "execution_count": 214,
   "metadata": {},
   "outputs": [
    {
     "data": {
      "text/plain": [
       "Juan Piernas Finca El Paso Malo Monastrell      1\n",
       "Nivel                                           1\n",
       "Cerro Las Cuevas Seleccion Terroir              1\n",
       "Graciano                                        1\n",
       "Diego Magana                                    1\n",
       "                                             ... \n",
       "El Viejo                                      202\n",
       "Corimbo I                                     202\n",
       "Rioja Reserva                                 214\n",
       "Gran Reserva                                  407\n",
       "Reserva                                       419\n",
       "Name: wine, Length: 579, dtype: int64"
      ]
     },
     "execution_count": 214,
     "metadata": {},
     "output_type": "execute_result"
    }
   ],
   "source": [
    "# Verificamos los valores unicos de una columna categorica que tenemos: wine de df_wine_spa\n",
    "wine_counts = df_wine_spa['wine'].value_counts().sort_values(ascending=True)\n",
    "wine_counts"
   ]
  },
  {
   "cell_type": "code",
   "execution_count": 215,
   "metadata": {},
   "outputs": [
    {
     "data": {
      "text/plain": [
       "(557, 8)"
      ]
     },
     "execution_count": 215,
     "metadata": {},
     "output_type": "execute_result"
    }
   ],
   "source": [
    "#Obtenemos la lista de los winery que solo tengan menos de 2 registros\n",
    "wine_less_common = wine_counts[wine_counts <= 2]\n",
    "df_wine_spa_less_common_wine = df_wine_spa[df_wine_spa['wine'].isin(wine_less_common.index)]\n",
    "df_wine_spa_less_common_wine.shape"
   ]
  },
  {
   "cell_type": "markdown",
   "metadata": {},
   "source": [
    "Como nos pasamos de la diferncia para equiparar los dataframes, restamos lo que nos falta\n"
   ]
  },
  {
   "cell_type": "code",
   "execution_count": 216,
   "metadata": {},
   "outputs": [
    {
     "name": "stdout",
     "output_type": "stream",
     "text": [
      "La cantidad de indices que encontramos y que no estan en index_rows_to_drop es 164\n"
     ]
    }
   ],
   "source": [
    "# identificamos la cantidad de indices que no estan en index_rows_to_drop\n",
    "temp_index = df_wine_spa_less_common_wine.index.difference(index_rows_to_drop)\n",
    "print(f\"La cantidad de indices que encontramos y que no estan en index_rows_to_drop es {len(temp_index)}\")"
   ]
  },
  {
   "cell_type": "code",
   "execution_count": 217,
   "metadata": {},
   "outputs": [
    {
     "data": {
      "text/plain": [
       "37"
      ]
     },
     "execution_count": 217,
     "metadata": {},
     "output_type": "execute_result"
    }
   ],
   "source": [
    "# Determinamos cuanto es lo que nos falta para completar la diferencia de filas\n",
    "how_much_left = difference - len(set(index_rows_to_drop))\n",
    "how_much_left"
   ]
  },
  {
   "cell_type": "code",
   "execution_count": 218,
   "metadata": {},
   "outputs": [
    {
     "data": {
      "text/plain": [
       "(37, 8)"
      ]
     },
     "execution_count": 218,
     "metadata": {},
     "output_type": "execute_result"
    }
   ],
   "source": [
    "# Modificamos df_wine_spa_less_common_wine a la cantidad maxima de filas que faltan \n",
    "max_quantity_index_drop = how_much_left if temp_index.size > how_much_left else temp_index\n",
    "df_wine_spa_less_common_wine = df_wine_spa_less_common_wine.loc[temp_index].head(max_quantity_index_drop)\n",
    "df_wine_spa_less_common_wine.shape"
   ]
  },
  {
   "cell_type": "code",
   "execution_count": 219,
   "metadata": {},
   "outputs": [
    {
     "name": "stdout",
     "output_type": "stream",
     "text": [
      "La cantidad de columnas a eliminar hasta el momento es de 545\n",
      "La cantidad de filas que faltan eliminar es de 0\n"
     ]
    }
   ],
   "source": [
    "# Considerando estos registros los agregamos a la lista de filas que vamos a eliminar\n",
    "index_rows_to_drop.extend(df_wine_spa_less_common_wine.index)\n",
    "print(f\"La cantidad de columnas a eliminar hasta el momento es de {len(set(index_rows_to_drop))}\")\n",
    "print(f\"La cantidad de filas que faltan eliminar es de {difference - len(set(index_rows_to_drop))}\")\n"
   ]
  },
  {
   "cell_type": "code",
   "execution_count": 220,
   "metadata": {},
   "outputs": [
    {
     "name": "stdout",
     "output_type": "stream",
     "text": [
      "La cantidad de columnas a eliminar es de 545\n",
      "Dataframe limpio\n",
      "(5013, 8)\n"
     ]
    }
   ],
   "source": [
    "#Eliminamos las filas que contienen outliers y reseteamos el index\n",
    "print(f\"La cantidad de columnas a eliminar es de {len(set(index_rows_to_drop))}\")\n",
    "df_wine_spa.drop(index=index_rows_to_drop, inplace=True, axis=0)\n",
    "df_wine_spa.reset_index(drop=True, inplace=True)\n",
    "print(\"Dataframe limpio\")\n",
    "print(f\"{df_wine_spa.shape}\")\n"
   ]
  },
  {
   "cell_type": "code",
   "execution_count": 221,
   "metadata": {},
   "outputs": [],
   "source": [
    "# Por ultimo guardamos el dataframe limpio en un archivo csv\n",
    "WINE_SPA_EQUAL_CSV_PATH = data_dir(\"intermediate\", \"df_wine_spa_equal.csv\")\n",
    "df_wine_spa.to_csv(WINE_SPA_EQUAL_CSV_PATH, index=False)"
   ]
  },
  {
   "cell_type": "markdown",
   "metadata": {},
   "source": [
    "# Merge"
   ]
  },
  {
   "cell_type": "code",
   "execution_count": 222,
   "metadata": {},
   "outputs": [
    {
     "name": "stdout",
     "output_type": "stream",
     "text": [
      "El shape de df_merged es: (5013, 21)\n"
     ]
    },
    {
     "data": {
      "text/html": [
       "<div>\n",
       "<style scoped>\n",
       "    .dataframe tbody tr th:only-of-type {\n",
       "        vertical-align: middle;\n",
       "    }\n",
       "\n",
       "    .dataframe tbody tr th {\n",
       "        vertical-align: top;\n",
       "    }\n",
       "\n",
       "    .dataframe thead th {\n",
       "        text-align: right;\n",
       "    }\n",
       "</style>\n",
       "<table border=\"1\" class=\"dataframe\">\n",
       "  <thead>\n",
       "    <tr style=\"text-align: right;\">\n",
       "      <th></th>\n",
       "      <th>winery</th>\n",
       "      <th>wine</th>\n",
       "      <th>year</th>\n",
       "      <th>rating</th>\n",
       "      <th>region</th>\n",
       "      <th>price</th>\n",
       "      <th>type</th>\n",
       "      <th>body</th>\n",
       "      <th>fixed_acidity</th>\n",
       "      <th>volatile_acidity</th>\n",
       "      <th>...</th>\n",
       "      <th>residual_sugar</th>\n",
       "      <th>chlorides</th>\n",
       "      <th>free_sulfur_dioxide</th>\n",
       "      <th>total_sulfur_dioxide</th>\n",
       "      <th>density</th>\n",
       "      <th>pH</th>\n",
       "      <th>sulphates</th>\n",
       "      <th>alcohol</th>\n",
       "      <th>quality</th>\n",
       "      <th>style</th>\n",
       "    </tr>\n",
       "  </thead>\n",
       "  <tbody>\n",
       "    <tr>\n",
       "      <th>2360</th>\n",
       "      <td>Vina Pedrosa</td>\n",
       "      <td>Gran Reserva</td>\n",
       "      <td>2011</td>\n",
       "      <td>4.2</td>\n",
       "      <td>Ribera del Duero</td>\n",
       "      <td>51.35</td>\n",
       "      <td>Ribera Del Duero Red</td>\n",
       "      <td>5.0</td>\n",
       "      <td>7.4</td>\n",
       "      <td>0.32</td>\n",
       "      <td>...</td>\n",
       "      <td>16.6</td>\n",
       "      <td>0.056</td>\n",
       "      <td>53.0</td>\n",
       "      <td>238.0</td>\n",
       "      <td>1.00170</td>\n",
       "      <td>2.96</td>\n",
       "      <td>0.58</td>\n",
       "      <td>8.70</td>\n",
       "      <td>6</td>\n",
       "      <td>white</td>\n",
       "    </tr>\n",
       "    <tr>\n",
       "      <th>1593</th>\n",
       "      <td>Ramon Bilbao</td>\n",
       "      <td>Mirto</td>\n",
       "      <td>2011</td>\n",
       "      <td>4.2</td>\n",
       "      <td>Rioja</td>\n",
       "      <td>28.53</td>\n",
       "      <td>Rioja Red</td>\n",
       "      <td>4.0</td>\n",
       "      <td>6.1</td>\n",
       "      <td>0.37</td>\n",
       "      <td>...</td>\n",
       "      <td>4.7</td>\n",
       "      <td>0.035</td>\n",
       "      <td>36.0</td>\n",
       "      <td>116.0</td>\n",
       "      <td>0.99100</td>\n",
       "      <td>3.31</td>\n",
       "      <td>0.62</td>\n",
       "      <td>12.60</td>\n",
       "      <td>6</td>\n",
       "      <td>white</td>\n",
       "    </tr>\n",
       "    <tr>\n",
       "      <th>4980</th>\n",
       "      <td>Campillo</td>\n",
       "      <td>Gran Reserva Rioja</td>\n",
       "      <td>2012</td>\n",
       "      <td>4.2</td>\n",
       "      <td>Rioja</td>\n",
       "      <td>22.99</td>\n",
       "      <td>Rioja Red</td>\n",
       "      <td>4.0</td>\n",
       "      <td>5.9</td>\n",
       "      <td>0.22</td>\n",
       "      <td>...</td>\n",
       "      <td>1.3</td>\n",
       "      <td>0.052</td>\n",
       "      <td>42.0</td>\n",
       "      <td>86.0</td>\n",
       "      <td>0.99069</td>\n",
       "      <td>3.31</td>\n",
       "      <td>0.47</td>\n",
       "      <td>11.55</td>\n",
       "      <td>6</td>\n",
       "      <td>white</td>\n",
       "    </tr>\n",
       "    <tr>\n",
       "      <th>1795</th>\n",
       "      <td>Contino</td>\n",
       "      <td>Reserva</td>\n",
       "      <td>2016</td>\n",
       "      <td>4.2</td>\n",
       "      <td>Rioja</td>\n",
       "      <td>19.98</td>\n",
       "      <td>Rioja Red</td>\n",
       "      <td>4.0</td>\n",
       "      <td>8.4</td>\n",
       "      <td>0.35</td>\n",
       "      <td>...</td>\n",
       "      <td>13.8</td>\n",
       "      <td>0.048</td>\n",
       "      <td>55.0</td>\n",
       "      <td>190.0</td>\n",
       "      <td>0.99930</td>\n",
       "      <td>3.07</td>\n",
       "      <td>0.58</td>\n",
       "      <td>9.40</td>\n",
       "      <td>6</td>\n",
       "      <td>white</td>\n",
       "    </tr>\n",
       "    <tr>\n",
       "      <th>2986</th>\n",
       "      <td>Matarromera</td>\n",
       "      <td>Gran Reserva</td>\n",
       "      <td>2011</td>\n",
       "      <td>4.2</td>\n",
       "      <td>Ribera del Duero</td>\n",
       "      <td>64.50</td>\n",
       "      <td>Ribera Del Duero Red</td>\n",
       "      <td>5.0</td>\n",
       "      <td>7.2</td>\n",
       "      <td>0.30</td>\n",
       "      <td>...</td>\n",
       "      <td>1.5</td>\n",
       "      <td>0.041</td>\n",
       "      <td>46.0</td>\n",
       "      <td>178.0</td>\n",
       "      <td>0.99154</td>\n",
       "      <td>3.19</td>\n",
       "      <td>0.56</td>\n",
       "      <td>11.30</td>\n",
       "      <td>6</td>\n",
       "      <td>white</td>\n",
       "    </tr>\n",
       "  </tbody>\n",
       "</table>\n",
       "<p>5 rows × 21 columns</p>\n",
       "</div>"
      ],
      "text/plain": [
       "            winery                wine  year  rating            region  price  \\\n",
       "2360  Vina Pedrosa        Gran Reserva  2011     4.2  Ribera del Duero  51.35   \n",
       "1593  Ramon Bilbao               Mirto  2011     4.2             Rioja  28.53   \n",
       "4980      Campillo  Gran Reserva Rioja  2012     4.2             Rioja  22.99   \n",
       "1795       Contino             Reserva  2016     4.2             Rioja  19.98   \n",
       "2986   Matarromera        Gran Reserva  2011     4.2  Ribera del Duero  64.50   \n",
       "\n",
       "                      type  body  fixed_acidity  volatile_acidity  ...  \\\n",
       "2360  Ribera Del Duero Red   5.0            7.4              0.32  ...   \n",
       "1593             Rioja Red   4.0            6.1              0.37  ...   \n",
       "4980             Rioja Red   4.0            5.9              0.22  ...   \n",
       "1795             Rioja Red   4.0            8.4              0.35  ...   \n",
       "2986  Ribera Del Duero Red   5.0            7.2              0.30  ...   \n",
       "\n",
       "      residual_sugar  chlorides  free_sulfur_dioxide  total_sulfur_dioxide  \\\n",
       "2360            16.6      0.056                 53.0                 238.0   \n",
       "1593             4.7      0.035                 36.0                 116.0   \n",
       "4980             1.3      0.052                 42.0                  86.0   \n",
       "1795            13.8      0.048                 55.0                 190.0   \n",
       "2986             1.5      0.041                 46.0                 178.0   \n",
       "\n",
       "      density    pH  sulphates  alcohol  quality  style  \n",
       "2360  1.00170  2.96       0.58     8.70        6  white  \n",
       "1593  0.99100  3.31       0.62    12.60        6  white  \n",
       "4980  0.99069  3.31       0.47    11.55        6  white  \n",
       "1795  0.99930  3.07       0.58     9.40        6  white  \n",
       "2986  0.99154  3.19       0.56    11.30        6  white  \n",
       "\n",
       "[5 rows x 21 columns]"
      ]
     },
     "execution_count": 222,
     "metadata": {},
     "output_type": "execute_result"
    }
   ],
   "source": [
    "df_merged = pd.merge(df_wine_spa, df_wine, left_index=True, right_index=True)\n",
    "print(f\"El shape de df_merged es: {df_merged.shape}\")\n",
    "df_merged.sample(5)"
   ]
  },
  {
   "cell_type": "markdown",
   "metadata": {},
   "source": [
    "Podemos corroborar que el merge se hizo correctamente porque coinciden la suma de la cantidad de columnas y cantidad de registros de ambos dataframes."
   ]
  },
  {
   "cell_type": "code",
   "execution_count": 223,
   "metadata": {},
   "outputs": [],
   "source": [
    "# Por ultimo guardamos el dataframe mergeado en un archivo csv\n",
    "WINE_MERGE_CSV_PATH = data_dir(\"intermediate\", \"df_wine_merged.csv\")\n",
    "df_merged.to_csv(WINE_MERGE_CSV_PATH, index=False)\n"
   ]
  }
 ],
 "metadata": {
  "kernelspec": {
   "display_name": "Python 3.9.12 ('vinos_coderhouse')",
   "language": "python",
   "name": "python3"
  },
  "language_info": {
   "codemirror_mode": {
    "name": "ipython",
    "version": 3
   },
   "file_extension": ".py",
   "mimetype": "text/x-python",
   "name": "python",
   "nbconvert_exporter": "python",
   "pygments_lexer": "ipython3",
   "version": "3.9.12"
  },
  "orig_nbformat": 4,
  "vscode": {
   "interpreter": {
    "hash": "8a9aaa9b1418154e921653208df6805fa10bbf52c1a504240ba40699d5f106f5"
   }
  }
 },
 "nbformat": 4,
 "nbformat_minor": 2
}
