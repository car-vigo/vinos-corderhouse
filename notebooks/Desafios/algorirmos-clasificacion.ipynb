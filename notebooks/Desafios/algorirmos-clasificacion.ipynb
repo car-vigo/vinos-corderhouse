{
  "cells": [
    {
      "cell_type": "markdown",
      "metadata": {},
      "source": [
        "## Alumno: \n",
        "## Curso y comision: Data Science 1950\n",
        "## Tutor: Gustavo Bitocchi "
      ]
    },
    {
      "cell_type": "markdown",
      "metadata": {},
      "source": [
        "## Import libraries"
      ]
    },
    {
      "cell_type": "code",
      "execution_count": 27,
      "metadata": {
        "id": "LtEQhoCM9RUt"
      },
      "outputs": [],
      "source": [
        "import pandas as pd\n",
        "import matplotlib.pyplot as plt\n",
        "%matplotlib inline\n",
        "from sklearn.neighbors import KNeighborsClassifier\n",
        "from sklearn.model_selection import train_test_split\n",
        "from sklearn.ensemble import RandomForestClassifier\n",
        "from sklearn.tree import DecisionTreeClassifier\n",
        "from sklearn.metrics import accuracy_score"
      ]
    },
    {
      "cell_type": "code",
      "execution_count": 28,
      "metadata": {},
      "outputs": [],
      "source": [
        "# Modulos propios del proyecto que se encuentran en el directorio src\n",
        "from src.utils.paths import data_dir\n"
      ]
    },
    {
      "cell_type": "markdown",
      "metadata": {},
      "source": [
        "## Read Data"
      ]
    },
    {
      "cell_type": "code",
      "execution_count": 29,
      "metadata": {},
      "outputs": [
        {
          "data": {
            "text/plain": [
              "WindowsPath('c:/Users/cvigo/data-projects/proyecto-final-vinos/vinos-corderhouse/data/intermediate/df_wine_merged.csv')"
            ]
          },
          "execution_count": 29,
          "metadata": {},
          "output_type": "execute_result"
        }
      ],
      "source": [
        "# Obtenemos la ruta de los csv's que vamos a utilizar\n",
        "WINES_CSV_PATH = data_dir(\"intermediate\", \"df_wine_merged.csv\")\n",
        "\n",
        "WINES_CSV_PATH"
      ]
    },
    {
      "cell_type": "code",
      "execution_count": 30,
      "metadata": {
        "colab": {
          "base_uri": "https://localhost:8080/",
          "height": 473
        },
        "id": "IDHpA-uU-0Ho",
        "outputId": "9e82f198-1f16-4280-f253-a6fd68720947"
      },
      "outputs": [
        {
          "data": {
            "text/html": [
              "<div>\n",
              "<style scoped>\n",
              "    .dataframe tbody tr th:only-of-type {\n",
              "        vertical-align: middle;\n",
              "    }\n",
              "\n",
              "    .dataframe tbody tr th {\n",
              "        vertical-align: top;\n",
              "    }\n",
              "\n",
              "    .dataframe thead th {\n",
              "        text-align: right;\n",
              "    }\n",
              "</style>\n",
              "<table border=\"1\" class=\"dataframe\">\n",
              "  <thead>\n",
              "    <tr style=\"text-align: right;\">\n",
              "      <th></th>\n",
              "      <th>winery</th>\n",
              "      <th>wine</th>\n",
              "      <th>year</th>\n",
              "      <th>rating</th>\n",
              "      <th>region</th>\n",
              "      <th>price</th>\n",
              "      <th>type</th>\n",
              "      <th>body</th>\n",
              "      <th>fixed_acidity</th>\n",
              "      <th>volatile_acidity</th>\n",
              "      <th>...</th>\n",
              "      <th>residual_sugar</th>\n",
              "      <th>chlorides</th>\n",
              "      <th>free_sulfur_dioxide</th>\n",
              "      <th>total_sulfur_dioxide</th>\n",
              "      <th>density</th>\n",
              "      <th>pH</th>\n",
              "      <th>sulphates</th>\n",
              "      <th>alcohol</th>\n",
              "      <th>quality</th>\n",
              "      <th>style</th>\n",
              "    </tr>\n",
              "  </thead>\n",
              "  <tbody>\n",
              "    <tr>\n",
              "      <th>0</th>\n",
              "      <td>Vinedos de Paganos</td>\n",
              "      <td>La Nieta</td>\n",
              "      <td>2015</td>\n",
              "      <td>4.7</td>\n",
              "      <td>Rioja</td>\n",
              "      <td>82.58</td>\n",
              "      <td>Rioja Red</td>\n",
              "      <td>4.0</td>\n",
              "      <td>7.9</td>\n",
              "      <td>0.60</td>\n",
              "      <td>...</td>\n",
              "      <td>1.6</td>\n",
              "      <td>0.069</td>\n",
              "      <td>15.0</td>\n",
              "      <td>59.0</td>\n",
              "      <td>0.9964</td>\n",
              "      <td>3.30</td>\n",
              "      <td>0.46</td>\n",
              "      <td>9.4</td>\n",
              "      <td>5</td>\n",
              "      <td>red</td>\n",
              "    </tr>\n",
              "    <tr>\n",
              "      <th>1</th>\n",
              "      <td>Emilio Moro</td>\n",
              "      <td>Malleolus de Valderramiro</td>\n",
              "      <td>2016</td>\n",
              "      <td>4.7</td>\n",
              "      <td>Ribera del Duero</td>\n",
              "      <td>84.95</td>\n",
              "      <td>Ribera Del Duero Red</td>\n",
              "      <td>5.0</td>\n",
              "      <td>7.5</td>\n",
              "      <td>0.50</td>\n",
              "      <td>...</td>\n",
              "      <td>6.1</td>\n",
              "      <td>0.071</td>\n",
              "      <td>17.0</td>\n",
              "      <td>102.0</td>\n",
              "      <td>0.9978</td>\n",
              "      <td>3.35</td>\n",
              "      <td>0.80</td>\n",
              "      <td>10.5</td>\n",
              "      <td>5</td>\n",
              "      <td>red</td>\n",
              "    </tr>\n",
              "    <tr>\n",
              "      <th>2</th>\n",
              "      <td>Emilio Moro</td>\n",
              "      <td>Malleolus de Sanchomartin</td>\n",
              "      <td>2016</td>\n",
              "      <td>4.7</td>\n",
              "      <td>Ribera del Duero</td>\n",
              "      <td>116.54</td>\n",
              "      <td>Ribera Del Duero Red</td>\n",
              "      <td>5.0</td>\n",
              "      <td>6.7</td>\n",
              "      <td>0.58</td>\n",
              "      <td>...</td>\n",
              "      <td>1.8</td>\n",
              "      <td>0.097</td>\n",
              "      <td>15.0</td>\n",
              "      <td>65.0</td>\n",
              "      <td>0.9959</td>\n",
              "      <td>3.28</td>\n",
              "      <td>0.54</td>\n",
              "      <td>9.2</td>\n",
              "      <td>5</td>\n",
              "      <td>red</td>\n",
              "    </tr>\n",
              "    <tr>\n",
              "      <th>3</th>\n",
              "      <td>Bodegas Mauro</td>\n",
              "      <td>Terreus Paraje de Cueva Baja</td>\n",
              "      <td>2017</td>\n",
              "      <td>4.7</td>\n",
              "      <td>Castilla y Leon</td>\n",
              "      <td>66.07</td>\n",
              "      <td>Tempranillo</td>\n",
              "      <td>4.0</td>\n",
              "      <td>7.5</td>\n",
              "      <td>0.50</td>\n",
              "      <td>...</td>\n",
              "      <td>6.1</td>\n",
              "      <td>0.071</td>\n",
              "      <td>17.0</td>\n",
              "      <td>102.0</td>\n",
              "      <td>0.9978</td>\n",
              "      <td>3.35</td>\n",
              "      <td>0.80</td>\n",
              "      <td>10.5</td>\n",
              "      <td>5</td>\n",
              "      <td>red</td>\n",
              "    </tr>\n",
              "    <tr>\n",
              "      <th>4</th>\n",
              "      <td>Vinedos de Paganos</td>\n",
              "      <td>La Nieta</td>\n",
              "      <td>2018</td>\n",
              "      <td>4.7</td>\n",
              "      <td>Rioja</td>\n",
              "      <td>89.90</td>\n",
              "      <td>Rioja Red</td>\n",
              "      <td>4.0</td>\n",
              "      <td>8.5</td>\n",
              "      <td>0.28</td>\n",
              "      <td>...</td>\n",
              "      <td>1.8</td>\n",
              "      <td>0.092</td>\n",
              "      <td>35.0</td>\n",
              "      <td>103.0</td>\n",
              "      <td>0.9969</td>\n",
              "      <td>3.30</td>\n",
              "      <td>0.75</td>\n",
              "      <td>10.5</td>\n",
              "      <td>7</td>\n",
              "      <td>red</td>\n",
              "    </tr>\n",
              "  </tbody>\n",
              "</table>\n",
              "<p>5 rows × 21 columns</p>\n",
              "</div>"
            ],
            "text/plain": [
              "               winery                          wine  year  rating  \\\n",
              "0  Vinedos de Paganos                      La Nieta  2015     4.7   \n",
              "1         Emilio Moro     Malleolus de Valderramiro  2016     4.7   \n",
              "2         Emilio Moro     Malleolus de Sanchomartin  2016     4.7   \n",
              "3       Bodegas Mauro  Terreus Paraje de Cueva Baja  2017     4.7   \n",
              "4  Vinedos de Paganos                      La Nieta  2018     4.7   \n",
              "\n",
              "             region   price                  type  body  fixed_acidity  \\\n",
              "0             Rioja   82.58             Rioja Red   4.0            7.9   \n",
              "1  Ribera del Duero   84.95  Ribera Del Duero Red   5.0            7.5   \n",
              "2  Ribera del Duero  116.54  Ribera Del Duero Red   5.0            6.7   \n",
              "3   Castilla y Leon   66.07           Tempranillo   4.0            7.5   \n",
              "4             Rioja   89.90             Rioja Red   4.0            8.5   \n",
              "\n",
              "   volatile_acidity  ...  residual_sugar  chlorides  free_sulfur_dioxide  \\\n",
              "0              0.60  ...             1.6      0.069                 15.0   \n",
              "1              0.50  ...             6.1      0.071                 17.0   \n",
              "2              0.58  ...             1.8      0.097                 15.0   \n",
              "3              0.50  ...             6.1      0.071                 17.0   \n",
              "4              0.28  ...             1.8      0.092                 35.0   \n",
              "\n",
              "   total_sulfur_dioxide  density    pH  sulphates  alcohol  quality  style  \n",
              "0                  59.0   0.9964  3.30       0.46      9.4        5    red  \n",
              "1                 102.0   0.9978  3.35       0.80     10.5        5    red  \n",
              "2                  65.0   0.9959  3.28       0.54      9.2        5    red  \n",
              "3                 102.0   0.9978  3.35       0.80     10.5        5    red  \n",
              "4                 103.0   0.9969  3.30       0.75     10.5        7    red  \n",
              "\n",
              "[5 rows x 21 columns]"
            ]
          },
          "execution_count": 30,
          "metadata": {},
          "output_type": "execute_result"
        }
      ],
      "source": [
        "df_wines = pd.read_csv(WINES_CSV_PATH)\n",
        "\n",
        "df_wines.head()"
      ]
    },
    {
      "cell_type": "markdown",
      "metadata": {},
      "source": [
        "## KNN"
      ]
    },
    {
      "cell_type": "code",
      "execution_count": 31,
      "metadata": {
        "colab": {
          "base_uri": "https://localhost:8080/"
        },
        "id": "qXdsgzR7_uWD",
        "outputId": "105767f3-2d29-4382-c81f-2acf00e69dfa"
      },
      "outputs": [
        {
          "name": "stdout",
          "output_type": "stream",
          "text": [
            "36.90931702614465 2013.9277877518452\n"
          ]
        }
      ],
      "source": [
        "# Se toma como punto de referencia el promedio del año y de la edad \n",
        "price_Prom = df_wines['price'].mean()\n",
        "year_Prom = df_wines['year'].mean()\t\n",
        "print(price_Prom,year_Prom)\n",
        "Punto = {'price' : [price_Prom],\n",
        "        'year': [year_Prom]}"
      ]
    },
    {
      "cell_type": "code",
      "execution_count": 32,
      "metadata": {},
      "outputs": [
        {
          "data": {
            "text/html": [
              "<div>\n",
              "<style scoped>\n",
              "    .dataframe tbody tr th:only-of-type {\n",
              "        vertical-align: middle;\n",
              "    }\n",
              "\n",
              "    .dataframe tbody tr th {\n",
              "        vertical-align: top;\n",
              "    }\n",
              "\n",
              "    .dataframe thead th {\n",
              "        text-align: right;\n",
              "    }\n",
              "</style>\n",
              "<table border=\"1\" class=\"dataframe\">\n",
              "  <thead>\n",
              "    <tr style=\"text-align: right;\">\n",
              "      <th></th>\n",
              "      <th>price</th>\n",
              "      <th>year</th>\n",
              "    </tr>\n",
              "  </thead>\n",
              "  <tbody>\n",
              "    <tr>\n",
              "      <th>0</th>\n",
              "      <td>36.909317</td>\n",
              "      <td>2013.927788</td>\n",
              "    </tr>\n",
              "  </tbody>\n",
              "</table>\n",
              "</div>"
            ],
            "text/plain": [
              "       price         year\n",
              "0  36.909317  2013.927788"
            ]
          },
          "execution_count": 32,
          "metadata": {},
          "output_type": "execute_result"
        }
      ],
      "source": [
        "punto_nuevo = pd.DataFrame(Punto)\n",
        "punto_nuevo"
      ]
    },
    {
      "cell_type": "code",
      "execution_count": 33,
      "metadata": {
        "colab": {
          "base_uri": "https://localhost:8080/"
        },
        "id": "rXMzOoIxKkp7",
        "outputId": "d1f911e5-32f7-46fc-872e-2e7f425b6e98"
      },
      "outputs": [
        {
          "name": "stderr",
          "output_type": "stream",
          "text": [
            "c:\\Users\\cvigo\\.conda\\envs\\vinos_coderhouse\\lib\\site-packages\\sklearn\\neighbors\\_classification.py:198: DataConversionWarning: A column-vector y was passed when a 1d array was expected. Please change the shape of y to (n_samples,), for example using ravel().\n",
            "  return self._fit(X, y)\n"
          ]
        },
        {
          "data": {
            "text/plain": [
              "KNeighborsClassifier(n_neighbors=3)"
            ]
          },
          "execution_count": 33,
          "metadata": {},
          "output_type": "execute_result"
        }
      ],
      "source": [
        "knn = KNeighborsClassifier(n_neighbors=3)\n",
        "X = df_wines[['price', 'year']]\n",
        "y = df_wines[['quality']]\n",
        "\n",
        "knn.fit(X, y)"
      ]
    },
    {
      "cell_type": "code",
      "execution_count": 34,
      "metadata": {
        "colab": {
          "base_uri": "https://localhost:8080/",
          "height": 435
        },
        "id": "zlZPX8yeLqjy",
        "outputId": "18da31ba-15f1-4dba-bbe9-bdd376ab9c49"
      },
      "outputs": [
        {
          "name": "stdout",
          "output_type": "stream",
          "text": [
            "Se puede observar que el valor de quality predecido es [6] en base a tres vecinos cercanos, es decir que para el punto observado la mayoria de vecinos tienen un quality igual 6\n"
          ]
        }
      ],
      "source": [
        "prediccion = knn.predict(punto_nuevo)\n",
        "print(f\"Se puede observar que el valor de quality predecido es {prediccion} en base a tres vecinos cercanos, es decir que para el punto observado la mayoria de vecinos tienen un quality igual 6\")"
      ]
    },
    {
      "cell_type": "markdown",
      "metadata": {},
      "source": [
        "## Random Forest"
      ]
    },
    {
      "cell_type": "code",
      "execution_count": 35,
      "metadata": {},
      "outputs": [],
      "source": [
        "# convertir el tipo de dato de la columna quality a categorical\n",
        "df_wines.quality = df_wines.quality.astype('category')\n",
        "# Retiramos las columnas que no van a ser parte de nuestro analisis\n",
        "df_wines = df_wines.drop(['body', 'rating'], axis=1)"
      ]
    },
    {
      "cell_type": "code",
      "execution_count": 36,
      "metadata": {},
      "outputs": [],
      "source": [
        "# Nuevo dataframe con solo las columnas de tipo numericas\n",
        "df_wine_numeric = df_wines.select_dtypes(include=['float64', 'int64'])"
      ]
    },
    {
      "cell_type": "code",
      "execution_count": 37,
      "metadata": {},
      "outputs": [
        {
          "name": "stdout",
          "output_type": "stream",
          "text": [
            "<class 'pandas.core.frame.DataFrame'>\n",
            "RangeIndex: 5013 entries, 0 to 5012\n",
            "Data columns (total 13 columns):\n",
            " #   Column                Non-Null Count  Dtype  \n",
            "---  ------                --------------  -----  \n",
            " 0   year                  5013 non-null   int64  \n",
            " 1   price                 5013 non-null   float64\n",
            " 2   fixed_acidity         5013 non-null   float64\n",
            " 3   volatile_acidity      5013 non-null   float64\n",
            " 4   citric_acid           5013 non-null   float64\n",
            " 5   residual_sugar        5013 non-null   float64\n",
            " 6   chlorides             5013 non-null   float64\n",
            " 7   free_sulfur_dioxide   5013 non-null   float64\n",
            " 8   total_sulfur_dioxide  5013 non-null   float64\n",
            " 9   density               5013 non-null   float64\n",
            " 10  pH                    5013 non-null   float64\n",
            " 11  sulphates             5013 non-null   float64\n",
            " 12  alcohol               5013 non-null   float64\n",
            "dtypes: float64(12), int64(1)\n",
            "memory usage: 509.3 KB\n"
          ]
        }
      ],
      "source": [
        "df_wine_numeric.info()"
      ]
    },
    {
      "cell_type": "markdown",
      "metadata": {},
      "source": [
        "**Insights**:\n",
        "\n",
        "* El dataset se compone de 19 columnas de las cuales 18 corresponden a variables independientes, que usaremos para predecir el target.\n",
        "\n",
        "* `quality` es la variable a predecir. Todas las variables no tiene valores nulos."
      ]
    },
    {
      "cell_type": "code",
      "execution_count": 38,
      "metadata": {},
      "outputs": [],
      "source": [
        "#Separamos en X e y\n",
        "X = df_wine_numeric\n",
        "y = df_wines[\"quality\"]"
      ]
    },
    {
      "cell_type": "code",
      "execution_count": 39,
      "metadata": {},
      "outputs": [],
      "source": [
        "#Separamos en train y test!\n",
        "(X_train, X_test,\n",
        "y_train, y_test) = train_test_split(X,\n",
        "                                    y,\n",
        "                                    stratify=y,\n",
        "                                    test_size=0.30,\n",
        "                                    random_state=11)"
      ]
    },
    {
      "cell_type": "markdown",
      "metadata": {},
      "source": [
        "### Arbol de decision"
      ]
    },
    {
      "cell_type": "code",
      "execution_count": 40,
      "metadata": {},
      "outputs": [
        {
          "data": {
            "text/plain": [
              "DecisionTreeClassifier(random_state=11)"
            ]
          },
          "execution_count": 40,
          "metadata": {},
          "output_type": "execute_result"
        }
      ],
      "source": [
        "#Creamos un arbol de decisión sencillo y lo fiteamos\n",
        "tree = DecisionTreeClassifier(random_state=11)\n",
        "tree.fit(X_train, y_train)"
      ]
    },
    {
      "cell_type": "code",
      "execution_count": 41,
      "metadata": {},
      "outputs": [],
      "source": [
        "#Prediccion en Test\n",
        "y_test_pred = tree.predict(X_test) "
      ]
    },
    {
      "cell_type": "code",
      "execution_count": 47,
      "metadata": {},
      "outputs": [
        {
          "name": "stdout",
          "output_type": "stream",
          "text": [
            "% de aciertos sobre el set de evaluación: 68.684%\n"
          ]
        }
      ],
      "source": [
        "#Calculo el accuracy en Test\n",
        "test_accuracy = accuracy_score(y_test, y_test_pred)\n",
        "\n",
        "print(f'% de aciertos sobre el set de evaluación: {round(test_accuracy*100,3)}%')"
      ]
    },
    {
      "cell_type": "markdown",
      "metadata": {},
      "source": [
        "###  Random Forest"
      ]
    },
    {
      "cell_type": "code",
      "execution_count": 43,
      "metadata": {},
      "outputs": [
        {
          "data": {
            "text/plain": [
              "RandomForestClassifier(class_weight='balanced', max_features='log2',\n",
              "                       n_estimators=200, random_state=11)"
            ]
          },
          "execution_count": 43,
          "metadata": {},
          "output_type": "execute_result"
        }
      ],
      "source": [
        "#Creamos un random forest!\n",
        "model = RandomForestClassifier(random_state=11, n_estimators=200,\n",
        "                               class_weight=\"balanced\", max_features=\"log2\")\n",
        "model.fit(X_train, y_train)"
      ]
    },
    {
      "cell_type": "code",
      "execution_count": 44,
      "metadata": {},
      "outputs": [],
      "source": [
        "#Prediccion en Test\n",
        "y_test_pred = model.predict(X_test) "
      ]
    },
    {
      "cell_type": "code",
      "execution_count": 46,
      "metadata": {},
      "outputs": [
        {
          "name": "stdout",
          "output_type": "stream",
          "text": [
            "% de aciertos sobre el set de evaluación: 68.684%\n"
          ]
        }
      ],
      "source": [
        "#Calculo el accuracy en Test\n",
        "test_accuracy = accuracy_score(y_test, y_test_pred)\n",
        "\n",
        "print(f'% de aciertos sobre el set de evaluación: {round(test_accuracy*100,3)}%')"
      ]
    }
  ],
  "metadata": {
    "colab": {
      "name": "Untitled2.ipynb",
      "provenance": []
    },
    "kernelspec": {
      "display_name": "Python 3.9.12 ('vinos_coderhouse')",
      "language": "python",
      "name": "python3"
    },
    "language_info": {
      "codemirror_mode": {
        "name": "ipython",
        "version": 3
      },
      "file_extension": ".py",
      "mimetype": "text/x-python",
      "name": "python",
      "nbconvert_exporter": "python",
      "pygments_lexer": "ipython3",
      "version": "3.9.12"
    },
    "vscode": {
      "interpreter": {
        "hash": "8a9aaa9b1418154e921653208df6805fa10bbf52c1a504240ba40699d5f106f5"
      }
    }
  },
  "nbformat": 4,
  "nbformat_minor": 0
}
