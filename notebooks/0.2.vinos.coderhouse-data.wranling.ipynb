{
 "cells": [
  {
   "cell_type": "markdown",
   "metadata": {},
   "source": [
    "# 0.2 Data Wranling"
   ]
  },
  {
   "cell_type": "markdown",
   "metadata": {},
   "source": [
    "- Consiste en la manipulación,limpiezay unificación de conjuntos de datos complejos y desordenados para facilitar su acceso,análisis y modelado.El\n",
    "proceso incluye convertir y mapear los datos crudos,y dejarlos en un formato más adecuado para su uso.\n",
    "- Tenemos consideración especial es este apartado ya que entendemos que aproximadamente el 60% del esfuerzo de un trabajo de Data Science\n",
    "consiste en Data Wrangling.\n",
    "- Las etapas se componen en descubrimiento, estructuración, limpieza,enriquecimiento, validación, pubicación."
   ]
  },
  {
   "cell_type": "markdown",
   "metadata": {},
   "source": [
    "## Import libraries"
   ]
  },
  {
   "cell_type": "code",
   "execution_count": 12,
   "metadata": {},
   "outputs": [
    {
     "name": "stdout",
     "output_type": "stream",
     "text": [
      "The autoreload extension is already loaded. To reload it, use:\n",
      "  %reload_ext autoreload\n"
     ]
    }
   ],
   "source": [
    "# Sirve para actualizar el modulo despues de haber cambiado algo en el codigo de los modulos importados\n",
    "%load_ext autoreload\n",
    "%autoreload 2"
   ]
  },
  {
   "cell_type": "code",
   "execution_count": 13,
   "metadata": {},
   "outputs": [],
   "source": [
    "# Imports\n",
    "import pandas as pd\n",
    "import numpy as np\n",
    "import matplotlib.pyplot as plt\n",
    "import seaborn as sns\n",
    "%matplotlib inline\n",
    "# Modulo para trabajar con los directorios del proyecto\n",
    "from src.utils.paths import data_dir"
   ]
  },
  {
   "cell_type": "markdown",
   "metadata": {},
   "source": [
    "## Set up"
   ]
  },
  {
   "cell_type": "code",
   "execution_count": 14,
   "metadata": {},
   "outputs": [],
   "source": [
    "# Configuracion de opciones\n",
    "# Configuramos para que muestre siempre todas las columnas disponibles\n",
    "pd.options.display.max_columns = None\n",
    "# Cambio del tamaño de los plots para seaborn\n",
    "sns.set(rc={'figure.figsize':(10,5)})"
   ]
  },
  {
   "cell_type": "markdown",
   "metadata": {},
   "source": [
    "## Read Data"
   ]
  },
  {
   "cell_type": "code",
   "execution_count": 15,
   "metadata": {},
   "outputs": [
    {
     "data": {
      "text/plain": [
       "(WindowsPath('c:/Users/cvigo/data-projects/vinos_coderhouse/data/raw/wine_dataset.csv'),\n",
       " WindowsPath('c:/Users/cvigo/data-projects/vinos_coderhouse/data/raw/wines_SPA.csv'))"
      ]
     },
     "execution_count": 15,
     "metadata": {},
     "output_type": "execute_result"
    }
   ],
   "source": [
    "# Obtenemos la ruta de los csv's que vamos a utilizar\n",
    "WINE_RAW_CSV_PATH = data_dir(\"raw\", \"wine_dataset.csv\")\n",
    "WINES_SPA_RAW_CSV_PATH = data_dir(\"raw\", \"wines_SPA.csv\")\n",
    "\n",
    "WINE_RAW_CSV_PATH , WINES_SPA_RAW_CSV_PATH"
   ]
  },
  {
   "cell_type": "code",
   "execution_count": 16,
   "metadata": {},
   "outputs": [],
   "source": [
    "# Leemos los csv's y los guardamos en un dataframe\n",
    "df_wine = pd.read_csv(WINE_RAW_CSV_PATH)\n",
    "df_wine_spa = pd.read_csv(WINES_SPA_RAW_CSV_PATH)"
   ]
  },
  {
   "cell_type": "markdown",
   "metadata": {},
   "source": [
    "### SETUP"
   ]
  },
  {
   "cell_type": "code",
   "execution_count": 31,
   "metadata": {},
   "outputs": [],
   "source": [
    "COLOR = \"#7C3030\""
   ]
  },
  {
   "cell_type": "markdown",
   "metadata": {},
   "source": [
    "Como tenemos dos datasets vamos a trabajarlos por separado en primera instancia para ver como los podemos unificar luego y hacer un analisis integrado"
   ]
  },
  {
   "cell_type": "markdown",
   "metadata": {},
   "source": [
    "## Wine Dataset"
   ]
  },
  {
   "cell_type": "code",
   "execution_count": 18,
   "metadata": {},
   "outputs": [
    {
     "data": {
      "text/html": [
       "<div>\n",
       "<style scoped>\n",
       "    .dataframe tbody tr th:only-of-type {\n",
       "        vertical-align: middle;\n",
       "    }\n",
       "\n",
       "    .dataframe tbody tr th {\n",
       "        vertical-align: top;\n",
       "    }\n",
       "\n",
       "    .dataframe thead th {\n",
       "        text-align: right;\n",
       "    }\n",
       "</style>\n",
       "<table border=\"1\" class=\"dataframe\">\n",
       "  <thead>\n",
       "    <tr style=\"text-align: right;\">\n",
       "      <th></th>\n",
       "      <th>fixed_acidity</th>\n",
       "      <th>volatile_acidity</th>\n",
       "      <th>citric_acid</th>\n",
       "      <th>residual_sugar</th>\n",
       "      <th>chlorides</th>\n",
       "      <th>free_sulfur_dioxide</th>\n",
       "      <th>total_sulfur_dioxide</th>\n",
       "      <th>density</th>\n",
       "      <th>pH</th>\n",
       "      <th>sulphates</th>\n",
       "      <th>alcohol</th>\n",
       "      <th>quality</th>\n",
       "      <th>style</th>\n",
       "    </tr>\n",
       "  </thead>\n",
       "  <tbody>\n",
       "    <tr>\n",
       "      <th>4564</th>\n",
       "      <td>5.5</td>\n",
       "      <td>0.340</td>\n",
       "      <td>0.26</td>\n",
       "      <td>2.2</td>\n",
       "      <td>0.021</td>\n",
       "      <td>31.0</td>\n",
       "      <td>119.0</td>\n",
       "      <td>0.98919</td>\n",
       "      <td>3.55</td>\n",
       "      <td>0.49</td>\n",
       "      <td>13.0</td>\n",
       "      <td>8</td>\n",
       "      <td>white</td>\n",
       "    </tr>\n",
       "    <tr>\n",
       "      <th>4968</th>\n",
       "      <td>7.0</td>\n",
       "      <td>0.220</td>\n",
       "      <td>0.28</td>\n",
       "      <td>10.6</td>\n",
       "      <td>0.039</td>\n",
       "      <td>32.0</td>\n",
       "      <td>117.0</td>\n",
       "      <td>0.99355</td>\n",
       "      <td>3.05</td>\n",
       "      <td>0.55</td>\n",
       "      <td>11.5</td>\n",
       "      <td>7</td>\n",
       "      <td>white</td>\n",
       "    </tr>\n",
       "    <tr>\n",
       "      <th>4087</th>\n",
       "      <td>7.9</td>\n",
       "      <td>0.270</td>\n",
       "      <td>0.27</td>\n",
       "      <td>1.7</td>\n",
       "      <td>0.034</td>\n",
       "      <td>25.0</td>\n",
       "      <td>122.0</td>\n",
       "      <td>0.99088</td>\n",
       "      <td>2.97</td>\n",
       "      <td>0.51</td>\n",
       "      <td>11.9</td>\n",
       "      <td>6</td>\n",
       "      <td>white</td>\n",
       "    </tr>\n",
       "    <tr>\n",
       "      <th>3060</th>\n",
       "      <td>6.4</td>\n",
       "      <td>0.145</td>\n",
       "      <td>0.49</td>\n",
       "      <td>5.4</td>\n",
       "      <td>0.048</td>\n",
       "      <td>54.0</td>\n",
       "      <td>164.0</td>\n",
       "      <td>0.99460</td>\n",
       "      <td>3.56</td>\n",
       "      <td>0.44</td>\n",
       "      <td>10.8</td>\n",
       "      <td>6</td>\n",
       "      <td>white</td>\n",
       "    </tr>\n",
       "    <tr>\n",
       "      <th>1442</th>\n",
       "      <td>6.9</td>\n",
       "      <td>0.630</td>\n",
       "      <td>0.02</td>\n",
       "      <td>1.9</td>\n",
       "      <td>0.078</td>\n",
       "      <td>18.0</td>\n",
       "      <td>30.0</td>\n",
       "      <td>0.99712</td>\n",
       "      <td>3.40</td>\n",
       "      <td>0.75</td>\n",
       "      <td>9.8</td>\n",
       "      <td>5</td>\n",
       "      <td>red</td>\n",
       "    </tr>\n",
       "    <tr>\n",
       "      <th>5322</th>\n",
       "      <td>5.7</td>\n",
       "      <td>0.265</td>\n",
       "      <td>0.28</td>\n",
       "      <td>6.9</td>\n",
       "      <td>0.036</td>\n",
       "      <td>46.0</td>\n",
       "      <td>150.0</td>\n",
       "      <td>0.99299</td>\n",
       "      <td>3.36</td>\n",
       "      <td>0.44</td>\n",
       "      <td>10.8</td>\n",
       "      <td>7</td>\n",
       "      <td>white</td>\n",
       "    </tr>\n",
       "    <tr>\n",
       "      <th>1771</th>\n",
       "      <td>7.6</td>\n",
       "      <td>0.480</td>\n",
       "      <td>0.37</td>\n",
       "      <td>0.8</td>\n",
       "      <td>0.037</td>\n",
       "      <td>4.0</td>\n",
       "      <td>100.0</td>\n",
       "      <td>0.99020</td>\n",
       "      <td>3.03</td>\n",
       "      <td>0.39</td>\n",
       "      <td>11.4</td>\n",
       "      <td>4</td>\n",
       "      <td>white</td>\n",
       "    </tr>\n",
       "    <tr>\n",
       "      <th>5091</th>\n",
       "      <td>6.0</td>\n",
       "      <td>0.280</td>\n",
       "      <td>0.27</td>\n",
       "      <td>15.5</td>\n",
       "      <td>0.036</td>\n",
       "      <td>31.0</td>\n",
       "      <td>134.0</td>\n",
       "      <td>0.99408</td>\n",
       "      <td>3.19</td>\n",
       "      <td>0.44</td>\n",
       "      <td>13.0</td>\n",
       "      <td>7</td>\n",
       "      <td>white</td>\n",
       "    </tr>\n",
       "    <tr>\n",
       "      <th>2355</th>\n",
       "      <td>5.8</td>\n",
       "      <td>0.250</td>\n",
       "      <td>0.28</td>\n",
       "      <td>11.1</td>\n",
       "      <td>0.056</td>\n",
       "      <td>45.0</td>\n",
       "      <td>175.0</td>\n",
       "      <td>0.99755</td>\n",
       "      <td>3.42</td>\n",
       "      <td>0.43</td>\n",
       "      <td>9.5</td>\n",
       "      <td>5</td>\n",
       "      <td>white</td>\n",
       "    </tr>\n",
       "    <tr>\n",
       "      <th>4023</th>\n",
       "      <td>6.2</td>\n",
       "      <td>0.440</td>\n",
       "      <td>0.18</td>\n",
       "      <td>7.7</td>\n",
       "      <td>0.096</td>\n",
       "      <td>28.0</td>\n",
       "      <td>210.0</td>\n",
       "      <td>0.99771</td>\n",
       "      <td>3.56</td>\n",
       "      <td>0.72</td>\n",
       "      <td>9.2</td>\n",
       "      <td>5</td>\n",
       "      <td>white</td>\n",
       "    </tr>\n",
       "  </tbody>\n",
       "</table>\n",
       "</div>"
      ],
      "text/plain": [
       "      fixed_acidity  volatile_acidity  citric_acid  residual_sugar  chlorides  \\\n",
       "4564            5.5             0.340         0.26             2.2      0.021   \n",
       "4968            7.0             0.220         0.28            10.6      0.039   \n",
       "4087            7.9             0.270         0.27             1.7      0.034   \n",
       "3060            6.4             0.145         0.49             5.4      0.048   \n",
       "1442            6.9             0.630         0.02             1.9      0.078   \n",
       "5322            5.7             0.265         0.28             6.9      0.036   \n",
       "1771            7.6             0.480         0.37             0.8      0.037   \n",
       "5091            6.0             0.280         0.27            15.5      0.036   \n",
       "2355            5.8             0.250         0.28            11.1      0.056   \n",
       "4023            6.2             0.440         0.18             7.7      0.096   \n",
       "\n",
       "      free_sulfur_dioxide  total_sulfur_dioxide  density    pH  sulphates  \\\n",
       "4564                 31.0                 119.0  0.98919  3.55       0.49   \n",
       "4968                 32.0                 117.0  0.99355  3.05       0.55   \n",
       "4087                 25.0                 122.0  0.99088  2.97       0.51   \n",
       "3060                 54.0                 164.0  0.99460  3.56       0.44   \n",
       "1442                 18.0                  30.0  0.99712  3.40       0.75   \n",
       "5322                 46.0                 150.0  0.99299  3.36       0.44   \n",
       "1771                  4.0                 100.0  0.99020  3.03       0.39   \n",
       "5091                 31.0                 134.0  0.99408  3.19       0.44   \n",
       "2355                 45.0                 175.0  0.99755  3.42       0.43   \n",
       "4023                 28.0                 210.0  0.99771  3.56       0.72   \n",
       "\n",
       "      alcohol  quality  style  \n",
       "4564     13.0        8  white  \n",
       "4968     11.5        7  white  \n",
       "4087     11.9        6  white  \n",
       "3060     10.8        6  white  \n",
       "1442      9.8        5    red  \n",
       "5322     10.8        7  white  \n",
       "1771     11.4        4  white  \n",
       "5091     13.0        7  white  \n",
       "2355      9.5        5  white  \n",
       "4023      9.2        5  white  "
      ]
     },
     "execution_count": 18,
     "metadata": {},
     "output_type": "execute_result"
    }
   ],
   "source": [
    "# Vista previa de 10 datos aleatorios\n",
    "df_wine.sample(10)"
   ]
  },
  {
   "cell_type": "markdown",
   "metadata": {},
   "source": [
    "### Descubrimiento y estructuración\n",
    "- Comprender los datos la estructura, tipos y calidad"
   ]
  },
  {
   "cell_type": "code",
   "execution_count": 19,
   "metadata": {},
   "outputs": [
    {
     "name": "stdout",
     "output_type": "stream",
     "text": [
      "df_wine.shape =(6497, 13)\n"
     ]
    }
   ],
   "source": [
    "# Shape de los datos\n",
    "print(f\"{df_wine.shape =}\")"
   ]
  },
  {
   "cell_type": "code",
   "execution_count": 21,
   "metadata": {},
   "outputs": [
    {
     "name": "stdout",
     "output_type": "stream",
     "text": [
      "<class 'pandas.core.frame.DataFrame'>\n",
      "RangeIndex: 6497 entries, 0 to 6496\n",
      "Data columns (total 13 columns):\n",
      " #   Column                Non-Null Count  Dtype  \n",
      "---  ------                --------------  -----  \n",
      " 0   fixed_acidity         6497 non-null   float64\n",
      " 1   volatile_acidity      6497 non-null   float64\n",
      " 2   citric_acid           6497 non-null   float64\n",
      " 3   residual_sugar        6497 non-null   float64\n",
      " 4   chlorides             6497 non-null   float64\n",
      " 5   free_sulfur_dioxide   6497 non-null   float64\n",
      " 6   total_sulfur_dioxide  6497 non-null   float64\n",
      " 7   density               6497 non-null   float64\n",
      " 8   pH                    6497 non-null   float64\n",
      " 9   sulphates             6497 non-null   float64\n",
      " 10  alcohol               6497 non-null   float64\n",
      " 11  quality               6497 non-null   int64  \n",
      " 12  style                 6497 non-null   object \n",
      "dtypes: float64(11), int64(1), object(1)\n",
      "memory usage: 660.0+ KB\n"
     ]
    }
   ],
   "source": [
    "# Obtenemos información de las columnas de los datos\n",
    "df_wine.info()"
   ]
  },
  {
   "cell_type": "code",
   "execution_count": 32,
   "metadata": {},
   "outputs": [
    {
     "data": {
      "text/plain": [
       "<AxesSubplot:>"
      ]
     },
     "execution_count": 32,
     "metadata": {},
     "output_type": "execute_result"
    },
    {
     "data": {
      "image/png": "[encoded data removed]",
      "text/plain": [
       "<Figure size 1728x720 with 3 Axes>"
      ]
     },
     "metadata": {},
     "output_type": "display_data"
    }
   ],
   "source": [
    "# Visualizamos los missings utilizando la libreria missingno\n",
    "import missingno as msno\n",
    "msno.bar(df_wine, color= COLOR)\n"
   ]
  },
  {
   "cell_type": "markdown",
   "metadata": {},
   "source": [
    "### Limpieza de datos\n",
    "- Outliers\n",
    "- Missing values"
   ]
  },
  {
   "cell_type": "markdown",
   "metadata": {},
   "source": [
    "### Outliers Data\n",
    "- Para detectar outliers podemos utilizar gráficos del tipo BoxPloty scatterplot.\n",
    "- Lo primero que hacemos es detectar las correlaciones más fuertes con el output SalePrice.\n",
    "- Centraremos nuestros esfuerzos en quitar los outliers de las 3 correlaciones mas fuertes con SalePrice(Overall Qual,Gr Liv AreayGarage Cars)."
   ]
  },
  {
   "cell_type": "code",
   "execution_count": 37,
   "metadata": {},
   "outputs": [
    {
     "data": {
      "text/plain": [
       "quality                 1.000000\n",
       "alcohol                 0.444319\n",
       "citric_acid             0.085532\n",
       "free_sulfur_dioxide     0.055463\n",
       "sulphates               0.038485\n",
       "pH                      0.019506\n",
       "residual_sugar         -0.036980\n",
       "total_sulfur_dioxide   -0.041385\n",
       "fixed_acidity          -0.076743\n",
       "chlorides              -0.200666\n",
       "volatile_acidity       -0.265699\n",
       "density                -0.305858\n",
       "Name: quality, dtype: float64"
      ]
     },
     "execution_count": 37,
     "metadata": {},
     "output_type": "execute_result"
    }
   ],
   "source": [
    "df_wine.corr()[\"quality\"].sort_values(ascending=False)"
   ]
  },
  {
   "cell_type": "code",
   "execution_count": 40,
   "metadata": {},
   "outputs": [
    {
     "data": {
      "image/png": "[encoded data removed]",
      "text/plain": [
       "<Figure size 720x432 with 1 Axes>"
      ]
     },
     "metadata": {},
     "output_type": "display_data"
    }
   ],
   "source": [
    "plt.figure(figsize=(10,6))\n",
    "sns.scatterplot(data=df_wine, x='quality', y='alcohol')\n",
    "plt.axhline(y=14.5,color='r')\n",
    "plt.axhline(y=11,color='r')\n",
    "plt.axhline(y=8.3,color='r')\n",
    "plt.show()"
   ]
  },
  {
   "cell_type": "markdown",
   "metadata": {},
   "source": [
    "## Wine SPA Dataset"
   ]
  },
  {
   "cell_type": "code",
   "execution_count": 20,
   "metadata": {},
   "outputs": [
    {
     "data": {
      "text/html": [
       "<div>\n",
       "<style scoped>\n",
       "    .dataframe tbody tr th:only-of-type {\n",
       "        vertical-align: middle;\n",
       "    }\n",
       "\n",
       "    .dataframe tbody tr th {\n",
       "        vertical-align: top;\n",
       "    }\n",
       "\n",
       "    .dataframe thead th {\n",
       "        text-align: right;\n",
       "    }\n",
       "</style>\n",
       "<table border=\"1\" class=\"dataframe\">\n",
       "  <thead>\n",
       "    <tr style=\"text-align: right;\">\n",
       "      <th></th>\n",
       "      <th>winery</th>\n",
       "      <th>wine</th>\n",
       "      <th>year</th>\n",
       "      <th>rating</th>\n",
       "      <th>num_reviews</th>\n",
       "      <th>country</th>\n",
       "      <th>region</th>\n",
       "      <th>price</th>\n",
       "      <th>type</th>\n",
       "      <th>body</th>\n",
       "      <th>acidity</th>\n",
       "    </tr>\n",
       "  </thead>\n",
       "  <tbody>\n",
       "    <tr>\n",
       "      <th>5485</th>\n",
       "      <td>Campillo</td>\n",
       "      <td>Gran Reserva Rioja</td>\n",
       "      <td>2012</td>\n",
       "      <td>4.2</td>\n",
       "      <td>410</td>\n",
       "      <td>Espana</td>\n",
       "      <td>Rioja</td>\n",
       "      <td>22.99</td>\n",
       "      <td>Rioja Red</td>\n",
       "      <td>4.0</td>\n",
       "      <td>3.0</td>\n",
       "    </tr>\n",
       "    <tr>\n",
       "      <th>3348</th>\n",
       "      <td>Sei Solo</td>\n",
       "      <td>Preludio</td>\n",
       "      <td>2016</td>\n",
       "      <td>4.2</td>\n",
       "      <td>388</td>\n",
       "      <td>Espana</td>\n",
       "      <td>Ribera del Duero</td>\n",
       "      <td>31.63</td>\n",
       "      <td>Ribera Del Duero Red</td>\n",
       "      <td>NaN</td>\n",
       "      <td>NaN</td>\n",
       "    </tr>\n",
       "    <tr>\n",
       "      <th>5437</th>\n",
       "      <td>Lustau</td>\n",
       "      <td>Candela Cream Dulce Sweet</td>\n",
       "      <td>N.V.</td>\n",
       "      <td>4.2</td>\n",
       "      <td>405</td>\n",
       "      <td>Espana</td>\n",
       "      <td>Jerez-Xeres-Sherry</td>\n",
       "      <td>7.10</td>\n",
       "      <td>Sherry</td>\n",
       "      <td>4.0</td>\n",
       "      <td>3.0</td>\n",
       "    </tr>\n",
       "    <tr>\n",
       "      <th>6592</th>\n",
       "      <td>Matsu</td>\n",
       "      <td>El Viejo</td>\n",
       "      <td>2019</td>\n",
       "      <td>4.2</td>\n",
       "      <td>400</td>\n",
       "      <td>Espana</td>\n",
       "      <td>Toro</td>\n",
       "      <td>27.89</td>\n",
       "      <td>Toro Red</td>\n",
       "      <td>5.0</td>\n",
       "      <td>3.0</td>\n",
       "    </tr>\n",
       "    <tr>\n",
       "      <th>1760</th>\n",
       "      <td>Valdecuevas</td>\n",
       "      <td>Cuvee Verdejo</td>\n",
       "      <td>2018</td>\n",
       "      <td>4.3</td>\n",
       "      <td>31</td>\n",
       "      <td>Espana</td>\n",
       "      <td>Rueda</td>\n",
       "      <td>12.00</td>\n",
       "      <td>Verdejo</td>\n",
       "      <td>3.0</td>\n",
       "      <td>3.0</td>\n",
       "    </tr>\n",
       "    <tr>\n",
       "      <th>181</th>\n",
       "      <td>Pago de Carraovejas</td>\n",
       "      <td>Cuesta de Las Liebres</td>\n",
       "      <td>2010</td>\n",
       "      <td>4.6</td>\n",
       "      <td>405</td>\n",
       "      <td>Espana</td>\n",
       "      <td>Ribera del Duero</td>\n",
       "      <td>81.50</td>\n",
       "      <td>Ribera Del Duero Red</td>\n",
       "      <td>5.0</td>\n",
       "      <td>3.0</td>\n",
       "    </tr>\n",
       "    <tr>\n",
       "      <th>2433</th>\n",
       "      <td>Bodegas La Horra</td>\n",
       "      <td>Corimbo I</td>\n",
       "      <td>2015</td>\n",
       "      <td>4.2</td>\n",
       "      <td>412</td>\n",
       "      <td>Espana</td>\n",
       "      <td>Ribera del Duero</td>\n",
       "      <td>37.90</td>\n",
       "      <td>Ribera Del Duero Red</td>\n",
       "      <td>5.0</td>\n",
       "      <td>3.0</td>\n",
       "    </tr>\n",
       "    <tr>\n",
       "      <th>4732</th>\n",
       "      <td>La Rioja Alta</td>\n",
       "      <td>Vina Alberdi Crianza</td>\n",
       "      <td>2018</td>\n",
       "      <td>4.2</td>\n",
       "      <td>410</td>\n",
       "      <td>Espana</td>\n",
       "      <td>Rioja</td>\n",
       "      <td>13.58</td>\n",
       "      <td>Rioja Red</td>\n",
       "      <td>4.0</td>\n",
       "      <td>3.0</td>\n",
       "    </tr>\n",
       "    <tr>\n",
       "      <th>2758</th>\n",
       "      <td>Bodegas La Horra</td>\n",
       "      <td>Corimbo I</td>\n",
       "      <td>2015</td>\n",
       "      <td>4.2</td>\n",
       "      <td>412</td>\n",
       "      <td>Espana</td>\n",
       "      <td>Ribera del Duero</td>\n",
       "      <td>37.90</td>\n",
       "      <td>Ribera Del Duero Red</td>\n",
       "      <td>5.0</td>\n",
       "      <td>3.0</td>\n",
       "    </tr>\n",
       "    <tr>\n",
       "      <th>4809</th>\n",
       "      <td>Vina Pedrosa</td>\n",
       "      <td>Gran Reserva</td>\n",
       "      <td>2011</td>\n",
       "      <td>4.2</td>\n",
       "      <td>410</td>\n",
       "      <td>Espana</td>\n",
       "      <td>Ribera del Duero</td>\n",
       "      <td>51.35</td>\n",
       "      <td>Ribera Del Duero Red</td>\n",
       "      <td>5.0</td>\n",
       "      <td>3.0</td>\n",
       "    </tr>\n",
       "  </tbody>\n",
       "</table>\n",
       "</div>"
      ],
      "text/plain": [
       "                   winery                       wine  year  rating  \\\n",
       "5485             Campillo         Gran Reserva Rioja  2012     4.2   \n",
       "3348             Sei Solo                   Preludio  2016     4.2   \n",
       "5437               Lustau  Candela Cream Dulce Sweet  N.V.     4.2   \n",
       "6592                Matsu                   El Viejo  2019     4.2   \n",
       "1760          Valdecuevas              Cuvee Verdejo  2018     4.3   \n",
       "181   Pago de Carraovejas      Cuesta de Las Liebres  2010     4.6   \n",
       "2433     Bodegas La Horra                  Corimbo I  2015     4.2   \n",
       "4732        La Rioja Alta       Vina Alberdi Crianza  2018     4.2   \n",
       "2758     Bodegas La Horra                  Corimbo I  2015     4.2   \n",
       "4809         Vina Pedrosa               Gran Reserva  2011     4.2   \n",
       "\n",
       "      num_reviews country              region  price                  type  \\\n",
       "5485          410  Espana               Rioja  22.99             Rioja Red   \n",
       "3348          388  Espana    Ribera del Duero  31.63  Ribera Del Duero Red   \n",
       "5437          405  Espana  Jerez-Xeres-Sherry   7.10                Sherry   \n",
       "6592          400  Espana                Toro  27.89              Toro Red   \n",
       "1760           31  Espana               Rueda  12.00               Verdejo   \n",
       "181           405  Espana    Ribera del Duero  81.50  Ribera Del Duero Red   \n",
       "2433          412  Espana    Ribera del Duero  37.90  Ribera Del Duero Red   \n",
       "4732          410  Espana               Rioja  13.58             Rioja Red   \n",
       "2758          412  Espana    Ribera del Duero  37.90  Ribera Del Duero Red   \n",
       "4809          410  Espana    Ribera del Duero  51.35  Ribera Del Duero Red   \n",
       "\n",
       "      body  acidity  \n",
       "5485   4.0      3.0  \n",
       "3348   NaN      NaN  \n",
       "5437   4.0      3.0  \n",
       "6592   5.0      3.0  \n",
       "1760   3.0      3.0  \n",
       "181    5.0      3.0  \n",
       "2433   5.0      3.0  \n",
       "4732   4.0      3.0  \n",
       "2758   5.0      3.0  \n",
       "4809   5.0      3.0  "
      ]
     },
     "execution_count": 20,
     "metadata": {},
     "output_type": "execute_result"
    }
   ],
   "source": [
    "# Vista previa de 10 datos aleatorios\n",
    "df_wine_spa.sample(10)"
   ]
  }
 ],
 "metadata": {
  "interpreter": {
   "hash": "8a9aaa9b1418154e921653208df6805fa10bbf52c1a504240ba40699d5f106f5"
  },
  "kernelspec": {
   "display_name": "Python 3.9.12 ('vinos_coderhouse')",
   "language": "python",
   "name": "python3"
  },
  "language_info": {
   "codemirror_mode": {
    "name": "ipython",
    "version": 3
   },
   "file_extension": ".py",
   "mimetype": "text/x-python",
   "name": "python",
   "nbconvert_exporter": "python",
   "pygments_lexer": "ipython3",
   "version": "3.9.12"
  },
  "orig_nbformat": 4
 },
 "nbformat": 4,
 "nbformat_minor": 2
}
