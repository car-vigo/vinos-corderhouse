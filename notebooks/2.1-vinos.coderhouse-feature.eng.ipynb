{
 "cells": [
  {
   "cell_type": "markdown",
   "id": "5b6c726d",
   "metadata": {},
   "source": [
    "# 2.1 PCA (Principal Component Analysis)"
   ]
  },
  {
   "cell_type": "markdown",
   "id": "61c1956b",
   "metadata": {},
   "source": [
    "## Import libraries"
   ]
  },
  {
   "cell_type": "code",
   "execution_count": 2,
   "id": "aa345a09",
   "metadata": {},
   "outputs": [],
   "source": [
    "# Sirve para actualizar el modulo despues de haber cambiado algo en el codigo de los modulos importados\n",
    "%load_ext autoreload\n",
    "%autoreload 2"
   ]
  },
  {
   "cell_type": "code",
   "execution_count": 9,
   "id": "9af94f89",
   "metadata": {},
   "outputs": [],
   "source": [
    "#Importamos las librerias\n",
    "import pandas as pd\n",
    "import numpy as np\n",
    "import matplotlib.pyplot as plt\n",
    "import seaborn as sns\n",
    "from sklearn.decomposition import PCA\n",
    "%matplotlib inline\n",
    "# Modulo para trabajar con los directorios del proyecto\n",
    "from src.utils.paths import data_dir"
   ]
  },
  {
   "cell_type": "code",
   "execution_count": 1,
   "id": "da004814",
   "metadata": {},
   "outputs": [],
   "source": [
    "# Modulos propios del proyecto que se encuentran en el directorio src\n",
    "from src.utils.paths import data_dir\n"
   ]
  },
  {
   "cell_type": "markdown",
   "id": "8f79d30a",
   "metadata": {},
   "source": [
    "## Set up"
   ]
  },
  {
   "cell_type": "code",
   "execution_count": 4,
   "id": "a3f52a3d",
   "metadata": {},
   "outputs": [],
   "source": [
    "# Configuracion de opciones\n",
    "\n",
    "# Configuramos para que muestre siempre todas las columnas disponibles\n",
    "pd.options.display.max_columns = None\n",
    "\n",
    "# Cambio del tamaño de los plots para seaborn\n",
    "sns.set(rc={'figure.figsize':(10,5)})\n",
    "\n",
    "# Definimos el color para los plots\n",
    "COLOR_VINO_TINTO = \"#7C3030\"\n",
    "COLOR__VINO_BLANCO = \"#ffffbf\""
   ]
  },
  {
   "cell_type": "markdown",
   "id": "d47704ac",
   "metadata": {},
   "source": [
    "## Read Data"
   ]
  },
  {
   "cell_type": "code",
   "execution_count": 5,
   "id": "8d15455e",
   "metadata": {},
   "outputs": [
    {
     "data": {
      "text/plain": [
       "WindowsPath('c:/Users/cvigo/data-projects/proyecto-final-vinos/vinos-corderhouse/data/intermediate/df_wine_merged.csv')"
      ]
     },
     "execution_count": 5,
     "metadata": {},
     "output_type": "execute_result"
    }
   ],
   "source": [
    "# Obtenemos la ruta de los csv's que vamos a utilizar\n",
    "WINES_CSV_PATH = data_dir(\"intermediate\", \"df_wine_merged.csv\")\n",
    "\n",
    "WINES_CSV_PATH"
   ]
  },
  {
   "cell_type": "code",
   "execution_count": 6,
   "id": "e68a2d2e",
   "metadata": {},
   "outputs": [],
   "source": [
    "# Leemos los csv's y los guardamos en un dataframe\n",
    "df_wine = pd.read_csv(WINES_CSV_PATH)"
   ]
  },
  {
   "cell_type": "code",
   "execution_count": 7,
   "id": "82bebedf",
   "metadata": {},
   "outputs": [
    {
     "name": "stdout",
     "output_type": "stream",
     "text": [
      "shape_df=(5013, 21)\n"
     ]
    }
   ],
   "source": [
    "shape_df =df_wine.shape\n",
    "print(f\"{shape_df=}\")"
   ]
  },
  {
   "cell_type": "code",
   "execution_count": 8,
   "id": "8b85c98f",
   "metadata": {},
   "outputs": [
    {
     "data": {
      "text/html": [
       "<div>\n",
       "<style scoped>\n",
       "    .dataframe tbody tr th:only-of-type {\n",
       "        vertical-align: middle;\n",
       "    }\n",
       "\n",
       "    .dataframe tbody tr th {\n",
       "        vertical-align: top;\n",
       "    }\n",
       "\n",
       "    .dataframe thead th {\n",
       "        text-align: right;\n",
       "    }\n",
       "</style>\n",
       "<table border=\"1\" class=\"dataframe\">\n",
       "  <thead>\n",
       "    <tr style=\"text-align: right;\">\n",
       "      <th></th>\n",
       "      <th>winery</th>\n",
       "      <th>wine</th>\n",
       "      <th>year</th>\n",
       "      <th>rating</th>\n",
       "      <th>region</th>\n",
       "      <th>price</th>\n",
       "      <th>type</th>\n",
       "      <th>body</th>\n",
       "      <th>fixed_acidity</th>\n",
       "      <th>volatile_acidity</th>\n",
       "      <th>citric_acid</th>\n",
       "      <th>residual_sugar</th>\n",
       "      <th>chlorides</th>\n",
       "      <th>free_sulfur_dioxide</th>\n",
       "      <th>total_sulfur_dioxide</th>\n",
       "      <th>density</th>\n",
       "      <th>pH</th>\n",
       "      <th>sulphates</th>\n",
       "      <th>alcohol</th>\n",
       "      <th>quality</th>\n",
       "      <th>style</th>\n",
       "    </tr>\n",
       "  </thead>\n",
       "  <tbody>\n",
       "    <tr>\n",
       "      <th>0</th>\n",
       "      <td>Vinedos de Paganos</td>\n",
       "      <td>La Nieta</td>\n",
       "      <td>2015</td>\n",
       "      <td>4.7</td>\n",
       "      <td>Rioja</td>\n",
       "      <td>82.58</td>\n",
       "      <td>Rioja Red</td>\n",
       "      <td>4.0</td>\n",
       "      <td>7.9</td>\n",
       "      <td>0.60</td>\n",
       "      <td>0.06</td>\n",
       "      <td>1.6</td>\n",
       "      <td>0.069</td>\n",
       "      <td>15.0</td>\n",
       "      <td>59.0</td>\n",
       "      <td>0.9964</td>\n",
       "      <td>3.30</td>\n",
       "      <td>0.46</td>\n",
       "      <td>9.4</td>\n",
       "      <td>5</td>\n",
       "      <td>red</td>\n",
       "    </tr>\n",
       "    <tr>\n",
       "      <th>1</th>\n",
       "      <td>Emilio Moro</td>\n",
       "      <td>Malleolus de Valderramiro</td>\n",
       "      <td>2016</td>\n",
       "      <td>4.7</td>\n",
       "      <td>Ribera del Duero</td>\n",
       "      <td>84.95</td>\n",
       "      <td>Ribera Del Duero Red</td>\n",
       "      <td>5.0</td>\n",
       "      <td>7.5</td>\n",
       "      <td>0.50</td>\n",
       "      <td>0.36</td>\n",
       "      <td>6.1</td>\n",
       "      <td>0.071</td>\n",
       "      <td>17.0</td>\n",
       "      <td>102.0</td>\n",
       "      <td>0.9978</td>\n",
       "      <td>3.35</td>\n",
       "      <td>0.80</td>\n",
       "      <td>10.5</td>\n",
       "      <td>5</td>\n",
       "      <td>red</td>\n",
       "    </tr>\n",
       "    <tr>\n",
       "      <th>2</th>\n",
       "      <td>Emilio Moro</td>\n",
       "      <td>Malleolus de Sanchomartin</td>\n",
       "      <td>2016</td>\n",
       "      <td>4.7</td>\n",
       "      <td>Ribera del Duero</td>\n",
       "      <td>116.54</td>\n",
       "      <td>Ribera Del Duero Red</td>\n",
       "      <td>5.0</td>\n",
       "      <td>6.7</td>\n",
       "      <td>0.58</td>\n",
       "      <td>0.08</td>\n",
       "      <td>1.8</td>\n",
       "      <td>0.097</td>\n",
       "      <td>15.0</td>\n",
       "      <td>65.0</td>\n",
       "      <td>0.9959</td>\n",
       "      <td>3.28</td>\n",
       "      <td>0.54</td>\n",
       "      <td>9.2</td>\n",
       "      <td>5</td>\n",
       "      <td>red</td>\n",
       "    </tr>\n",
       "    <tr>\n",
       "      <th>3</th>\n",
       "      <td>Bodegas Mauro</td>\n",
       "      <td>Terreus Paraje de Cueva Baja</td>\n",
       "      <td>2017</td>\n",
       "      <td>4.7</td>\n",
       "      <td>Castilla y Leon</td>\n",
       "      <td>66.07</td>\n",
       "      <td>Tempranillo</td>\n",
       "      <td>4.0</td>\n",
       "      <td>7.5</td>\n",
       "      <td>0.50</td>\n",
       "      <td>0.36</td>\n",
       "      <td>6.1</td>\n",
       "      <td>0.071</td>\n",
       "      <td>17.0</td>\n",
       "      <td>102.0</td>\n",
       "      <td>0.9978</td>\n",
       "      <td>3.35</td>\n",
       "      <td>0.80</td>\n",
       "      <td>10.5</td>\n",
       "      <td>5</td>\n",
       "      <td>red</td>\n",
       "    </tr>\n",
       "    <tr>\n",
       "      <th>4</th>\n",
       "      <td>Vinedos de Paganos</td>\n",
       "      <td>La Nieta</td>\n",
       "      <td>2018</td>\n",
       "      <td>4.7</td>\n",
       "      <td>Rioja</td>\n",
       "      <td>89.90</td>\n",
       "      <td>Rioja Red</td>\n",
       "      <td>4.0</td>\n",
       "      <td>8.5</td>\n",
       "      <td>0.28</td>\n",
       "      <td>0.56</td>\n",
       "      <td>1.8</td>\n",
       "      <td>0.092</td>\n",
       "      <td>35.0</td>\n",
       "      <td>103.0</td>\n",
       "      <td>0.9969</td>\n",
       "      <td>3.30</td>\n",
       "      <td>0.75</td>\n",
       "      <td>10.5</td>\n",
       "      <td>7</td>\n",
       "      <td>red</td>\n",
       "    </tr>\n",
       "  </tbody>\n",
       "</table>\n",
       "</div>"
      ],
      "text/plain": [
       "               winery                          wine  year  rating  \\\n",
       "0  Vinedos de Paganos                      La Nieta  2015     4.7   \n",
       "1         Emilio Moro     Malleolus de Valderramiro  2016     4.7   \n",
       "2         Emilio Moro     Malleolus de Sanchomartin  2016     4.7   \n",
       "3       Bodegas Mauro  Terreus Paraje de Cueva Baja  2017     4.7   \n",
       "4  Vinedos de Paganos                      La Nieta  2018     4.7   \n",
       "\n",
       "             region   price                  type  body  fixed_acidity  \\\n",
       "0             Rioja   82.58             Rioja Red   4.0            7.9   \n",
       "1  Ribera del Duero   84.95  Ribera Del Duero Red   5.0            7.5   \n",
       "2  Ribera del Duero  116.54  Ribera Del Duero Red   5.0            6.7   \n",
       "3   Castilla y Leon   66.07           Tempranillo   4.0            7.5   \n",
       "4             Rioja   89.90             Rioja Red   4.0            8.5   \n",
       "\n",
       "   volatile_acidity  citric_acid  residual_sugar  chlorides  \\\n",
       "0              0.60         0.06             1.6      0.069   \n",
       "1              0.50         0.36             6.1      0.071   \n",
       "2              0.58         0.08             1.8      0.097   \n",
       "3              0.50         0.36             6.1      0.071   \n",
       "4              0.28         0.56             1.8      0.092   \n",
       "\n",
       "   free_sulfur_dioxide  total_sulfur_dioxide  density    pH  sulphates  \\\n",
       "0                 15.0                  59.0   0.9964  3.30       0.46   \n",
       "1                 17.0                 102.0   0.9978  3.35       0.80   \n",
       "2                 15.0                  65.0   0.9959  3.28       0.54   \n",
       "3                 17.0                 102.0   0.9978  3.35       0.80   \n",
       "4                 35.0                 103.0   0.9969  3.30       0.75   \n",
       "\n",
       "   alcohol  quality style  \n",
       "0      9.4        5   red  \n",
       "1     10.5        5   red  \n",
       "2      9.2        5   red  \n",
       "3     10.5        5   red  \n",
       "4     10.5        7   red  "
      ]
     },
     "execution_count": 8,
     "metadata": {},
     "output_type": "execute_result"
    }
   ],
   "source": [
    "#Head del df\n",
    "df_wine.head()"
   ]
  },
  {
   "cell_type": "code",
   "execution_count": 11,
   "metadata": {},
   "outputs": [
    {
     "data": {
      "text/plain": [
       "winery                    object\n",
       "wine                      object\n",
       "year                       int64\n",
       "rating                   float64\n",
       "region                    object\n",
       "price                    float64\n",
       "type                      object\n",
       "body                     float64\n",
       "fixed_acidity            float64\n",
       "volatile_acidity         float64\n",
       "citric_acid              float64\n",
       "residual_sugar           float64\n",
       "chlorides                float64\n",
       "free_sulfur_dioxide      float64\n",
       "total_sulfur_dioxide     float64\n",
       "density                  float64\n",
       "pH                       float64\n",
       "sulphates                float64\n",
       "alcohol                  float64\n",
       "quality                 category\n",
       "style                     object\n",
       "dtype: object"
      ]
     },
     "execution_count": 11,
     "metadata": {},
     "output_type": "execute_result"
    }
   ],
   "source": [
    "# convertir el tipo de dato de la columna quality a categorical\n",
    "df_wine.quality = df_wine.quality.astype('category')\n",
    "df_wine.dtypes"
   ]
  },
  {
   "cell_type": "code",
   "execution_count": 12,
   "metadata": {},
   "outputs": [
    {
     "data": {
      "text/plain": [
       "37.900000     203\n",
       "64.500000     201\n",
       "23.950000     200\n",
       "45.000000     200\n",
       "17.500000     199\n",
       "             ... \n",
       "64.990000       1\n",
       "49.200000       1\n",
       "76.500000       1\n",
       "40.300000       1\n",
       "122.667917      1\n",
       "Name: price, Length: 481, dtype: int64"
      ]
     },
     "execution_count": 12,
     "metadata": {},
     "output_type": "execute_result"
    }
   ],
   "source": [
    "df_wine.price.value_counts()"
   ]
  }
 ],
 "metadata": {
  "kernelspec": {
   "display_name": "Python 3.9.12 ('vinos_coderhouse')",
   "language": "python",
   "name": "python3"
  },
  "language_info": {
   "codemirror_mode": {
    "name": "ipython",
    "version": 3
   },
   "file_extension": ".py",
   "mimetype": "text/x-python",
   "name": "python",
   "nbconvert_exporter": "python",
   "pygments_lexer": "ipython3",
   "version": "3.9.12"
  },
  "orig_nbformat": 4,
  "vscode": {
   "interpreter": {
    "hash": "8a9aaa9b1418154e921653208df6805fa10bbf52c1a504240ba40699d5f106f5"
   }
  }
 },
 "nbformat": 4,
 "nbformat_minor": 2
}
